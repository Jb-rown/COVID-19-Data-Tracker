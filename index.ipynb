{
 "cells": [
  {
   "cell_type": "markdown",
   "id": "1a357637",
   "metadata": {},
   "source": [
    "COVID 19 Global Data Tracker\n"
   ]
  },
  {
   "cell_type": "markdown",
   "id": "8f9defc6",
   "metadata": {},
   "source": [
    "Import Libraries"
   ]
  },
  {
   "cell_type": "code",
   "execution_count": 1,
   "id": "c3735363",
   "metadata": {},
   "outputs": [],
   "source": [
    "# # COVID-19 Global Data Analysis\n",
    "# Import required libraries\n",
    "import pandas as pd\n",
    "import numpy as np\n",
    "import matplotlib.pyplot as plt\n",
    "import seaborn as sns\n",
    "import plotly.express as px\n",
    "from datetime import datetime\n",
    "%matplotlib inline"
   ]
  },
  {
   "cell_type": "code",
   "execution_count": 2,
   "id": "615b150f",
   "metadata": {},
   "outputs": [],
   "source": [
    "# Set visualization style\n",
    "plt.style.use('ggplot')\n",
    "plt.rcParams['figure.figsize'] = (12, 6)\n",
    "pd.set_option('display.max_columns', None)"
   ]
  },
  {
   "cell_type": "code",
   "execution_count": null,
   "id": "5f8ed567",
   "metadata": {},
   "outputs": [
    {
     "name": "stdout",
     "output_type": "stream",
     "text": [
      "Data successfully loaded from local file!\n",
      "\n",
      "Dataset contains 429435 rows and 67 columns\n",
      "\n",
      "First 5 rows:\n"
     ]
    },
    {
     "data": {
      "text/html": [
       "<div>\n",
       "<style scoped>\n",
       "    .dataframe tbody tr th:only-of-type {\n",
       "        vertical-align: middle;\n",
       "    }\n",
       "\n",
       "    .dataframe tbody tr th {\n",
       "        vertical-align: top;\n",
       "    }\n",
       "\n",
       "    .dataframe thead th {\n",
       "        text-align: right;\n",
       "    }\n",
       "</style>\n",
       "<table border=\"1\" class=\"dataframe\">\n",
       "  <thead>\n",
       "    <tr style=\"text-align: right;\">\n",
       "      <th></th>\n",
       "      <th>iso_code</th>\n",
       "      <th>continent</th>\n",
       "      <th>location</th>\n",
       "      <th>date</th>\n",
       "      <th>total_cases</th>\n",
       "      <th>new_cases</th>\n",
       "      <th>new_cases_smoothed</th>\n",
       "      <th>total_deaths</th>\n",
       "      <th>new_deaths</th>\n",
       "      <th>new_deaths_smoothed</th>\n",
       "      <th>total_cases_per_million</th>\n",
       "      <th>new_cases_per_million</th>\n",
       "      <th>new_cases_smoothed_per_million</th>\n",
       "      <th>total_deaths_per_million</th>\n",
       "      <th>new_deaths_per_million</th>\n",
       "      <th>new_deaths_smoothed_per_million</th>\n",
       "      <th>reproduction_rate</th>\n",
       "      <th>icu_patients</th>\n",
       "      <th>icu_patients_per_million</th>\n",
       "      <th>hosp_patients</th>\n",
       "      <th>hosp_patients_per_million</th>\n",
       "      <th>weekly_icu_admissions</th>\n",
       "      <th>weekly_icu_admissions_per_million</th>\n",
       "      <th>weekly_hosp_admissions</th>\n",
       "      <th>weekly_hosp_admissions_per_million</th>\n",
       "      <th>total_tests</th>\n",
       "      <th>new_tests</th>\n",
       "      <th>total_tests_per_thousand</th>\n",
       "      <th>new_tests_per_thousand</th>\n",
       "      <th>new_tests_smoothed</th>\n",
       "      <th>new_tests_smoothed_per_thousand</th>\n",
       "      <th>positive_rate</th>\n",
       "      <th>tests_per_case</th>\n",
       "      <th>tests_units</th>\n",
       "      <th>total_vaccinations</th>\n",
       "      <th>people_vaccinated</th>\n",
       "      <th>people_fully_vaccinated</th>\n",
       "      <th>total_boosters</th>\n",
       "      <th>new_vaccinations</th>\n",
       "      <th>new_vaccinations_smoothed</th>\n",
       "      <th>total_vaccinations_per_hundred</th>\n",
       "      <th>people_vaccinated_per_hundred</th>\n",
       "      <th>people_fully_vaccinated_per_hundred</th>\n",
       "      <th>total_boosters_per_hundred</th>\n",
       "      <th>new_vaccinations_smoothed_per_million</th>\n",
       "      <th>new_people_vaccinated_smoothed</th>\n",
       "      <th>new_people_vaccinated_smoothed_per_hundred</th>\n",
       "      <th>stringency_index</th>\n",
       "      <th>population_density</th>\n",
       "      <th>median_age</th>\n",
       "      <th>aged_65_older</th>\n",
       "      <th>aged_70_older</th>\n",
       "      <th>gdp_per_capita</th>\n",
       "      <th>extreme_poverty</th>\n",
       "      <th>cardiovasc_death_rate</th>\n",
       "      <th>diabetes_prevalence</th>\n",
       "      <th>female_smokers</th>\n",
       "      <th>male_smokers</th>\n",
       "      <th>handwashing_facilities</th>\n",
       "      <th>hospital_beds_per_thousand</th>\n",
       "      <th>life_expectancy</th>\n",
       "      <th>human_development_index</th>\n",
       "      <th>population</th>\n",
       "      <th>excess_mortality_cumulative_absolute</th>\n",
       "      <th>excess_mortality_cumulative</th>\n",
       "      <th>excess_mortality</th>\n",
       "      <th>excess_mortality_cumulative_per_million</th>\n",
       "    </tr>\n",
       "  </thead>\n",
       "  <tbody>\n",
       "    <tr>\n",
       "      <th>0</th>\n",
       "      <td>AFG</td>\n",
       "      <td>Asia</td>\n",
       "      <td>Afghanistan</td>\n",
       "      <td>2020-01-05</td>\n",
       "      <td>0.0</td>\n",
       "      <td>0.0</td>\n",
       "      <td>NaN</td>\n",
       "      <td>0.0</td>\n",
       "      <td>0.0</td>\n",
       "      <td>NaN</td>\n",
       "      <td>0.0</td>\n",
       "      <td>0.0</td>\n",
       "      <td>NaN</td>\n",
       "      <td>0.0</td>\n",
       "      <td>0.0</td>\n",
       "      <td>NaN</td>\n",
       "      <td>NaN</td>\n",
       "      <td>NaN</td>\n",
       "      <td>NaN</td>\n",
       "      <td>NaN</td>\n",
       "      <td>NaN</td>\n",
       "      <td>NaN</td>\n",
       "      <td>NaN</td>\n",
       "      <td>NaN</td>\n",
       "      <td>NaN</td>\n",
       "      <td>NaN</td>\n",
       "      <td>NaN</td>\n",
       "      <td>NaN</td>\n",
       "      <td>NaN</td>\n",
       "      <td>NaN</td>\n",
       "      <td>NaN</td>\n",
       "      <td>NaN</td>\n",
       "      <td>NaN</td>\n",
       "      <td>NaN</td>\n",
       "      <td>NaN</td>\n",
       "      <td>NaN</td>\n",
       "      <td>NaN</td>\n",
       "      <td>NaN</td>\n",
       "      <td>NaN</td>\n",
       "      <td>NaN</td>\n",
       "      <td>NaN</td>\n",
       "      <td>NaN</td>\n",
       "      <td>NaN</td>\n",
       "      <td>NaN</td>\n",
       "      <td>NaN</td>\n",
       "      <td>NaN</td>\n",
       "      <td>NaN</td>\n",
       "      <td>0.0</td>\n",
       "      <td>54.422</td>\n",
       "      <td>18.6</td>\n",
       "      <td>2.581</td>\n",
       "      <td>1.337</td>\n",
       "      <td>1803.987</td>\n",
       "      <td>NaN</td>\n",
       "      <td>597.029</td>\n",
       "      <td>9.59</td>\n",
       "      <td>NaN</td>\n",
       "      <td>NaN</td>\n",
       "      <td>37.746</td>\n",
       "      <td>0.5</td>\n",
       "      <td>64.83</td>\n",
       "      <td>0.511</td>\n",
       "      <td>41128772</td>\n",
       "      <td>NaN</td>\n",
       "      <td>NaN</td>\n",
       "      <td>NaN</td>\n",
       "      <td>NaN</td>\n",
       "    </tr>\n",
       "    <tr>\n",
       "      <th>1</th>\n",
       "      <td>AFG</td>\n",
       "      <td>Asia</td>\n",
       "      <td>Afghanistan</td>\n",
       "      <td>2020-01-06</td>\n",
       "      <td>0.0</td>\n",
       "      <td>0.0</td>\n",
       "      <td>NaN</td>\n",
       "      <td>0.0</td>\n",
       "      <td>0.0</td>\n",
       "      <td>NaN</td>\n",
       "      <td>0.0</td>\n",
       "      <td>0.0</td>\n",
       "      <td>NaN</td>\n",
       "      <td>0.0</td>\n",
       "      <td>0.0</td>\n",
       "      <td>NaN</td>\n",
       "      <td>NaN</td>\n",
       "      <td>NaN</td>\n",
       "      <td>NaN</td>\n",
       "      <td>NaN</td>\n",
       "      <td>NaN</td>\n",
       "      <td>NaN</td>\n",
       "      <td>NaN</td>\n",
       "      <td>NaN</td>\n",
       "      <td>NaN</td>\n",
       "      <td>NaN</td>\n",
       "      <td>NaN</td>\n",
       "      <td>NaN</td>\n",
       "      <td>NaN</td>\n",
       "      <td>NaN</td>\n",
       "      <td>NaN</td>\n",
       "      <td>NaN</td>\n",
       "      <td>NaN</td>\n",
       "      <td>NaN</td>\n",
       "      <td>NaN</td>\n",
       "      <td>NaN</td>\n",
       "      <td>NaN</td>\n",
       "      <td>NaN</td>\n",
       "      <td>NaN</td>\n",
       "      <td>NaN</td>\n",
       "      <td>NaN</td>\n",
       "      <td>NaN</td>\n",
       "      <td>NaN</td>\n",
       "      <td>NaN</td>\n",
       "      <td>NaN</td>\n",
       "      <td>NaN</td>\n",
       "      <td>NaN</td>\n",
       "      <td>0.0</td>\n",
       "      <td>54.422</td>\n",
       "      <td>18.6</td>\n",
       "      <td>2.581</td>\n",
       "      <td>1.337</td>\n",
       "      <td>1803.987</td>\n",
       "      <td>NaN</td>\n",
       "      <td>597.029</td>\n",
       "      <td>9.59</td>\n",
       "      <td>NaN</td>\n",
       "      <td>NaN</td>\n",
       "      <td>37.746</td>\n",
       "      <td>0.5</td>\n",
       "      <td>64.83</td>\n",
       "      <td>0.511</td>\n",
       "      <td>41128772</td>\n",
       "      <td>NaN</td>\n",
       "      <td>NaN</td>\n",
       "      <td>NaN</td>\n",
       "      <td>NaN</td>\n",
       "    </tr>\n",
       "    <tr>\n",
       "      <th>2</th>\n",
       "      <td>AFG</td>\n",
       "      <td>Asia</td>\n",
       "      <td>Afghanistan</td>\n",
       "      <td>2020-01-07</td>\n",
       "      <td>0.0</td>\n",
       "      <td>0.0</td>\n",
       "      <td>NaN</td>\n",
       "      <td>0.0</td>\n",
       "      <td>0.0</td>\n",
       "      <td>NaN</td>\n",
       "      <td>0.0</td>\n",
       "      <td>0.0</td>\n",
       "      <td>NaN</td>\n",
       "      <td>0.0</td>\n",
       "      <td>0.0</td>\n",
       "      <td>NaN</td>\n",
       "      <td>NaN</td>\n",
       "      <td>NaN</td>\n",
       "      <td>NaN</td>\n",
       "      <td>NaN</td>\n",
       "      <td>NaN</td>\n",
       "      <td>NaN</td>\n",
       "      <td>NaN</td>\n",
       "      <td>NaN</td>\n",
       "      <td>NaN</td>\n",
       "      <td>NaN</td>\n",
       "      <td>NaN</td>\n",
       "      <td>NaN</td>\n",
       "      <td>NaN</td>\n",
       "      <td>NaN</td>\n",
       "      <td>NaN</td>\n",
       "      <td>NaN</td>\n",
       "      <td>NaN</td>\n",
       "      <td>NaN</td>\n",
       "      <td>NaN</td>\n",
       "      <td>NaN</td>\n",
       "      <td>NaN</td>\n",
       "      <td>NaN</td>\n",
       "      <td>NaN</td>\n",
       "      <td>NaN</td>\n",
       "      <td>NaN</td>\n",
       "      <td>NaN</td>\n",
       "      <td>NaN</td>\n",
       "      <td>NaN</td>\n",
       "      <td>NaN</td>\n",
       "      <td>NaN</td>\n",
       "      <td>NaN</td>\n",
       "      <td>0.0</td>\n",
       "      <td>54.422</td>\n",
       "      <td>18.6</td>\n",
       "      <td>2.581</td>\n",
       "      <td>1.337</td>\n",
       "      <td>1803.987</td>\n",
       "      <td>NaN</td>\n",
       "      <td>597.029</td>\n",
       "      <td>9.59</td>\n",
       "      <td>NaN</td>\n",
       "      <td>NaN</td>\n",
       "      <td>37.746</td>\n",
       "      <td>0.5</td>\n",
       "      <td>64.83</td>\n",
       "      <td>0.511</td>\n",
       "      <td>41128772</td>\n",
       "      <td>NaN</td>\n",
       "      <td>NaN</td>\n",
       "      <td>NaN</td>\n",
       "      <td>NaN</td>\n",
       "    </tr>\n",
       "    <tr>\n",
       "      <th>3</th>\n",
       "      <td>AFG</td>\n",
       "      <td>Asia</td>\n",
       "      <td>Afghanistan</td>\n",
       "      <td>2020-01-08</td>\n",
       "      <td>0.0</td>\n",
       "      <td>0.0</td>\n",
       "      <td>NaN</td>\n",
       "      <td>0.0</td>\n",
       "      <td>0.0</td>\n",
       "      <td>NaN</td>\n",
       "      <td>0.0</td>\n",
       "      <td>0.0</td>\n",
       "      <td>NaN</td>\n",
       "      <td>0.0</td>\n",
       "      <td>0.0</td>\n",
       "      <td>NaN</td>\n",
       "      <td>NaN</td>\n",
       "      <td>NaN</td>\n",
       "      <td>NaN</td>\n",
       "      <td>NaN</td>\n",
       "      <td>NaN</td>\n",
       "      <td>NaN</td>\n",
       "      <td>NaN</td>\n",
       "      <td>NaN</td>\n",
       "      <td>NaN</td>\n",
       "      <td>NaN</td>\n",
       "      <td>NaN</td>\n",
       "      <td>NaN</td>\n",
       "      <td>NaN</td>\n",
       "      <td>NaN</td>\n",
       "      <td>NaN</td>\n",
       "      <td>NaN</td>\n",
       "      <td>NaN</td>\n",
       "      <td>NaN</td>\n",
       "      <td>NaN</td>\n",
       "      <td>NaN</td>\n",
       "      <td>NaN</td>\n",
       "      <td>NaN</td>\n",
       "      <td>NaN</td>\n",
       "      <td>NaN</td>\n",
       "      <td>NaN</td>\n",
       "      <td>NaN</td>\n",
       "      <td>NaN</td>\n",
       "      <td>NaN</td>\n",
       "      <td>NaN</td>\n",
       "      <td>NaN</td>\n",
       "      <td>NaN</td>\n",
       "      <td>0.0</td>\n",
       "      <td>54.422</td>\n",
       "      <td>18.6</td>\n",
       "      <td>2.581</td>\n",
       "      <td>1.337</td>\n",
       "      <td>1803.987</td>\n",
       "      <td>NaN</td>\n",
       "      <td>597.029</td>\n",
       "      <td>9.59</td>\n",
       "      <td>NaN</td>\n",
       "      <td>NaN</td>\n",
       "      <td>37.746</td>\n",
       "      <td>0.5</td>\n",
       "      <td>64.83</td>\n",
       "      <td>0.511</td>\n",
       "      <td>41128772</td>\n",
       "      <td>NaN</td>\n",
       "      <td>NaN</td>\n",
       "      <td>NaN</td>\n",
       "      <td>NaN</td>\n",
       "    </tr>\n",
       "    <tr>\n",
       "      <th>4</th>\n",
       "      <td>AFG</td>\n",
       "      <td>Asia</td>\n",
       "      <td>Afghanistan</td>\n",
       "      <td>2020-01-09</td>\n",
       "      <td>0.0</td>\n",
       "      <td>0.0</td>\n",
       "      <td>NaN</td>\n",
       "      <td>0.0</td>\n",
       "      <td>0.0</td>\n",
       "      <td>NaN</td>\n",
       "      <td>0.0</td>\n",
       "      <td>0.0</td>\n",
       "      <td>NaN</td>\n",
       "      <td>0.0</td>\n",
       "      <td>0.0</td>\n",
       "      <td>NaN</td>\n",
       "      <td>NaN</td>\n",
       "      <td>NaN</td>\n",
       "      <td>NaN</td>\n",
       "      <td>NaN</td>\n",
       "      <td>NaN</td>\n",
       "      <td>NaN</td>\n",
       "      <td>NaN</td>\n",
       "      <td>NaN</td>\n",
       "      <td>NaN</td>\n",
       "      <td>NaN</td>\n",
       "      <td>NaN</td>\n",
       "      <td>NaN</td>\n",
       "      <td>NaN</td>\n",
       "      <td>NaN</td>\n",
       "      <td>NaN</td>\n",
       "      <td>NaN</td>\n",
       "      <td>NaN</td>\n",
       "      <td>NaN</td>\n",
       "      <td>NaN</td>\n",
       "      <td>NaN</td>\n",
       "      <td>NaN</td>\n",
       "      <td>NaN</td>\n",
       "      <td>NaN</td>\n",
       "      <td>NaN</td>\n",
       "      <td>NaN</td>\n",
       "      <td>NaN</td>\n",
       "      <td>NaN</td>\n",
       "      <td>NaN</td>\n",
       "      <td>NaN</td>\n",
       "      <td>NaN</td>\n",
       "      <td>NaN</td>\n",
       "      <td>0.0</td>\n",
       "      <td>54.422</td>\n",
       "      <td>18.6</td>\n",
       "      <td>2.581</td>\n",
       "      <td>1.337</td>\n",
       "      <td>1803.987</td>\n",
       "      <td>NaN</td>\n",
       "      <td>597.029</td>\n",
       "      <td>9.59</td>\n",
       "      <td>NaN</td>\n",
       "      <td>NaN</td>\n",
       "      <td>37.746</td>\n",
       "      <td>0.5</td>\n",
       "      <td>64.83</td>\n",
       "      <td>0.511</td>\n",
       "      <td>41128772</td>\n",
       "      <td>NaN</td>\n",
       "      <td>NaN</td>\n",
       "      <td>NaN</td>\n",
       "      <td>NaN</td>\n",
       "    </tr>\n",
       "  </tbody>\n",
       "</table>\n",
       "</div>"
      ],
      "text/plain": [
       "  iso_code continent     location        date  total_cases  new_cases  \\\n",
       "0      AFG      Asia  Afghanistan  2020-01-05          0.0        0.0   \n",
       "1      AFG      Asia  Afghanistan  2020-01-06          0.0        0.0   \n",
       "2      AFG      Asia  Afghanistan  2020-01-07          0.0        0.0   \n",
       "3      AFG      Asia  Afghanistan  2020-01-08          0.0        0.0   \n",
       "4      AFG      Asia  Afghanistan  2020-01-09          0.0        0.0   \n",
       "\n",
       "   new_cases_smoothed  total_deaths  new_deaths  new_deaths_smoothed  \\\n",
       "0                 NaN           0.0         0.0                  NaN   \n",
       "1                 NaN           0.0         0.0                  NaN   \n",
       "2                 NaN           0.0         0.0                  NaN   \n",
       "3                 NaN           0.0         0.0                  NaN   \n",
       "4                 NaN           0.0         0.0                  NaN   \n",
       "\n",
       "   total_cases_per_million  new_cases_per_million  \\\n",
       "0                      0.0                    0.0   \n",
       "1                      0.0                    0.0   \n",
       "2                      0.0                    0.0   \n",
       "3                      0.0                    0.0   \n",
       "4                      0.0                    0.0   \n",
       "\n",
       "   new_cases_smoothed_per_million  total_deaths_per_million  \\\n",
       "0                             NaN                       0.0   \n",
       "1                             NaN                       0.0   \n",
       "2                             NaN                       0.0   \n",
       "3                             NaN                       0.0   \n",
       "4                             NaN                       0.0   \n",
       "\n",
       "   new_deaths_per_million  new_deaths_smoothed_per_million  reproduction_rate  \\\n",
       "0                     0.0                              NaN                NaN   \n",
       "1                     0.0                              NaN                NaN   \n",
       "2                     0.0                              NaN                NaN   \n",
       "3                     0.0                              NaN                NaN   \n",
       "4                     0.0                              NaN                NaN   \n",
       "\n",
       "   icu_patients  icu_patients_per_million  hosp_patients  \\\n",
       "0           NaN                       NaN            NaN   \n",
       "1           NaN                       NaN            NaN   \n",
       "2           NaN                       NaN            NaN   \n",
       "3           NaN                       NaN            NaN   \n",
       "4           NaN                       NaN            NaN   \n",
       "\n",
       "   hosp_patients_per_million  weekly_icu_admissions  \\\n",
       "0                        NaN                    NaN   \n",
       "1                        NaN                    NaN   \n",
       "2                        NaN                    NaN   \n",
       "3                        NaN                    NaN   \n",
       "4                        NaN                    NaN   \n",
       "\n",
       "   weekly_icu_admissions_per_million  weekly_hosp_admissions  \\\n",
       "0                                NaN                     NaN   \n",
       "1                                NaN                     NaN   \n",
       "2                                NaN                     NaN   \n",
       "3                                NaN                     NaN   \n",
       "4                                NaN                     NaN   \n",
       "\n",
       "   weekly_hosp_admissions_per_million  total_tests  new_tests  \\\n",
       "0                                 NaN          NaN        NaN   \n",
       "1                                 NaN          NaN        NaN   \n",
       "2                                 NaN          NaN        NaN   \n",
       "3                                 NaN          NaN        NaN   \n",
       "4                                 NaN          NaN        NaN   \n",
       "\n",
       "   total_tests_per_thousand  new_tests_per_thousand  new_tests_smoothed  \\\n",
       "0                       NaN                     NaN                 NaN   \n",
       "1                       NaN                     NaN                 NaN   \n",
       "2                       NaN                     NaN                 NaN   \n",
       "3                       NaN                     NaN                 NaN   \n",
       "4                       NaN                     NaN                 NaN   \n",
       "\n",
       "   new_tests_smoothed_per_thousand  positive_rate  tests_per_case tests_units  \\\n",
       "0                              NaN            NaN             NaN         NaN   \n",
       "1                              NaN            NaN             NaN         NaN   \n",
       "2                              NaN            NaN             NaN         NaN   \n",
       "3                              NaN            NaN             NaN         NaN   \n",
       "4                              NaN            NaN             NaN         NaN   \n",
       "\n",
       "   total_vaccinations  people_vaccinated  people_fully_vaccinated  \\\n",
       "0                 NaN                NaN                      NaN   \n",
       "1                 NaN                NaN                      NaN   \n",
       "2                 NaN                NaN                      NaN   \n",
       "3                 NaN                NaN                      NaN   \n",
       "4                 NaN                NaN                      NaN   \n",
       "\n",
       "   total_boosters  new_vaccinations  new_vaccinations_smoothed  \\\n",
       "0             NaN               NaN                        NaN   \n",
       "1             NaN               NaN                        NaN   \n",
       "2             NaN               NaN                        NaN   \n",
       "3             NaN               NaN                        NaN   \n",
       "4             NaN               NaN                        NaN   \n",
       "\n",
       "   total_vaccinations_per_hundred  people_vaccinated_per_hundred  \\\n",
       "0                             NaN                            NaN   \n",
       "1                             NaN                            NaN   \n",
       "2                             NaN                            NaN   \n",
       "3                             NaN                            NaN   \n",
       "4                             NaN                            NaN   \n",
       "\n",
       "   people_fully_vaccinated_per_hundred  total_boosters_per_hundred  \\\n",
       "0                                  NaN                         NaN   \n",
       "1                                  NaN                         NaN   \n",
       "2                                  NaN                         NaN   \n",
       "3                                  NaN                         NaN   \n",
       "4                                  NaN                         NaN   \n",
       "\n",
       "   new_vaccinations_smoothed_per_million  new_people_vaccinated_smoothed  \\\n",
       "0                                    NaN                             NaN   \n",
       "1                                    NaN                             NaN   \n",
       "2                                    NaN                             NaN   \n",
       "3                                    NaN                             NaN   \n",
       "4                                    NaN                             NaN   \n",
       "\n",
       "   new_people_vaccinated_smoothed_per_hundred  stringency_index  \\\n",
       "0                                         NaN               0.0   \n",
       "1                                         NaN               0.0   \n",
       "2                                         NaN               0.0   \n",
       "3                                         NaN               0.0   \n",
       "4                                         NaN               0.0   \n",
       "\n",
       "   population_density  median_age  aged_65_older  aged_70_older  \\\n",
       "0              54.422        18.6          2.581          1.337   \n",
       "1              54.422        18.6          2.581          1.337   \n",
       "2              54.422        18.6          2.581          1.337   \n",
       "3              54.422        18.6          2.581          1.337   \n",
       "4              54.422        18.6          2.581          1.337   \n",
       "\n",
       "   gdp_per_capita  extreme_poverty  cardiovasc_death_rate  \\\n",
       "0        1803.987              NaN                597.029   \n",
       "1        1803.987              NaN                597.029   \n",
       "2        1803.987              NaN                597.029   \n",
       "3        1803.987              NaN                597.029   \n",
       "4        1803.987              NaN                597.029   \n",
       "\n",
       "   diabetes_prevalence  female_smokers  male_smokers  handwashing_facilities  \\\n",
       "0                 9.59             NaN           NaN                  37.746   \n",
       "1                 9.59             NaN           NaN                  37.746   \n",
       "2                 9.59             NaN           NaN                  37.746   \n",
       "3                 9.59             NaN           NaN                  37.746   \n",
       "4                 9.59             NaN           NaN                  37.746   \n",
       "\n",
       "   hospital_beds_per_thousand  life_expectancy  human_development_index  \\\n",
       "0                         0.5            64.83                    0.511   \n",
       "1                         0.5            64.83                    0.511   \n",
       "2                         0.5            64.83                    0.511   \n",
       "3                         0.5            64.83                    0.511   \n",
       "4                         0.5            64.83                    0.511   \n",
       "\n",
       "   population  excess_mortality_cumulative_absolute  \\\n",
       "0    41128772                                   NaN   \n",
       "1    41128772                                   NaN   \n",
       "2    41128772                                   NaN   \n",
       "3    41128772                                   NaN   \n",
       "4    41128772                                   NaN   \n",
       "\n",
       "   excess_mortality_cumulative  excess_mortality  \\\n",
       "0                          NaN               NaN   \n",
       "1                          NaN               NaN   \n",
       "2                          NaN               NaN   \n",
       "3                          NaN               NaN   \n",
       "4                          NaN               NaN   \n",
       "\n",
       "   excess_mortality_cumulative_per_million  \n",
       "0                                      NaN  \n",
       "1                                      NaN  \n",
       "2                                      NaN  \n",
       "3                                      NaN  \n",
       "4                                      NaN  "
      ]
     },
     "metadata": {},
     "output_type": "display_data"
    }
   ],
   "source": [
    "## 1. Load the Dataset\n",
    "\n",
    "\n",
    "try:\n",
    "    df = pd.read_csv('owid-covid-data.csv')\n",
    "    print(\"Data successfully loaded from local file!\")\n",
    "    \n",
    "    # Display basic info\n",
    "    print(f\"\\nDataset contains {df.shape[0]} rows and {df.shape[1]} columns\")\n",
    "    print(\"\\nFirst 5 rows:\")\n",
    "    display(df.head())\n",
    "    \n",
    "except FileNotFoundError:\n",
    "    print(f\"Error: File not found at {'owid-covid-data.csv'}\")\n",
    "    print(\"Please verify the file path and try again.\")\n",
    "except Exception as e:\n",
    "    print(f\"An error occurred while loading the file: {str(e)}\")"
   ]
  },
  {
   "cell_type": "code",
   "execution_count": 5,
   "id": "486acb0a",
   "metadata": {},
   "outputs": [
    {
     "data": {
      "text/html": [
       "<div>\n",
       "<style scoped>\n",
       "    .dataframe tbody tr th:only-of-type {\n",
       "        vertical-align: middle;\n",
       "    }\n",
       "\n",
       "    .dataframe tbody tr th {\n",
       "        vertical-align: top;\n",
       "    }\n",
       "\n",
       "    .dataframe thead th {\n",
       "        text-align: right;\n",
       "    }\n",
       "</style>\n",
       "<table border=\"1\" class=\"dataframe\">\n",
       "  <thead>\n",
       "    <tr style=\"text-align: right;\">\n",
       "      <th></th>\n",
       "      <th>iso_code</th>\n",
       "      <th>continent</th>\n",
       "      <th>location</th>\n",
       "      <th>date</th>\n",
       "      <th>total_cases</th>\n",
       "      <th>new_cases</th>\n",
       "      <th>new_cases_smoothed</th>\n",
       "      <th>total_deaths</th>\n",
       "      <th>new_deaths</th>\n",
       "      <th>new_deaths_smoothed</th>\n",
       "      <th>total_cases_per_million</th>\n",
       "      <th>new_cases_per_million</th>\n",
       "      <th>new_cases_smoothed_per_million</th>\n",
       "      <th>total_deaths_per_million</th>\n",
       "      <th>new_deaths_per_million</th>\n",
       "      <th>new_deaths_smoothed_per_million</th>\n",
       "      <th>reproduction_rate</th>\n",
       "      <th>icu_patients</th>\n",
       "      <th>icu_patients_per_million</th>\n",
       "      <th>hosp_patients</th>\n",
       "      <th>hosp_patients_per_million</th>\n",
       "      <th>weekly_icu_admissions</th>\n",
       "      <th>weekly_icu_admissions_per_million</th>\n",
       "      <th>weekly_hosp_admissions</th>\n",
       "      <th>weekly_hosp_admissions_per_million</th>\n",
       "      <th>total_tests</th>\n",
       "      <th>new_tests</th>\n",
       "      <th>total_tests_per_thousand</th>\n",
       "      <th>new_tests_per_thousand</th>\n",
       "      <th>new_tests_smoothed</th>\n",
       "      <th>new_tests_smoothed_per_thousand</th>\n",
       "      <th>positive_rate</th>\n",
       "      <th>tests_per_case</th>\n",
       "      <th>tests_units</th>\n",
       "      <th>total_vaccinations</th>\n",
       "      <th>people_vaccinated</th>\n",
       "      <th>people_fully_vaccinated</th>\n",
       "      <th>total_boosters</th>\n",
       "      <th>new_vaccinations</th>\n",
       "      <th>new_vaccinations_smoothed</th>\n",
       "      <th>total_vaccinations_per_hundred</th>\n",
       "      <th>people_vaccinated_per_hundred</th>\n",
       "      <th>people_fully_vaccinated_per_hundred</th>\n",
       "      <th>total_boosters_per_hundred</th>\n",
       "      <th>new_vaccinations_smoothed_per_million</th>\n",
       "      <th>new_people_vaccinated_smoothed</th>\n",
       "      <th>new_people_vaccinated_smoothed_per_hundred</th>\n",
       "      <th>stringency_index</th>\n",
       "      <th>population_density</th>\n",
       "      <th>median_age</th>\n",
       "      <th>aged_65_older</th>\n",
       "      <th>aged_70_older</th>\n",
       "      <th>gdp_per_capita</th>\n",
       "      <th>extreme_poverty</th>\n",
       "      <th>cardiovasc_death_rate</th>\n",
       "      <th>diabetes_prevalence</th>\n",
       "      <th>female_smokers</th>\n",
       "      <th>male_smokers</th>\n",
       "      <th>handwashing_facilities</th>\n",
       "      <th>hospital_beds_per_thousand</th>\n",
       "      <th>life_expectancy</th>\n",
       "      <th>human_development_index</th>\n",
       "      <th>population</th>\n",
       "      <th>excess_mortality_cumulative_absolute</th>\n",
       "      <th>excess_mortality_cumulative</th>\n",
       "      <th>excess_mortality</th>\n",
       "      <th>excess_mortality_cumulative_per_million</th>\n",
       "    </tr>\n",
       "  </thead>\n",
       "  <tbody>\n",
       "    <tr>\n",
       "      <th>429430</th>\n",
       "      <td>ZWE</td>\n",
       "      <td>Africa</td>\n",
       "      <td>Zimbabwe</td>\n",
       "      <td>2024-07-31</td>\n",
       "      <td>266386.0</td>\n",
       "      <td>0.0</td>\n",
       "      <td>0.0</td>\n",
       "      <td>5740.0</td>\n",
       "      <td>0.0</td>\n",
       "      <td>0.0</td>\n",
       "      <td>16577.57</td>\n",
       "      <td>0.0</td>\n",
       "      <td>0.0</td>\n",
       "      <td>357.208</td>\n",
       "      <td>0.0</td>\n",
       "      <td>0.0</td>\n",
       "      <td>NaN</td>\n",
       "      <td>NaN</td>\n",
       "      <td>NaN</td>\n",
       "      <td>NaN</td>\n",
       "      <td>NaN</td>\n",
       "      <td>NaN</td>\n",
       "      <td>NaN</td>\n",
       "      <td>NaN</td>\n",
       "      <td>NaN</td>\n",
       "      <td>NaN</td>\n",
       "      <td>NaN</td>\n",
       "      <td>NaN</td>\n",
       "      <td>NaN</td>\n",
       "      <td>NaN</td>\n",
       "      <td>NaN</td>\n",
       "      <td>NaN</td>\n",
       "      <td>NaN</td>\n",
       "      <td>NaN</td>\n",
       "      <td>NaN</td>\n",
       "      <td>NaN</td>\n",
       "      <td>NaN</td>\n",
       "      <td>NaN</td>\n",
       "      <td>NaN</td>\n",
       "      <td>NaN</td>\n",
       "      <td>NaN</td>\n",
       "      <td>NaN</td>\n",
       "      <td>NaN</td>\n",
       "      <td>NaN</td>\n",
       "      <td>NaN</td>\n",
       "      <td>NaN</td>\n",
       "      <td>NaN</td>\n",
       "      <td>NaN</td>\n",
       "      <td>42.729</td>\n",
       "      <td>19.6</td>\n",
       "      <td>2.822</td>\n",
       "      <td>1.882</td>\n",
       "      <td>1899.775</td>\n",
       "      <td>21.4</td>\n",
       "      <td>307.846</td>\n",
       "      <td>1.82</td>\n",
       "      <td>1.6</td>\n",
       "      <td>30.7</td>\n",
       "      <td>36.791</td>\n",
       "      <td>1.7</td>\n",
       "      <td>61.49</td>\n",
       "      <td>0.571</td>\n",
       "      <td>16320539</td>\n",
       "      <td>NaN</td>\n",
       "      <td>NaN</td>\n",
       "      <td>NaN</td>\n",
       "      <td>NaN</td>\n",
       "    </tr>\n",
       "    <tr>\n",
       "      <th>429431</th>\n",
       "      <td>ZWE</td>\n",
       "      <td>Africa</td>\n",
       "      <td>Zimbabwe</td>\n",
       "      <td>2024-08-01</td>\n",
       "      <td>266386.0</td>\n",
       "      <td>0.0</td>\n",
       "      <td>0.0</td>\n",
       "      <td>5740.0</td>\n",
       "      <td>0.0</td>\n",
       "      <td>0.0</td>\n",
       "      <td>16577.57</td>\n",
       "      <td>0.0</td>\n",
       "      <td>0.0</td>\n",
       "      <td>357.208</td>\n",
       "      <td>0.0</td>\n",
       "      <td>0.0</td>\n",
       "      <td>NaN</td>\n",
       "      <td>NaN</td>\n",
       "      <td>NaN</td>\n",
       "      <td>NaN</td>\n",
       "      <td>NaN</td>\n",
       "      <td>NaN</td>\n",
       "      <td>NaN</td>\n",
       "      <td>NaN</td>\n",
       "      <td>NaN</td>\n",
       "      <td>NaN</td>\n",
       "      <td>NaN</td>\n",
       "      <td>NaN</td>\n",
       "      <td>NaN</td>\n",
       "      <td>NaN</td>\n",
       "      <td>NaN</td>\n",
       "      <td>NaN</td>\n",
       "      <td>NaN</td>\n",
       "      <td>NaN</td>\n",
       "      <td>NaN</td>\n",
       "      <td>NaN</td>\n",
       "      <td>NaN</td>\n",
       "      <td>NaN</td>\n",
       "      <td>NaN</td>\n",
       "      <td>NaN</td>\n",
       "      <td>NaN</td>\n",
       "      <td>NaN</td>\n",
       "      <td>NaN</td>\n",
       "      <td>NaN</td>\n",
       "      <td>NaN</td>\n",
       "      <td>NaN</td>\n",
       "      <td>NaN</td>\n",
       "      <td>NaN</td>\n",
       "      <td>42.729</td>\n",
       "      <td>19.6</td>\n",
       "      <td>2.822</td>\n",
       "      <td>1.882</td>\n",
       "      <td>1899.775</td>\n",
       "      <td>21.4</td>\n",
       "      <td>307.846</td>\n",
       "      <td>1.82</td>\n",
       "      <td>1.6</td>\n",
       "      <td>30.7</td>\n",
       "      <td>36.791</td>\n",
       "      <td>1.7</td>\n",
       "      <td>61.49</td>\n",
       "      <td>0.571</td>\n",
       "      <td>16320539</td>\n",
       "      <td>NaN</td>\n",
       "      <td>NaN</td>\n",
       "      <td>NaN</td>\n",
       "      <td>NaN</td>\n",
       "    </tr>\n",
       "    <tr>\n",
       "      <th>429432</th>\n",
       "      <td>ZWE</td>\n",
       "      <td>Africa</td>\n",
       "      <td>Zimbabwe</td>\n",
       "      <td>2024-08-02</td>\n",
       "      <td>266386.0</td>\n",
       "      <td>0.0</td>\n",
       "      <td>0.0</td>\n",
       "      <td>5740.0</td>\n",
       "      <td>0.0</td>\n",
       "      <td>0.0</td>\n",
       "      <td>16577.57</td>\n",
       "      <td>0.0</td>\n",
       "      <td>0.0</td>\n",
       "      <td>357.208</td>\n",
       "      <td>0.0</td>\n",
       "      <td>0.0</td>\n",
       "      <td>NaN</td>\n",
       "      <td>NaN</td>\n",
       "      <td>NaN</td>\n",
       "      <td>NaN</td>\n",
       "      <td>NaN</td>\n",
       "      <td>NaN</td>\n",
       "      <td>NaN</td>\n",
       "      <td>NaN</td>\n",
       "      <td>NaN</td>\n",
       "      <td>NaN</td>\n",
       "      <td>NaN</td>\n",
       "      <td>NaN</td>\n",
       "      <td>NaN</td>\n",
       "      <td>NaN</td>\n",
       "      <td>NaN</td>\n",
       "      <td>NaN</td>\n",
       "      <td>NaN</td>\n",
       "      <td>NaN</td>\n",
       "      <td>NaN</td>\n",
       "      <td>NaN</td>\n",
       "      <td>NaN</td>\n",
       "      <td>NaN</td>\n",
       "      <td>NaN</td>\n",
       "      <td>NaN</td>\n",
       "      <td>NaN</td>\n",
       "      <td>NaN</td>\n",
       "      <td>NaN</td>\n",
       "      <td>NaN</td>\n",
       "      <td>NaN</td>\n",
       "      <td>NaN</td>\n",
       "      <td>NaN</td>\n",
       "      <td>NaN</td>\n",
       "      <td>42.729</td>\n",
       "      <td>19.6</td>\n",
       "      <td>2.822</td>\n",
       "      <td>1.882</td>\n",
       "      <td>1899.775</td>\n",
       "      <td>21.4</td>\n",
       "      <td>307.846</td>\n",
       "      <td>1.82</td>\n",
       "      <td>1.6</td>\n",
       "      <td>30.7</td>\n",
       "      <td>36.791</td>\n",
       "      <td>1.7</td>\n",
       "      <td>61.49</td>\n",
       "      <td>0.571</td>\n",
       "      <td>16320539</td>\n",
       "      <td>NaN</td>\n",
       "      <td>NaN</td>\n",
       "      <td>NaN</td>\n",
       "      <td>NaN</td>\n",
       "    </tr>\n",
       "    <tr>\n",
       "      <th>429433</th>\n",
       "      <td>ZWE</td>\n",
       "      <td>Africa</td>\n",
       "      <td>Zimbabwe</td>\n",
       "      <td>2024-08-03</td>\n",
       "      <td>266386.0</td>\n",
       "      <td>0.0</td>\n",
       "      <td>0.0</td>\n",
       "      <td>5740.0</td>\n",
       "      <td>0.0</td>\n",
       "      <td>0.0</td>\n",
       "      <td>16577.57</td>\n",
       "      <td>0.0</td>\n",
       "      <td>0.0</td>\n",
       "      <td>357.208</td>\n",
       "      <td>0.0</td>\n",
       "      <td>0.0</td>\n",
       "      <td>NaN</td>\n",
       "      <td>NaN</td>\n",
       "      <td>NaN</td>\n",
       "      <td>NaN</td>\n",
       "      <td>NaN</td>\n",
       "      <td>NaN</td>\n",
       "      <td>NaN</td>\n",
       "      <td>NaN</td>\n",
       "      <td>NaN</td>\n",
       "      <td>NaN</td>\n",
       "      <td>NaN</td>\n",
       "      <td>NaN</td>\n",
       "      <td>NaN</td>\n",
       "      <td>NaN</td>\n",
       "      <td>NaN</td>\n",
       "      <td>NaN</td>\n",
       "      <td>NaN</td>\n",
       "      <td>NaN</td>\n",
       "      <td>NaN</td>\n",
       "      <td>NaN</td>\n",
       "      <td>NaN</td>\n",
       "      <td>NaN</td>\n",
       "      <td>NaN</td>\n",
       "      <td>NaN</td>\n",
       "      <td>NaN</td>\n",
       "      <td>NaN</td>\n",
       "      <td>NaN</td>\n",
       "      <td>NaN</td>\n",
       "      <td>NaN</td>\n",
       "      <td>NaN</td>\n",
       "      <td>NaN</td>\n",
       "      <td>NaN</td>\n",
       "      <td>42.729</td>\n",
       "      <td>19.6</td>\n",
       "      <td>2.822</td>\n",
       "      <td>1.882</td>\n",
       "      <td>1899.775</td>\n",
       "      <td>21.4</td>\n",
       "      <td>307.846</td>\n",
       "      <td>1.82</td>\n",
       "      <td>1.6</td>\n",
       "      <td>30.7</td>\n",
       "      <td>36.791</td>\n",
       "      <td>1.7</td>\n",
       "      <td>61.49</td>\n",
       "      <td>0.571</td>\n",
       "      <td>16320539</td>\n",
       "      <td>NaN</td>\n",
       "      <td>NaN</td>\n",
       "      <td>NaN</td>\n",
       "      <td>NaN</td>\n",
       "    </tr>\n",
       "    <tr>\n",
       "      <th>429434</th>\n",
       "      <td>ZWE</td>\n",
       "      <td>Africa</td>\n",
       "      <td>Zimbabwe</td>\n",
       "      <td>2024-08-04</td>\n",
       "      <td>266386.0</td>\n",
       "      <td>0.0</td>\n",
       "      <td>0.0</td>\n",
       "      <td>5740.0</td>\n",
       "      <td>0.0</td>\n",
       "      <td>0.0</td>\n",
       "      <td>16577.57</td>\n",
       "      <td>0.0</td>\n",
       "      <td>0.0</td>\n",
       "      <td>357.208</td>\n",
       "      <td>0.0</td>\n",
       "      <td>0.0</td>\n",
       "      <td>NaN</td>\n",
       "      <td>NaN</td>\n",
       "      <td>NaN</td>\n",
       "      <td>NaN</td>\n",
       "      <td>NaN</td>\n",
       "      <td>NaN</td>\n",
       "      <td>NaN</td>\n",
       "      <td>NaN</td>\n",
       "      <td>NaN</td>\n",
       "      <td>NaN</td>\n",
       "      <td>NaN</td>\n",
       "      <td>NaN</td>\n",
       "      <td>NaN</td>\n",
       "      <td>NaN</td>\n",
       "      <td>NaN</td>\n",
       "      <td>NaN</td>\n",
       "      <td>NaN</td>\n",
       "      <td>NaN</td>\n",
       "      <td>NaN</td>\n",
       "      <td>NaN</td>\n",
       "      <td>NaN</td>\n",
       "      <td>NaN</td>\n",
       "      <td>NaN</td>\n",
       "      <td>NaN</td>\n",
       "      <td>NaN</td>\n",
       "      <td>NaN</td>\n",
       "      <td>NaN</td>\n",
       "      <td>NaN</td>\n",
       "      <td>NaN</td>\n",
       "      <td>NaN</td>\n",
       "      <td>NaN</td>\n",
       "      <td>NaN</td>\n",
       "      <td>42.729</td>\n",
       "      <td>19.6</td>\n",
       "      <td>2.822</td>\n",
       "      <td>1.882</td>\n",
       "      <td>1899.775</td>\n",
       "      <td>21.4</td>\n",
       "      <td>307.846</td>\n",
       "      <td>1.82</td>\n",
       "      <td>1.6</td>\n",
       "      <td>30.7</td>\n",
       "      <td>36.791</td>\n",
       "      <td>1.7</td>\n",
       "      <td>61.49</td>\n",
       "      <td>0.571</td>\n",
       "      <td>16320539</td>\n",
       "      <td>NaN</td>\n",
       "      <td>NaN</td>\n",
       "      <td>NaN</td>\n",
       "      <td>NaN</td>\n",
       "    </tr>\n",
       "  </tbody>\n",
       "</table>\n",
       "</div>"
      ],
      "text/plain": [
       "       iso_code continent  location        date  total_cases  new_cases  \\\n",
       "429430      ZWE    Africa  Zimbabwe  2024-07-31     266386.0        0.0   \n",
       "429431      ZWE    Africa  Zimbabwe  2024-08-01     266386.0        0.0   \n",
       "429432      ZWE    Africa  Zimbabwe  2024-08-02     266386.0        0.0   \n",
       "429433      ZWE    Africa  Zimbabwe  2024-08-03     266386.0        0.0   \n",
       "429434      ZWE    Africa  Zimbabwe  2024-08-04     266386.0        0.0   \n",
       "\n",
       "        new_cases_smoothed  total_deaths  new_deaths  new_deaths_smoothed  \\\n",
       "429430                 0.0        5740.0         0.0                  0.0   \n",
       "429431                 0.0        5740.0         0.0                  0.0   \n",
       "429432                 0.0        5740.0         0.0                  0.0   \n",
       "429433                 0.0        5740.0         0.0                  0.0   \n",
       "429434                 0.0        5740.0         0.0                  0.0   \n",
       "\n",
       "        total_cases_per_million  new_cases_per_million  \\\n",
       "429430                 16577.57                    0.0   \n",
       "429431                 16577.57                    0.0   \n",
       "429432                 16577.57                    0.0   \n",
       "429433                 16577.57                    0.0   \n",
       "429434                 16577.57                    0.0   \n",
       "\n",
       "        new_cases_smoothed_per_million  total_deaths_per_million  \\\n",
       "429430                             0.0                   357.208   \n",
       "429431                             0.0                   357.208   \n",
       "429432                             0.0                   357.208   \n",
       "429433                             0.0                   357.208   \n",
       "429434                             0.0                   357.208   \n",
       "\n",
       "        new_deaths_per_million  new_deaths_smoothed_per_million  \\\n",
       "429430                     0.0                              0.0   \n",
       "429431                     0.0                              0.0   \n",
       "429432                     0.0                              0.0   \n",
       "429433                     0.0                              0.0   \n",
       "429434                     0.0                              0.0   \n",
       "\n",
       "        reproduction_rate  icu_patients  icu_patients_per_million  \\\n",
       "429430                NaN           NaN                       NaN   \n",
       "429431                NaN           NaN                       NaN   \n",
       "429432                NaN           NaN                       NaN   \n",
       "429433                NaN           NaN                       NaN   \n",
       "429434                NaN           NaN                       NaN   \n",
       "\n",
       "        hosp_patients  hosp_patients_per_million  weekly_icu_admissions  \\\n",
       "429430            NaN                        NaN                    NaN   \n",
       "429431            NaN                        NaN                    NaN   \n",
       "429432            NaN                        NaN                    NaN   \n",
       "429433            NaN                        NaN                    NaN   \n",
       "429434            NaN                        NaN                    NaN   \n",
       "\n",
       "        weekly_icu_admissions_per_million  weekly_hosp_admissions  \\\n",
       "429430                                NaN                     NaN   \n",
       "429431                                NaN                     NaN   \n",
       "429432                                NaN                     NaN   \n",
       "429433                                NaN                     NaN   \n",
       "429434                                NaN                     NaN   \n",
       "\n",
       "        weekly_hosp_admissions_per_million  total_tests  new_tests  \\\n",
       "429430                                 NaN          NaN        NaN   \n",
       "429431                                 NaN          NaN        NaN   \n",
       "429432                                 NaN          NaN        NaN   \n",
       "429433                                 NaN          NaN        NaN   \n",
       "429434                                 NaN          NaN        NaN   \n",
       "\n",
       "        total_tests_per_thousand  new_tests_per_thousand  new_tests_smoothed  \\\n",
       "429430                       NaN                     NaN                 NaN   \n",
       "429431                       NaN                     NaN                 NaN   \n",
       "429432                       NaN                     NaN                 NaN   \n",
       "429433                       NaN                     NaN                 NaN   \n",
       "429434                       NaN                     NaN                 NaN   \n",
       "\n",
       "        new_tests_smoothed_per_thousand  positive_rate  tests_per_case  \\\n",
       "429430                              NaN            NaN             NaN   \n",
       "429431                              NaN            NaN             NaN   \n",
       "429432                              NaN            NaN             NaN   \n",
       "429433                              NaN            NaN             NaN   \n",
       "429434                              NaN            NaN             NaN   \n",
       "\n",
       "       tests_units  total_vaccinations  people_vaccinated  \\\n",
       "429430         NaN                 NaN                NaN   \n",
       "429431         NaN                 NaN                NaN   \n",
       "429432         NaN                 NaN                NaN   \n",
       "429433         NaN                 NaN                NaN   \n",
       "429434         NaN                 NaN                NaN   \n",
       "\n",
       "        people_fully_vaccinated  total_boosters  new_vaccinations  \\\n",
       "429430                      NaN             NaN               NaN   \n",
       "429431                      NaN             NaN               NaN   \n",
       "429432                      NaN             NaN               NaN   \n",
       "429433                      NaN             NaN               NaN   \n",
       "429434                      NaN             NaN               NaN   \n",
       "\n",
       "        new_vaccinations_smoothed  total_vaccinations_per_hundred  \\\n",
       "429430                        NaN                             NaN   \n",
       "429431                        NaN                             NaN   \n",
       "429432                        NaN                             NaN   \n",
       "429433                        NaN                             NaN   \n",
       "429434                        NaN                             NaN   \n",
       "\n",
       "        people_vaccinated_per_hundred  people_fully_vaccinated_per_hundred  \\\n",
       "429430                            NaN                                  NaN   \n",
       "429431                            NaN                                  NaN   \n",
       "429432                            NaN                                  NaN   \n",
       "429433                            NaN                                  NaN   \n",
       "429434                            NaN                                  NaN   \n",
       "\n",
       "        total_boosters_per_hundred  new_vaccinations_smoothed_per_million  \\\n",
       "429430                         NaN                                    NaN   \n",
       "429431                         NaN                                    NaN   \n",
       "429432                         NaN                                    NaN   \n",
       "429433                         NaN                                    NaN   \n",
       "429434                         NaN                                    NaN   \n",
       "\n",
       "        new_people_vaccinated_smoothed  \\\n",
       "429430                             NaN   \n",
       "429431                             NaN   \n",
       "429432                             NaN   \n",
       "429433                             NaN   \n",
       "429434                             NaN   \n",
       "\n",
       "        new_people_vaccinated_smoothed_per_hundred  stringency_index  \\\n",
       "429430                                         NaN               NaN   \n",
       "429431                                         NaN               NaN   \n",
       "429432                                         NaN               NaN   \n",
       "429433                                         NaN               NaN   \n",
       "429434                                         NaN               NaN   \n",
       "\n",
       "        population_density  median_age  aged_65_older  aged_70_older  \\\n",
       "429430              42.729        19.6          2.822          1.882   \n",
       "429431              42.729        19.6          2.822          1.882   \n",
       "429432              42.729        19.6          2.822          1.882   \n",
       "429433              42.729        19.6          2.822          1.882   \n",
       "429434              42.729        19.6          2.822          1.882   \n",
       "\n",
       "        gdp_per_capita  extreme_poverty  cardiovasc_death_rate  \\\n",
       "429430        1899.775             21.4                307.846   \n",
       "429431        1899.775             21.4                307.846   \n",
       "429432        1899.775             21.4                307.846   \n",
       "429433        1899.775             21.4                307.846   \n",
       "429434        1899.775             21.4                307.846   \n",
       "\n",
       "        diabetes_prevalence  female_smokers  male_smokers  \\\n",
       "429430                 1.82             1.6          30.7   \n",
       "429431                 1.82             1.6          30.7   \n",
       "429432                 1.82             1.6          30.7   \n",
       "429433                 1.82             1.6          30.7   \n",
       "429434                 1.82             1.6          30.7   \n",
       "\n",
       "        handwashing_facilities  hospital_beds_per_thousand  life_expectancy  \\\n",
       "429430                  36.791                         1.7            61.49   \n",
       "429431                  36.791                         1.7            61.49   \n",
       "429432                  36.791                         1.7            61.49   \n",
       "429433                  36.791                         1.7            61.49   \n",
       "429434                  36.791                         1.7            61.49   \n",
       "\n",
       "        human_development_index  population  \\\n",
       "429430                    0.571    16320539   \n",
       "429431                    0.571    16320539   \n",
       "429432                    0.571    16320539   \n",
       "429433                    0.571    16320539   \n",
       "429434                    0.571    16320539   \n",
       "\n",
       "        excess_mortality_cumulative_absolute  excess_mortality_cumulative  \\\n",
       "429430                                   NaN                          NaN   \n",
       "429431                                   NaN                          NaN   \n",
       "429432                                   NaN                          NaN   \n",
       "429433                                   NaN                          NaN   \n",
       "429434                                   NaN                          NaN   \n",
       "\n",
       "        excess_mortality  excess_mortality_cumulative_per_million  \n",
       "429430               NaN                                      NaN  \n",
       "429431               NaN                                      NaN  \n",
       "429432               NaN                                      NaN  \n",
       "429433               NaN                                      NaN  \n",
       "429434               NaN                                      NaN  "
      ]
     },
     "execution_count": 5,
     "metadata": {},
     "output_type": "execute_result"
    }
   ],
   "source": [
    "df.tail()"
   ]
  },
  {
   "cell_type": "code",
   "execution_count": 6,
   "id": "c7db48ef",
   "metadata": {},
   "outputs": [
    {
     "name": "stdout",
     "output_type": "stream",
     "text": [
      "Dataset shape: (429435, 67)\n"
     ]
    }
   ],
   "source": [
    " # Dataset shape\n",
    "print(f\"Dataset shape: {df.shape}\")"
   ]
  },
  {
   "cell_type": "code",
   "execution_count": 7,
   "id": "e7d1db0f",
   "metadata": {},
   "outputs": [
    {
     "name": "stdout",
     "output_type": "stream",
     "text": [
      "Memory usage (in MB):\n",
      "date                                       24.162927\n",
      "location                                   24.049279\n",
      "continent                                  22.435361\n",
      "iso_code                                   21.458855\n",
      "tests_units                                16.322469\n",
      "                                             ...    \n",
      "population                                  3.276329\n",
      "excess_mortality                            3.276329\n",
      "excess_mortality_cumulative                 3.276329\n",
      "excess_mortality_cumulative_per_million     3.276329\n",
      "Index                                       0.000126\n",
      "Length: 68, dtype: float64\n"
     ]
    }
   ],
   "source": [
    "# Check on memory usage\n",
    "memory_usage = df.memory_usage(deep=True)\n",
    "# Convert memory usage to MB for better readability \n",
    "memory_usage = (memory_usage / (1024 ** 2)).sort_values(ascending=False)  # Convert to MB\n",
    "print(f\"Memory usage (in MB):\\n{memory_usage}\")"
   ]
  },
  {
   "cell_type": "code",
   "execution_count": 8,
   "id": "12e97e11",
   "metadata": {},
   "outputs": [
    {
     "name": "stdout",
     "output_type": "stream",
     "text": [
      "<class 'pandas.core.frame.DataFrame'>\n",
      "RangeIndex: 429435 entries, 0 to 429434\n",
      "Data columns (total 67 columns):\n",
      " #   Column                                      Non-Null Count   Dtype  \n",
      "---  ------                                      --------------   -----  \n",
      " 0   iso_code                                    429435 non-null  object \n",
      " 1   continent                                   402910 non-null  object \n",
      " 2   location                                    429435 non-null  object \n",
      " 3   date                                        429435 non-null  object \n",
      " 4   total_cases                                 411804 non-null  float64\n",
      " 5   new_cases                                   410159 non-null  float64\n",
      " 6   new_cases_smoothed                          408929 non-null  float64\n",
      " 7   total_deaths                                411804 non-null  float64\n",
      " 8   new_deaths                                  410608 non-null  float64\n",
      " 9   new_deaths_smoothed                         409378 non-null  float64\n",
      " 10  total_cases_per_million                     411804 non-null  float64\n",
      " 11  new_cases_per_million                       410159 non-null  float64\n",
      " 12  new_cases_smoothed_per_million              408929 non-null  float64\n",
      " 13  total_deaths_per_million                    411804 non-null  float64\n",
      " 14  new_deaths_per_million                      410608 non-null  float64\n",
      " 15  new_deaths_smoothed_per_million             409378 non-null  float64\n",
      " 16  reproduction_rate                           184817 non-null  float64\n",
      " 17  icu_patients                                39116 non-null   float64\n",
      " 18  icu_patients_per_million                    39116 non-null   float64\n",
      " 19  hosp_patients                               40656 non-null   float64\n",
      " 20  hosp_patients_per_million                   40656 non-null   float64\n",
      " 21  weekly_icu_admissions                       10993 non-null   float64\n",
      " 22  weekly_icu_admissions_per_million           10993 non-null   float64\n",
      " 23  weekly_hosp_admissions                      24497 non-null   float64\n",
      " 24  weekly_hosp_admissions_per_million          24497 non-null   float64\n",
      " 25  total_tests                                 79387 non-null   float64\n",
      " 26  new_tests                                   75403 non-null   float64\n",
      " 27  total_tests_per_thousand                    79387 non-null   float64\n",
      " 28  new_tests_per_thousand                      75403 non-null   float64\n",
      " 29  new_tests_smoothed                          103965 non-null  float64\n",
      " 30  new_tests_smoothed_per_thousand             103965 non-null  float64\n",
      " 31  positive_rate                               95927 non-null   float64\n",
      " 32  tests_per_case                              94348 non-null   float64\n",
      " 33  tests_units                                 106788 non-null  object \n",
      " 34  total_vaccinations                          85417 non-null   float64\n",
      " 35  people_vaccinated                           81132 non-null   float64\n",
      " 36  people_fully_vaccinated                     78061 non-null   float64\n",
      " 37  total_boosters                              53600 non-null   float64\n",
      " 38  new_vaccinations                            70971 non-null   float64\n",
      " 39  new_vaccinations_smoothed                   195029 non-null  float64\n",
      " 40  total_vaccinations_per_hundred              85417 non-null   float64\n",
      " 41  people_vaccinated_per_hundred               81132 non-null   float64\n",
      " 42  people_fully_vaccinated_per_hundred         78061 non-null   float64\n",
      " 43  total_boosters_per_hundred                  53600 non-null   float64\n",
      " 44  new_vaccinations_smoothed_per_million       195029 non-null  float64\n",
      " 45  new_people_vaccinated_smoothed              192177 non-null  float64\n",
      " 46  new_people_vaccinated_smoothed_per_hundred  192177 non-null  float64\n",
      " 47  stringency_index                            196190 non-null  float64\n",
      " 48  population_density                          360492 non-null  float64\n",
      " 49  median_age                                  334663 non-null  float64\n",
      " 50  aged_65_older                               323270 non-null  float64\n",
      " 51  aged_70_older                               331315 non-null  float64\n",
      " 52  gdp_per_capita                              328292 non-null  float64\n",
      " 53  extreme_poverty                             211996 non-null  float64\n",
      " 54  cardiovasc_death_rate                       328865 non-null  float64\n",
      " 55  diabetes_prevalence                         345911 non-null  float64\n",
      " 56  female_smokers                              247165 non-null  float64\n",
      " 57  male_smokers                                243817 non-null  float64\n",
      " 58  handwashing_facilities                      161741 non-null  float64\n",
      " 59  hospital_beds_per_thousand                  290689 non-null  float64\n",
      " 60  life_expectancy                             390299 non-null  float64\n",
      " 61  human_development_index                     319127 non-null  float64\n",
      " 62  population                                  429435 non-null  int64  \n",
      " 63  excess_mortality_cumulative_absolute        13411 non-null   float64\n",
      " 64  excess_mortality_cumulative                 13411 non-null   float64\n",
      " 65  excess_mortality                            13411 non-null   float64\n",
      " 66  excess_mortality_cumulative_per_million     13411 non-null   float64\n",
      "dtypes: float64(61), int64(1), object(5)\n",
      "memory usage: 219.5+ MB\n"
     ]
    }
   ],
   "source": [
    "# Dataset information\n",
    "df.info()"
   ]
  },
  {
   "cell_type": "code",
   "execution_count": 9,
   "id": "48d99699",
   "metadata": {},
   "outputs": [
    {
     "data": {
      "text/plain": [
       "Index(['iso_code', 'continent', 'location', 'date', 'total_cases', 'new_cases',\n",
       "       'new_cases_smoothed', 'total_deaths', 'new_deaths',\n",
       "       'new_deaths_smoothed', 'total_cases_per_million',\n",
       "       'new_cases_per_million', 'new_cases_smoothed_per_million',\n",
       "       'total_deaths_per_million', 'new_deaths_per_million',\n",
       "       'new_deaths_smoothed_per_million', 'reproduction_rate', 'icu_patients',\n",
       "       'icu_patients_per_million', 'hosp_patients',\n",
       "       'hosp_patients_per_million', 'weekly_icu_admissions',\n",
       "       'weekly_icu_admissions_per_million', 'weekly_hosp_admissions',\n",
       "       'weekly_hosp_admissions_per_million', 'total_tests', 'new_tests',\n",
       "       'total_tests_per_thousand', 'new_tests_per_thousand',\n",
       "       'new_tests_smoothed', 'new_tests_smoothed_per_thousand',\n",
       "       'positive_rate', 'tests_per_case', 'tests_units', 'total_vaccinations',\n",
       "       'people_vaccinated', 'people_fully_vaccinated', 'total_boosters',\n",
       "       'new_vaccinations', 'new_vaccinations_smoothed',\n",
       "       'total_vaccinations_per_hundred', 'people_vaccinated_per_hundred',\n",
       "       'people_fully_vaccinated_per_hundred', 'total_boosters_per_hundred',\n",
       "       'new_vaccinations_smoothed_per_million',\n",
       "       'new_people_vaccinated_smoothed',\n",
       "       'new_people_vaccinated_smoothed_per_hundred', 'stringency_index',\n",
       "       'population_density', 'median_age', 'aged_65_older', 'aged_70_older',\n",
       "       'gdp_per_capita', 'extreme_poverty', 'cardiovasc_death_rate',\n",
       "       'diabetes_prevalence', 'female_smokers', 'male_smokers',\n",
       "       'handwashing_facilities', 'hospital_beds_per_thousand',\n",
       "       'life_expectancy', 'human_development_index', 'population',\n",
       "       'excess_mortality_cumulative_absolute', 'excess_mortality_cumulative',\n",
       "       'excess_mortality', 'excess_mortality_cumulative_per_million'],\n",
       "      dtype='object')"
      ]
     },
     "execution_count": 9,
     "metadata": {},
     "output_type": "execute_result"
    }
   ],
   "source": [
    "df.columns"
   ]
  },
  {
   "cell_type": "code",
   "execution_count": 10,
   "id": "3d8667c7",
   "metadata": {},
   "outputs": [
    {
     "name": "stdout",
     "output_type": "stream",
     "text": [
      "continent                                   26525\n",
      "total_cases                                 17631\n",
      "new_cases                                   19276\n",
      "new_cases_smoothed                          20506\n",
      "total_deaths                                17631\n",
      "                                            ...  \n",
      "human_development_index                    110308\n",
      "excess_mortality_cumulative_absolute       416024\n",
      "excess_mortality_cumulative                416024\n",
      "excess_mortality                           416024\n",
      "excess_mortality_cumulative_per_million    416024\n",
      "Length: 63, dtype: int64\n"
     ]
    }
   ],
   "source": [
    "# Check missing values\n",
    "missing_values = df.isnull().sum()\n",
    "print(missing_values[missing_values > 0])"
   ]
  },
  {
   "cell_type": "code",
   "execution_count": 11,
   "id": "0f743c49",
   "metadata": {},
   "outputs": [
    {
     "data": {
      "text/plain": [
       "iso_code                                        0\n",
       "continent                                   26525\n",
       "location                                        0\n",
       "date                                            0\n",
       "total_cases                                 17631\n",
       "                                            ...  \n",
       "population                                      0\n",
       "excess_mortality_cumulative_absolute       416024\n",
       "excess_mortality_cumulative                416024\n",
       "excess_mortality                           416024\n",
       "excess_mortality_cumulative_per_million    416024\n",
       "Length: 67, dtype: int64"
      ]
     },
     "execution_count": 11,
     "metadata": {},
     "output_type": "execute_result"
    }
   ],
   "source": [
    "df.isnull().sum()"
   ]
  },
  {
   "cell_type": "code",
   "execution_count": 12,
   "id": "b63afa7c",
   "metadata": {},
   "outputs": [
    {
     "name": "stdout",
     "output_type": "stream",
     "text": [
      "Number of duplicate rows: 0\n"
     ]
    }
   ],
   "source": [
    "# Check on duplicates\n",
    "duplicates = df.duplicated().sum()\n",
    "print(f\"Number of duplicate rows: {duplicates}\")"
   ]
  },
  {
   "cell_type": "code",
   "execution_count": 13,
   "id": "7182f978",
   "metadata": {},
   "outputs": [
    {
     "data": {
      "text/html": [
       "<div>\n",
       "<style scoped>\n",
       "    .dataframe tbody tr th:only-of-type {\n",
       "        vertical-align: middle;\n",
       "    }\n",
       "\n",
       "    .dataframe tbody tr th {\n",
       "        vertical-align: top;\n",
       "    }\n",
       "\n",
       "    .dataframe thead th {\n",
       "        text-align: right;\n",
       "    }\n",
       "</style>\n",
       "<table border=\"1\" class=\"dataframe\">\n",
       "  <thead>\n",
       "    <tr style=\"text-align: right;\">\n",
       "      <th></th>\n",
       "      <th>total_cases</th>\n",
       "      <th>new_cases</th>\n",
       "      <th>new_cases_smoothed</th>\n",
       "      <th>total_deaths</th>\n",
       "      <th>new_deaths</th>\n",
       "      <th>new_deaths_smoothed</th>\n",
       "      <th>total_cases_per_million</th>\n",
       "      <th>new_cases_per_million</th>\n",
       "      <th>new_cases_smoothed_per_million</th>\n",
       "      <th>total_deaths_per_million</th>\n",
       "      <th>new_deaths_per_million</th>\n",
       "      <th>new_deaths_smoothed_per_million</th>\n",
       "      <th>reproduction_rate</th>\n",
       "      <th>icu_patients</th>\n",
       "      <th>icu_patients_per_million</th>\n",
       "      <th>hosp_patients</th>\n",
       "      <th>hosp_patients_per_million</th>\n",
       "      <th>weekly_icu_admissions</th>\n",
       "      <th>weekly_icu_admissions_per_million</th>\n",
       "      <th>weekly_hosp_admissions</th>\n",
       "      <th>weekly_hosp_admissions_per_million</th>\n",
       "      <th>total_tests</th>\n",
       "      <th>new_tests</th>\n",
       "      <th>total_tests_per_thousand</th>\n",
       "      <th>new_tests_per_thousand</th>\n",
       "      <th>new_tests_smoothed</th>\n",
       "      <th>new_tests_smoothed_per_thousand</th>\n",
       "      <th>positive_rate</th>\n",
       "      <th>tests_per_case</th>\n",
       "      <th>total_vaccinations</th>\n",
       "      <th>people_vaccinated</th>\n",
       "      <th>people_fully_vaccinated</th>\n",
       "      <th>total_boosters</th>\n",
       "      <th>new_vaccinations</th>\n",
       "      <th>new_vaccinations_smoothed</th>\n",
       "      <th>total_vaccinations_per_hundred</th>\n",
       "      <th>people_vaccinated_per_hundred</th>\n",
       "      <th>people_fully_vaccinated_per_hundred</th>\n",
       "      <th>total_boosters_per_hundred</th>\n",
       "      <th>new_vaccinations_smoothed_per_million</th>\n",
       "      <th>new_people_vaccinated_smoothed</th>\n",
       "      <th>new_people_vaccinated_smoothed_per_hundred</th>\n",
       "      <th>stringency_index</th>\n",
       "      <th>population_density</th>\n",
       "      <th>median_age</th>\n",
       "      <th>aged_65_older</th>\n",
       "      <th>aged_70_older</th>\n",
       "      <th>gdp_per_capita</th>\n",
       "      <th>extreme_poverty</th>\n",
       "      <th>cardiovasc_death_rate</th>\n",
       "      <th>diabetes_prevalence</th>\n",
       "      <th>female_smokers</th>\n",
       "      <th>male_smokers</th>\n",
       "      <th>handwashing_facilities</th>\n",
       "      <th>hospital_beds_per_thousand</th>\n",
       "      <th>life_expectancy</th>\n",
       "      <th>human_development_index</th>\n",
       "      <th>population</th>\n",
       "      <th>excess_mortality_cumulative_absolute</th>\n",
       "      <th>excess_mortality_cumulative</th>\n",
       "      <th>excess_mortality</th>\n",
       "      <th>excess_mortality_cumulative_per_million</th>\n",
       "    </tr>\n",
       "  </thead>\n",
       "  <tbody>\n",
       "    <tr>\n",
       "      <th>count</th>\n",
       "      <td>4.118040e+05</td>\n",
       "      <td>4.101590e+05</td>\n",
       "      <td>4.089290e+05</td>\n",
       "      <td>4.118040e+05</td>\n",
       "      <td>410608.000000</td>\n",
       "      <td>409378.000000</td>\n",
       "      <td>411804.000000</td>\n",
       "      <td>410159.000000</td>\n",
       "      <td>408929.000000</td>\n",
       "      <td>411804.000000</td>\n",
       "      <td>410608.000000</td>\n",
       "      <td>409378.000000</td>\n",
       "      <td>184817.000000</td>\n",
       "      <td>39116.000000</td>\n",
       "      <td>39116.000000</td>\n",
       "      <td>40656.000000</td>\n",
       "      <td>40656.000000</td>\n",
       "      <td>10993.000000</td>\n",
       "      <td>10993.000000</td>\n",
       "      <td>24497.000000</td>\n",
       "      <td>24497.000000</td>\n",
       "      <td>7.938700e+04</td>\n",
       "      <td>7.540300e+04</td>\n",
       "      <td>79387.000000</td>\n",
       "      <td>75403.000000</td>\n",
       "      <td>1.039650e+05</td>\n",
       "      <td>103965.000000</td>\n",
       "      <td>95927.000000</td>\n",
       "      <td>9.434800e+04</td>\n",
       "      <td>8.541700e+04</td>\n",
       "      <td>8.113200e+04</td>\n",
       "      <td>7.806100e+04</td>\n",
       "      <td>5.360000e+04</td>\n",
       "      <td>7.097100e+04</td>\n",
       "      <td>1.950290e+05</td>\n",
       "      <td>85417.000000</td>\n",
       "      <td>81132.000000</td>\n",
       "      <td>78061.000000</td>\n",
       "      <td>53600.000000</td>\n",
       "      <td>195029.000000</td>\n",
       "      <td>1.921770e+05</td>\n",
       "      <td>192177.000000</td>\n",
       "      <td>196190.000000</td>\n",
       "      <td>360492.000000</td>\n",
       "      <td>334663.000000</td>\n",
       "      <td>323270.000000</td>\n",
       "      <td>331315.000000</td>\n",
       "      <td>328292.000000</td>\n",
       "      <td>211996.000000</td>\n",
       "      <td>328865.000000</td>\n",
       "      <td>345911.000000</td>\n",
       "      <td>247165.000000</td>\n",
       "      <td>243817.000000</td>\n",
       "      <td>161741.000000</td>\n",
       "      <td>290689.000000</td>\n",
       "      <td>390299.000000</td>\n",
       "      <td>319127.000000</td>\n",
       "      <td>4.294350e+05</td>\n",
       "      <td>1.341100e+04</td>\n",
       "      <td>13411.000000</td>\n",
       "      <td>13411.000000</td>\n",
       "      <td>13411.000000</td>\n",
       "    </tr>\n",
       "    <tr>\n",
       "      <th>mean</th>\n",
       "      <td>7.365292e+06</td>\n",
       "      <td>8.017360e+03</td>\n",
       "      <td>8.041026e+03</td>\n",
       "      <td>8.125957e+04</td>\n",
       "      <td>71.852139</td>\n",
       "      <td>72.060873</td>\n",
       "      <td>112096.199396</td>\n",
       "      <td>122.357074</td>\n",
       "      <td>122.713844</td>\n",
       "      <td>835.514313</td>\n",
       "      <td>0.762323</td>\n",
       "      <td>0.764555</td>\n",
       "      <td>0.911495</td>\n",
       "      <td>660.971418</td>\n",
       "      <td>15.656340</td>\n",
       "      <td>3911.741563</td>\n",
       "      <td>125.988007</td>\n",
       "      <td>317.894114</td>\n",
       "      <td>9.671944</td>\n",
       "      <td>4291.723313</td>\n",
       "      <td>82.619130</td>\n",
       "      <td>2.110457e+07</td>\n",
       "      <td>6.728541e+04</td>\n",
       "      <td>924.254762</td>\n",
       "      <td>3.272466</td>\n",
       "      <td>1.421784e+05</td>\n",
       "      <td>2.826309</td>\n",
       "      <td>0.098163</td>\n",
       "      <td>2.403633e+03</td>\n",
       "      <td>5.616980e+08</td>\n",
       "      <td>2.487064e+08</td>\n",
       "      <td>2.286639e+08</td>\n",
       "      <td>1.505811e+08</td>\n",
       "      <td>7.398640e+05</td>\n",
       "      <td>2.838758e+05</td>\n",
       "      <td>124.279558</td>\n",
       "      <td>53.501409</td>\n",
       "      <td>48.680182</td>\n",
       "      <td>36.301489</td>\n",
       "      <td>1851.477596</td>\n",
       "      <td>1.060707e+05</td>\n",
       "      <td>0.074980</td>\n",
       "      <td>42.877560</td>\n",
       "      <td>394.073095</td>\n",
       "      <td>30.456296</td>\n",
       "      <td>8.684103</td>\n",
       "      <td>5.486843</td>\n",
       "      <td>18904.182986</td>\n",
       "      <td>13.924729</td>\n",
       "      <td>264.639387</td>\n",
       "      <td>8.556055</td>\n",
       "      <td>10.772465</td>\n",
       "      <td>33.097723</td>\n",
       "      <td>50.649264</td>\n",
       "      <td>3.106912</td>\n",
       "      <td>73.702098</td>\n",
       "      <td>0.722139</td>\n",
       "      <td>1.520336e+08</td>\n",
       "      <td>5.604765e+04</td>\n",
       "      <td>9.766431</td>\n",
       "      <td>10.925353</td>\n",
       "      <td>1772.666400</td>\n",
       "    </tr>\n",
       "    <tr>\n",
       "      <th>std</th>\n",
       "      <td>4.477582e+07</td>\n",
       "      <td>2.296649e+05</td>\n",
       "      <td>8.661611e+04</td>\n",
       "      <td>4.411901e+05</td>\n",
       "      <td>1368.322990</td>\n",
       "      <td>513.636567</td>\n",
       "      <td>162240.412419</td>\n",
       "      <td>1508.778583</td>\n",
       "      <td>559.701638</td>\n",
       "      <td>1134.932671</td>\n",
       "      <td>6.982537</td>\n",
       "      <td>2.546519</td>\n",
       "      <td>0.399925</td>\n",
       "      <td>2139.615532</td>\n",
       "      <td>22.785489</td>\n",
       "      <td>9845.750485</td>\n",
       "      <td>151.155812</td>\n",
       "      <td>514.412910</td>\n",
       "      <td>13.574017</td>\n",
       "      <td>10919.623681</td>\n",
       "      <td>88.396751</td>\n",
       "      <td>8.409869e+07</td>\n",
       "      <td>2.477340e+05</td>\n",
       "      <td>2195.428504</td>\n",
       "      <td>9.033843</td>\n",
       "      <td>1.138215e+06</td>\n",
       "      <td>7.308233</td>\n",
       "      <td>0.115978</td>\n",
       "      <td>3.344366e+04</td>\n",
       "      <td>1.842160e+09</td>\n",
       "      <td>8.006461e+08</td>\n",
       "      <td>7.403763e+08</td>\n",
       "      <td>4.360697e+08</td>\n",
       "      <td>3.183064e+06</td>\n",
       "      <td>1.922352e+06</td>\n",
       "      <td>85.098042</td>\n",
       "      <td>29.379655</td>\n",
       "      <td>29.042282</td>\n",
       "      <td>30.218208</td>\n",
       "      <td>3117.828731</td>\n",
       "      <td>7.866884e+05</td>\n",
       "      <td>0.176216</td>\n",
       "      <td>24.870492</td>\n",
       "      <td>1785.451215</td>\n",
       "      <td>9.093554</td>\n",
       "      <td>6.093193</td>\n",
       "      <td>4.136342</td>\n",
       "      <td>19829.578099</td>\n",
       "      <td>20.073912</td>\n",
       "      <td>120.756836</td>\n",
       "      <td>4.934656</td>\n",
       "      <td>10.761080</td>\n",
       "      <td>13.853948</td>\n",
       "      <td>31.905375</td>\n",
       "      <td>2.549205</td>\n",
       "      <td>7.387914</td>\n",
       "      <td>0.148903</td>\n",
       "      <td>6.975408e+08</td>\n",
       "      <td>1.568691e+05</td>\n",
       "      <td>12.040658</td>\n",
       "      <td>24.560706</td>\n",
       "      <td>1991.892769</td>\n",
       "    </tr>\n",
       "    <tr>\n",
       "      <th>min</th>\n",
       "      <td>0.000000e+00</td>\n",
       "      <td>0.000000e+00</td>\n",
       "      <td>0.000000e+00</td>\n",
       "      <td>0.000000e+00</td>\n",
       "      <td>0.000000</td>\n",
       "      <td>0.000000</td>\n",
       "      <td>0.000000</td>\n",
       "      <td>0.000000</td>\n",
       "      <td>0.000000</td>\n",
       "      <td>0.000000</td>\n",
       "      <td>0.000000</td>\n",
       "      <td>0.000000</td>\n",
       "      <td>-0.070000</td>\n",
       "      <td>0.000000</td>\n",
       "      <td>0.000000</td>\n",
       "      <td>0.000000</td>\n",
       "      <td>0.000000</td>\n",
       "      <td>0.000000</td>\n",
       "      <td>0.000000</td>\n",
       "      <td>0.000000</td>\n",
       "      <td>0.000000</td>\n",
       "      <td>0.000000e+00</td>\n",
       "      <td>1.000000e+00</td>\n",
       "      <td>0.000000</td>\n",
       "      <td>0.000000</td>\n",
       "      <td>0.000000e+00</td>\n",
       "      <td>0.000000</td>\n",
       "      <td>0.000000</td>\n",
       "      <td>1.000000e+00</td>\n",
       "      <td>0.000000e+00</td>\n",
       "      <td>0.000000e+00</td>\n",
       "      <td>1.000000e+00</td>\n",
       "      <td>1.000000e+00</td>\n",
       "      <td>0.000000e+00</td>\n",
       "      <td>0.000000e+00</td>\n",
       "      <td>0.000000</td>\n",
       "      <td>0.000000</td>\n",
       "      <td>0.000000</td>\n",
       "      <td>0.000000</td>\n",
       "      <td>0.000000</td>\n",
       "      <td>0.000000e+00</td>\n",
       "      <td>0.000000</td>\n",
       "      <td>0.000000</td>\n",
       "      <td>0.137000</td>\n",
       "      <td>15.100000</td>\n",
       "      <td>1.144000</td>\n",
       "      <td>0.526000</td>\n",
       "      <td>661.240000</td>\n",
       "      <td>0.100000</td>\n",
       "      <td>79.370000</td>\n",
       "      <td>0.990000</td>\n",
       "      <td>0.100000</td>\n",
       "      <td>7.700000</td>\n",
       "      <td>1.188000</td>\n",
       "      <td>0.100000</td>\n",
       "      <td>53.280000</td>\n",
       "      <td>0.394000</td>\n",
       "      <td>4.700000e+01</td>\n",
       "      <td>-3.772610e+04</td>\n",
       "      <td>-44.230000</td>\n",
       "      <td>-95.920000</td>\n",
       "      <td>-2936.453100</td>\n",
       "    </tr>\n",
       "    <tr>\n",
       "      <th>25%</th>\n",
       "      <td>6.280750e+03</td>\n",
       "      <td>0.000000e+00</td>\n",
       "      <td>0.000000e+00</td>\n",
       "      <td>4.300000e+01</td>\n",
       "      <td>0.000000</td>\n",
       "      <td>0.000000</td>\n",
       "      <td>1916.100500</td>\n",
       "      <td>0.000000</td>\n",
       "      <td>0.000000</td>\n",
       "      <td>24.568000</td>\n",
       "      <td>0.000000</td>\n",
       "      <td>0.000000</td>\n",
       "      <td>0.720000</td>\n",
       "      <td>21.000000</td>\n",
       "      <td>2.328000</td>\n",
       "      <td>186.000000</td>\n",
       "      <td>30.997000</td>\n",
       "      <td>17.000000</td>\n",
       "      <td>1.549000</td>\n",
       "      <td>223.000000</td>\n",
       "      <td>23.728000</td>\n",
       "      <td>3.646540e+05</td>\n",
       "      <td>2.244000e+03</td>\n",
       "      <td>43.585500</td>\n",
       "      <td>0.286000</td>\n",
       "      <td>1.486000e+03</td>\n",
       "      <td>0.203000</td>\n",
       "      <td>0.017000</td>\n",
       "      <td>7.100000e+00</td>\n",
       "      <td>1.970788e+06</td>\n",
       "      <td>1.050009e+06</td>\n",
       "      <td>9.644000e+05</td>\n",
       "      <td>6.022820e+05</td>\n",
       "      <td>2.010000e+03</td>\n",
       "      <td>2.790000e+02</td>\n",
       "      <td>44.770000</td>\n",
       "      <td>27.880000</td>\n",
       "      <td>21.220000</td>\n",
       "      <td>5.920000</td>\n",
       "      <td>106.000000</td>\n",
       "      <td>4.300000e+01</td>\n",
       "      <td>0.001000</td>\n",
       "      <td>22.220000</td>\n",
       "      <td>37.728000</td>\n",
       "      <td>22.200000</td>\n",
       "      <td>3.526000</td>\n",
       "      <td>2.063000</td>\n",
       "      <td>4227.630000</td>\n",
       "      <td>0.600000</td>\n",
       "      <td>175.695000</td>\n",
       "      <td>5.350000</td>\n",
       "      <td>1.900000</td>\n",
       "      <td>22.600000</td>\n",
       "      <td>20.859000</td>\n",
       "      <td>1.300000</td>\n",
       "      <td>69.500000</td>\n",
       "      <td>0.602000</td>\n",
       "      <td>5.237980e+05</td>\n",
       "      <td>1.765000e+02</td>\n",
       "      <td>2.060000</td>\n",
       "      <td>-1.500000</td>\n",
       "      <td>116.872242</td>\n",
       "    </tr>\n",
       "    <tr>\n",
       "      <th>50%</th>\n",
       "      <td>6.365300e+04</td>\n",
       "      <td>0.000000e+00</td>\n",
       "      <td>1.200000e+01</td>\n",
       "      <td>7.990000e+02</td>\n",
       "      <td>0.000000</td>\n",
       "      <td>0.000000</td>\n",
       "      <td>29145.475000</td>\n",
       "      <td>0.000000</td>\n",
       "      <td>2.794000</td>\n",
       "      <td>295.089000</td>\n",
       "      <td>0.000000</td>\n",
       "      <td>0.000000</td>\n",
       "      <td>0.950000</td>\n",
       "      <td>90.000000</td>\n",
       "      <td>6.434000</td>\n",
       "      <td>776.000000</td>\n",
       "      <td>74.236000</td>\n",
       "      <td>92.000000</td>\n",
       "      <td>4.645000</td>\n",
       "      <td>864.000000</td>\n",
       "      <td>56.277000</td>\n",
       "      <td>2.067330e+06</td>\n",
       "      <td>8.783000e+03</td>\n",
       "      <td>234.141000</td>\n",
       "      <td>0.971000</td>\n",
       "      <td>6.570000e+03</td>\n",
       "      <td>0.851000</td>\n",
       "      <td>0.055000</td>\n",
       "      <td>1.750000e+01</td>\n",
       "      <td>1.439435e+07</td>\n",
       "      <td>6.901088e+06</td>\n",
       "      <td>6.191345e+06</td>\n",
       "      <td>5.765440e+06</td>\n",
       "      <td>2.053100e+04</td>\n",
       "      <td>3.871000e+03</td>\n",
       "      <td>130.550000</td>\n",
       "      <td>64.300000</td>\n",
       "      <td>57.920000</td>\n",
       "      <td>35.905000</td>\n",
       "      <td>605.000000</td>\n",
       "      <td>7.710000e+02</td>\n",
       "      <td>0.014000</td>\n",
       "      <td>42.850000</td>\n",
       "      <td>88.125000</td>\n",
       "      <td>29.700000</td>\n",
       "      <td>6.293000</td>\n",
       "      <td>3.871000</td>\n",
       "      <td>12294.876000</td>\n",
       "      <td>2.500000</td>\n",
       "      <td>245.465000</td>\n",
       "      <td>7.200000</td>\n",
       "      <td>6.300000</td>\n",
       "      <td>33.100000</td>\n",
       "      <td>49.542000</td>\n",
       "      <td>2.500000</td>\n",
       "      <td>75.050000</td>\n",
       "      <td>0.740000</td>\n",
       "      <td>6.336393e+06</td>\n",
       "      <td>6.815199e+03</td>\n",
       "      <td>8.130000</td>\n",
       "      <td>5.660000</td>\n",
       "      <td>1270.801400</td>\n",
       "    </tr>\n",
       "    <tr>\n",
       "      <th>75%</th>\n",
       "      <td>7.582720e+05</td>\n",
       "      <td>0.000000e+00</td>\n",
       "      <td>3.132860e+02</td>\n",
       "      <td>9.574000e+03</td>\n",
       "      <td>0.000000</td>\n",
       "      <td>3.143000</td>\n",
       "      <td>156770.190000</td>\n",
       "      <td>0.000000</td>\n",
       "      <td>56.253000</td>\n",
       "      <td>1283.817000</td>\n",
       "      <td>0.000000</td>\n",
       "      <td>0.357000</td>\n",
       "      <td>1.140000</td>\n",
       "      <td>413.000000</td>\n",
       "      <td>18.779250</td>\n",
       "      <td>3051.000000</td>\n",
       "      <td>159.758250</td>\n",
       "      <td>353.000000</td>\n",
       "      <td>12.651000</td>\n",
       "      <td>3893.000000</td>\n",
       "      <td>109.998000</td>\n",
       "      <td>1.024845e+07</td>\n",
       "      <td>3.722900e+04</td>\n",
       "      <td>894.374500</td>\n",
       "      <td>2.914000</td>\n",
       "      <td>3.220500e+04</td>\n",
       "      <td>2.584000</td>\n",
       "      <td>0.138100</td>\n",
       "      <td>5.460000e+01</td>\n",
       "      <td>1.161972e+08</td>\n",
       "      <td>5.093295e+07</td>\n",
       "      <td>4.773185e+07</td>\n",
       "      <td>4.019072e+07</td>\n",
       "      <td>1.736115e+05</td>\n",
       "      <td>3.180300e+04</td>\n",
       "      <td>194.990000</td>\n",
       "      <td>77.780000</td>\n",
       "      <td>73.610000</td>\n",
       "      <td>57.620000</td>\n",
       "      <td>2402.000000</td>\n",
       "      <td>9.307000e+03</td>\n",
       "      <td>0.073000</td>\n",
       "      <td>62.040000</td>\n",
       "      <td>222.873000</td>\n",
       "      <td>38.700000</td>\n",
       "      <td>13.928000</td>\n",
       "      <td>8.643000</td>\n",
       "      <td>27216.445000</td>\n",
       "      <td>21.400000</td>\n",
       "      <td>333.436000</td>\n",
       "      <td>10.790000</td>\n",
       "      <td>19.300000</td>\n",
       "      <td>41.500000</td>\n",
       "      <td>82.502000</td>\n",
       "      <td>4.210000</td>\n",
       "      <td>79.460000</td>\n",
       "      <td>0.829000</td>\n",
       "      <td>3.296952e+07</td>\n",
       "      <td>3.912804e+04</td>\n",
       "      <td>15.160000</td>\n",
       "      <td>15.575000</td>\n",
       "      <td>2883.024150</td>\n",
       "    </tr>\n",
       "    <tr>\n",
       "      <th>max</th>\n",
       "      <td>7.758668e+08</td>\n",
       "      <td>4.423623e+07</td>\n",
       "      <td>6.319461e+06</td>\n",
       "      <td>7.057132e+06</td>\n",
       "      <td>103719.000000</td>\n",
       "      <td>14817.000000</td>\n",
       "      <td>763598.600000</td>\n",
       "      <td>241758.230000</td>\n",
       "      <td>34536.890000</td>\n",
       "      <td>6601.110000</td>\n",
       "      <td>893.655000</td>\n",
       "      <td>127.665000</td>\n",
       "      <td>5.870000</td>\n",
       "      <td>28891.000000</td>\n",
       "      <td>180.675000</td>\n",
       "      <td>154497.000000</td>\n",
       "      <td>1526.846000</td>\n",
       "      <td>4838.000000</td>\n",
       "      <td>224.976000</td>\n",
       "      <td>153977.000000</td>\n",
       "      <td>717.077000</td>\n",
       "      <td>9.214000e+09</td>\n",
       "      <td>3.585563e+07</td>\n",
       "      <td>32925.826000</td>\n",
       "      <td>531.062000</td>\n",
       "      <td>1.476998e+07</td>\n",
       "      <td>147.603000</td>\n",
       "      <td>1.000000</td>\n",
       "      <td>1.023632e+06</td>\n",
       "      <td>1.357877e+10</td>\n",
       "      <td>5.631264e+09</td>\n",
       "      <td>5.177943e+09</td>\n",
       "      <td>2.817381e+09</td>\n",
       "      <td>4.967320e+07</td>\n",
       "      <td>4.369181e+07</td>\n",
       "      <td>410.230000</td>\n",
       "      <td>129.070000</td>\n",
       "      <td>126.890000</td>\n",
       "      <td>150.470000</td>\n",
       "      <td>117113.000000</td>\n",
       "      <td>2.107127e+07</td>\n",
       "      <td>11.711000</td>\n",
       "      <td>100.000000</td>\n",
       "      <td>20546.766000</td>\n",
       "      <td>48.200000</td>\n",
       "      <td>27.049000</td>\n",
       "      <td>18.493000</td>\n",
       "      <td>116935.600000</td>\n",
       "      <td>77.600000</td>\n",
       "      <td>724.417000</td>\n",
       "      <td>30.530000</td>\n",
       "      <td>44.000000</td>\n",
       "      <td>78.100000</td>\n",
       "      <td>100.000000</td>\n",
       "      <td>13.800000</td>\n",
       "      <td>86.750000</td>\n",
       "      <td>0.957000</td>\n",
       "      <td>7.975105e+09</td>\n",
       "      <td>1.349776e+06</td>\n",
       "      <td>78.080000</td>\n",
       "      <td>378.220000</td>\n",
       "      <td>10293.515000</td>\n",
       "    </tr>\n",
       "  </tbody>\n",
       "</table>\n",
       "</div>"
      ],
      "text/plain": [
       "        total_cases     new_cases  new_cases_smoothed  total_deaths  \\\n",
       "count  4.118040e+05  4.101590e+05        4.089290e+05  4.118040e+05   \n",
       "mean   7.365292e+06  8.017360e+03        8.041026e+03  8.125957e+04   \n",
       "std    4.477582e+07  2.296649e+05        8.661611e+04  4.411901e+05   \n",
       "min    0.000000e+00  0.000000e+00        0.000000e+00  0.000000e+00   \n",
       "25%    6.280750e+03  0.000000e+00        0.000000e+00  4.300000e+01   \n",
       "50%    6.365300e+04  0.000000e+00        1.200000e+01  7.990000e+02   \n",
       "75%    7.582720e+05  0.000000e+00        3.132860e+02  9.574000e+03   \n",
       "max    7.758668e+08  4.423623e+07        6.319461e+06  7.057132e+06   \n",
       "\n",
       "          new_deaths  new_deaths_smoothed  total_cases_per_million  \\\n",
       "count  410608.000000        409378.000000            411804.000000   \n",
       "mean       71.852139            72.060873            112096.199396   \n",
       "std      1368.322990           513.636567            162240.412419   \n",
       "min         0.000000             0.000000                 0.000000   \n",
       "25%         0.000000             0.000000              1916.100500   \n",
       "50%         0.000000             0.000000             29145.475000   \n",
       "75%         0.000000             3.143000            156770.190000   \n",
       "max    103719.000000         14817.000000            763598.600000   \n",
       "\n",
       "       new_cases_per_million  new_cases_smoothed_per_million  \\\n",
       "count          410159.000000                   408929.000000   \n",
       "mean              122.357074                      122.713844   \n",
       "std              1508.778583                      559.701638   \n",
       "min                 0.000000                        0.000000   \n",
       "25%                 0.000000                        0.000000   \n",
       "50%                 0.000000                        2.794000   \n",
       "75%                 0.000000                       56.253000   \n",
       "max            241758.230000                    34536.890000   \n",
       "\n",
       "       total_deaths_per_million  new_deaths_per_million  \\\n",
       "count             411804.000000           410608.000000   \n",
       "mean                 835.514313                0.762323   \n",
       "std                 1134.932671                6.982537   \n",
       "min                    0.000000                0.000000   \n",
       "25%                   24.568000                0.000000   \n",
       "50%                  295.089000                0.000000   \n",
       "75%                 1283.817000                0.000000   \n",
       "max                 6601.110000              893.655000   \n",
       "\n",
       "       new_deaths_smoothed_per_million  reproduction_rate  icu_patients  \\\n",
       "count                    409378.000000      184817.000000  39116.000000   \n",
       "mean                          0.764555           0.911495    660.971418   \n",
       "std                           2.546519           0.399925   2139.615532   \n",
       "min                           0.000000          -0.070000      0.000000   \n",
       "25%                           0.000000           0.720000     21.000000   \n",
       "50%                           0.000000           0.950000     90.000000   \n",
       "75%                           0.357000           1.140000    413.000000   \n",
       "max                         127.665000           5.870000  28891.000000   \n",
       "\n",
       "       icu_patients_per_million  hosp_patients  hosp_patients_per_million  \\\n",
       "count              39116.000000   40656.000000               40656.000000   \n",
       "mean                  15.656340    3911.741563                 125.988007   \n",
       "std                   22.785489    9845.750485                 151.155812   \n",
       "min                    0.000000       0.000000                   0.000000   \n",
       "25%                    2.328000     186.000000                  30.997000   \n",
       "50%                    6.434000     776.000000                  74.236000   \n",
       "75%                   18.779250    3051.000000                 159.758250   \n",
       "max                  180.675000  154497.000000                1526.846000   \n",
       "\n",
       "       weekly_icu_admissions  weekly_icu_admissions_per_million  \\\n",
       "count           10993.000000                       10993.000000   \n",
       "mean              317.894114                           9.671944   \n",
       "std               514.412910                          13.574017   \n",
       "min                 0.000000                           0.000000   \n",
       "25%                17.000000                           1.549000   \n",
       "50%                92.000000                           4.645000   \n",
       "75%               353.000000                          12.651000   \n",
       "max              4838.000000                         224.976000   \n",
       "\n",
       "       weekly_hosp_admissions  weekly_hosp_admissions_per_million  \\\n",
       "count            24497.000000                        24497.000000   \n",
       "mean              4291.723313                           82.619130   \n",
       "std              10919.623681                           88.396751   \n",
       "min                  0.000000                            0.000000   \n",
       "25%                223.000000                           23.728000   \n",
       "50%                864.000000                           56.277000   \n",
       "75%               3893.000000                          109.998000   \n",
       "max             153977.000000                          717.077000   \n",
       "\n",
       "        total_tests     new_tests  total_tests_per_thousand  \\\n",
       "count  7.938700e+04  7.540300e+04              79387.000000   \n",
       "mean   2.110457e+07  6.728541e+04                924.254762   \n",
       "std    8.409869e+07  2.477340e+05               2195.428504   \n",
       "min    0.000000e+00  1.000000e+00                  0.000000   \n",
       "25%    3.646540e+05  2.244000e+03                 43.585500   \n",
       "50%    2.067330e+06  8.783000e+03                234.141000   \n",
       "75%    1.024845e+07  3.722900e+04                894.374500   \n",
       "max    9.214000e+09  3.585563e+07              32925.826000   \n",
       "\n",
       "       new_tests_per_thousand  new_tests_smoothed  \\\n",
       "count            75403.000000        1.039650e+05   \n",
       "mean                 3.272466        1.421784e+05   \n",
       "std                  9.033843        1.138215e+06   \n",
       "min                  0.000000        0.000000e+00   \n",
       "25%                  0.286000        1.486000e+03   \n",
       "50%                  0.971000        6.570000e+03   \n",
       "75%                  2.914000        3.220500e+04   \n",
       "max                531.062000        1.476998e+07   \n",
       "\n",
       "       new_tests_smoothed_per_thousand  positive_rate  tests_per_case  \\\n",
       "count                    103965.000000   95927.000000    9.434800e+04   \n",
       "mean                          2.826309       0.098163    2.403633e+03   \n",
       "std                           7.308233       0.115978    3.344366e+04   \n",
       "min                           0.000000       0.000000    1.000000e+00   \n",
       "25%                           0.203000       0.017000    7.100000e+00   \n",
       "50%                           0.851000       0.055000    1.750000e+01   \n",
       "75%                           2.584000       0.138100    5.460000e+01   \n",
       "max                         147.603000       1.000000    1.023632e+06   \n",
       "\n",
       "       total_vaccinations  people_vaccinated  people_fully_vaccinated  \\\n",
       "count        8.541700e+04       8.113200e+04             7.806100e+04   \n",
       "mean         5.616980e+08       2.487064e+08             2.286639e+08   \n",
       "std          1.842160e+09       8.006461e+08             7.403763e+08   \n",
       "min          0.000000e+00       0.000000e+00             1.000000e+00   \n",
       "25%          1.970788e+06       1.050009e+06             9.644000e+05   \n",
       "50%          1.439435e+07       6.901088e+06             6.191345e+06   \n",
       "75%          1.161972e+08       5.093295e+07             4.773185e+07   \n",
       "max          1.357877e+10       5.631264e+09             5.177943e+09   \n",
       "\n",
       "       total_boosters  new_vaccinations  new_vaccinations_smoothed  \\\n",
       "count    5.360000e+04      7.097100e+04               1.950290e+05   \n",
       "mean     1.505811e+08      7.398640e+05               2.838758e+05   \n",
       "std      4.360697e+08      3.183064e+06               1.922352e+06   \n",
       "min      1.000000e+00      0.000000e+00               0.000000e+00   \n",
       "25%      6.022820e+05      2.010000e+03               2.790000e+02   \n",
       "50%      5.765440e+06      2.053100e+04               3.871000e+03   \n",
       "75%      4.019072e+07      1.736115e+05               3.180300e+04   \n",
       "max      2.817381e+09      4.967320e+07               4.369181e+07   \n",
       "\n",
       "       total_vaccinations_per_hundred  people_vaccinated_per_hundred  \\\n",
       "count                    85417.000000                   81132.000000   \n",
       "mean                       124.279558                      53.501409   \n",
       "std                         85.098042                      29.379655   \n",
       "min                          0.000000                       0.000000   \n",
       "25%                         44.770000                      27.880000   \n",
       "50%                        130.550000                      64.300000   \n",
       "75%                        194.990000                      77.780000   \n",
       "max                        410.230000                     129.070000   \n",
       "\n",
       "       people_fully_vaccinated_per_hundred  total_boosters_per_hundred  \\\n",
       "count                         78061.000000                53600.000000   \n",
       "mean                             48.680182                   36.301489   \n",
       "std                              29.042282                   30.218208   \n",
       "min                               0.000000                    0.000000   \n",
       "25%                              21.220000                    5.920000   \n",
       "50%                              57.920000                   35.905000   \n",
       "75%                              73.610000                   57.620000   \n",
       "max                             126.890000                  150.470000   \n",
       "\n",
       "       new_vaccinations_smoothed_per_million  new_people_vaccinated_smoothed  \\\n",
       "count                          195029.000000                    1.921770e+05   \n",
       "mean                             1851.477596                    1.060707e+05   \n",
       "std                              3117.828731                    7.866884e+05   \n",
       "min                                 0.000000                    0.000000e+00   \n",
       "25%                               106.000000                    4.300000e+01   \n",
       "50%                               605.000000                    7.710000e+02   \n",
       "75%                              2402.000000                    9.307000e+03   \n",
       "max                            117113.000000                    2.107127e+07   \n",
       "\n",
       "       new_people_vaccinated_smoothed_per_hundred  stringency_index  \\\n",
       "count                               192177.000000     196190.000000   \n",
       "mean                                     0.074980         42.877560   \n",
       "std                                      0.176216         24.870492   \n",
       "min                                      0.000000          0.000000   \n",
       "25%                                      0.001000         22.220000   \n",
       "50%                                      0.014000         42.850000   \n",
       "75%                                      0.073000         62.040000   \n",
       "max                                     11.711000        100.000000   \n",
       "\n",
       "       population_density     median_age  aged_65_older  aged_70_older  \\\n",
       "count       360492.000000  334663.000000  323270.000000  331315.000000   \n",
       "mean           394.073095      30.456296       8.684103       5.486843   \n",
       "std           1785.451215       9.093554       6.093193       4.136342   \n",
       "min              0.137000      15.100000       1.144000       0.526000   \n",
       "25%             37.728000      22.200000       3.526000       2.063000   \n",
       "50%             88.125000      29.700000       6.293000       3.871000   \n",
       "75%            222.873000      38.700000      13.928000       8.643000   \n",
       "max          20546.766000      48.200000      27.049000      18.493000   \n",
       "\n",
       "       gdp_per_capita  extreme_poverty  cardiovasc_death_rate  \\\n",
       "count   328292.000000    211996.000000          328865.000000   \n",
       "mean     18904.182986        13.924729             264.639387   \n",
       "std      19829.578099        20.073912             120.756836   \n",
       "min        661.240000         0.100000              79.370000   \n",
       "25%       4227.630000         0.600000             175.695000   \n",
       "50%      12294.876000         2.500000             245.465000   \n",
       "75%      27216.445000        21.400000             333.436000   \n",
       "max     116935.600000        77.600000             724.417000   \n",
       "\n",
       "       diabetes_prevalence  female_smokers   male_smokers  \\\n",
       "count        345911.000000   247165.000000  243817.000000   \n",
       "mean              8.556055       10.772465      33.097723   \n",
       "std               4.934656       10.761080      13.853948   \n",
       "min               0.990000        0.100000       7.700000   \n",
       "25%               5.350000        1.900000      22.600000   \n",
       "50%               7.200000        6.300000      33.100000   \n",
       "75%              10.790000       19.300000      41.500000   \n",
       "max              30.530000       44.000000      78.100000   \n",
       "\n",
       "       handwashing_facilities  hospital_beds_per_thousand  life_expectancy  \\\n",
       "count           161741.000000               290689.000000    390299.000000   \n",
       "mean                50.649264                    3.106912        73.702098   \n",
       "std                 31.905375                    2.549205         7.387914   \n",
       "min                  1.188000                    0.100000        53.280000   \n",
       "25%                 20.859000                    1.300000        69.500000   \n",
       "50%                 49.542000                    2.500000        75.050000   \n",
       "75%                 82.502000                    4.210000        79.460000   \n",
       "max                100.000000                   13.800000        86.750000   \n",
       "\n",
       "       human_development_index    population  \\\n",
       "count            319127.000000  4.294350e+05   \n",
       "mean                  0.722139  1.520336e+08   \n",
       "std                   0.148903  6.975408e+08   \n",
       "min                   0.394000  4.700000e+01   \n",
       "25%                   0.602000  5.237980e+05   \n",
       "50%                   0.740000  6.336393e+06   \n",
       "75%                   0.829000  3.296952e+07   \n",
       "max                   0.957000  7.975105e+09   \n",
       "\n",
       "       excess_mortality_cumulative_absolute  excess_mortality_cumulative  \\\n",
       "count                          1.341100e+04                 13411.000000   \n",
       "mean                           5.604765e+04                     9.766431   \n",
       "std                            1.568691e+05                    12.040658   \n",
       "min                           -3.772610e+04                   -44.230000   \n",
       "25%                            1.765000e+02                     2.060000   \n",
       "50%                            6.815199e+03                     8.130000   \n",
       "75%                            3.912804e+04                    15.160000   \n",
       "max                            1.349776e+06                    78.080000   \n",
       "\n",
       "       excess_mortality  excess_mortality_cumulative_per_million  \n",
       "count      13411.000000                             13411.000000  \n",
       "mean          10.925353                              1772.666400  \n",
       "std           24.560706                              1991.892769  \n",
       "min          -95.920000                             -2936.453100  \n",
       "25%           -1.500000                               116.872242  \n",
       "50%            5.660000                              1270.801400  \n",
       "75%           15.575000                              2883.024150  \n",
       "max          378.220000                             10293.515000  "
      ]
     },
     "execution_count": 13,
     "metadata": {},
     "output_type": "execute_result"
    }
   ],
   "source": [
    "df.describe()"
   ]
  },
  {
   "cell_type": "markdown",
   "id": "e5feadfe",
   "metadata": {},
   "source": [
    "2. Data Cleaning and Preparation\n",
    "\n"
   ]
  },
  {
   "cell_type": "code",
   "execution_count": 14,
   "id": "3b0f6cf9",
   "metadata": {},
   "outputs": [
    {
     "name": "stdout",
     "output_type": "stream",
     "text": [
      "\n",
      "Date column converted to datetime format.\n",
      "\n",
      "Cleaned data info:\n",
      "<class 'pandas.core.frame.DataFrame'>\n",
      "Index: 404212 entries, 56 to 429434\n",
      "Data columns (total 20 columns):\n",
      " #   Column                    Non-Null Count   Dtype         \n",
      "---  ------                    --------------   -----         \n",
      " 0   date                      404212 non-null  datetime64[ns]\n",
      " 1   location                  404212 non-null  object        \n",
      " 2   continent                 389722 non-null  object        \n",
      " 3   population                404212 non-null  int64         \n",
      " 4   total_cases               394564 non-null  float64       \n",
      " 5   new_cases                 394564 non-null  float64       \n",
      " 6   total_deaths              394564 non-null  float64       \n",
      " 7   new_deaths                394564 non-null  float64       \n",
      " 8   total_cases_per_million   394564 non-null  float64       \n",
      " 9   total_deaths_per_million  394564 non-null  float64       \n",
      " 10  total_vaccinations        292813 non-null  float64       \n",
      " 11  people_vaccinated         292057 non-null  float64       \n",
      " 12  people_fully_vaccinated   279658 non-null  float64       \n",
      " 13  new_vaccinations          228929 non-null  float64       \n",
      " 14  population_density        346897 non-null  float64       \n",
      " 15  median_age                321919 non-null  float64       \n",
      " 16  gdp_per_capita            315761 non-null  float64       \n",
      " 17  life_expectancy           375707 non-null  float64       \n",
      " 18  death_rate                377615 non-null  float64       \n",
      " 19  pct_vaccinated            292057 non-null  float64       \n",
      "dtypes: datetime64[ns](1), float64(16), int64(1), object(2)\n",
      "memory usage: 64.8+ MB\n"
     ]
    },
    {
     "data": {
      "text/plain": [
       "None"
      ]
     },
     "metadata": {},
     "output_type": "display_data"
    }
   ],
   "source": [
    "# Convert date column to datetime format\n",
    "if 'date' in df.columns:\n",
    "    df['date'] = pd.to_datetime(df['date'])\n",
    "    print(\"\\nDate column converted to datetime format.\")\n",
    "else:\n",
    "    print(\"\\nNo date column found in the dataset.\")\n",
    "\n",
    "# Filter for countries only (remove continent aggregates)\n",
    "countries_to_exclude = ['World', 'European Union', 'Asia', 'Africa', 'North America', \n",
    "                       'South America', 'Oceania', 'Europe', 'International']\n",
    "df = df[~df['location'].isin(countries_to_exclude)]\n",
    "\n",
    "# Select key columns for analysis\n",
    "key_columns = [\n",
    "    'date', 'location', 'continent', 'population', 'total_cases', 'new_cases',\n",
    "    'total_deaths', 'new_deaths', 'total_cases_per_million', \n",
    "    'total_deaths_per_million', 'total_vaccinations', 'people_vaccinated',\n",
    "    'people_fully_vaccinated', 'new_vaccinations', 'population_density',\n",
    "    'median_age', 'gdp_per_capita', 'life_expectancy'\n",
    "]\n",
    "\n",
    "# Filter for available key columns\n",
    "available_columns = [col for col in key_columns if col in df.columns]\n",
    "df = df[available_columns]\n",
    "\n",
    "# Handle missing numeric values by forward filling within each country\n",
    "df = df.sort_values(['location', 'date'])\n",
    "for col in df.select_dtypes(include=[np.number]).columns:\n",
    "    df[col] = df.groupby('location')[col].ffill()\n",
    "\n",
    "# Calculate derived metrics\n",
    "if 'total_cases' in df.columns and 'total_deaths' in df.columns:\n",
    "    df['death_rate'] = df['total_deaths'] / df['total_cases']\n",
    "if 'people_vaccinated' in df.columns and 'population' in df.columns:\n",
    "    df['pct_vaccinated'] = (df['people_vaccinated'] / df['population']) * 100\n",
    "\n",
    "# Filter for recent data (since 2020-03-01)\n",
    "if 'date' in df.columns:\n",
    "    df = df[df['date'] >= '2020-03-01']\n",
    "\n",
    "# Display cleaned data info\n",
    "print(\"\\nCleaned data info:\")\n",
    "display(df.info())"
   ]
  },
  {
   "cell_type": "code",
   "execution_count": 15,
   "id": "68702441",
   "metadata": {},
   "outputs": [
    {
     "name": "stdout",
     "output_type": "stream",
     "text": [
      "Numeric columns: ['population', 'total_cases', 'new_cases', 'total_deaths', 'new_deaths', 'total_cases_per_million', 'total_deaths_per_million', 'total_vaccinations', 'people_vaccinated', 'people_fully_vaccinated', 'new_vaccinations', 'population_density', 'median_age', 'gdp_per_capita', 'life_expectancy', 'death_rate', 'pct_vaccinated']\n"
     ]
    }
   ],
   "source": [
    "# Select columns based on dtype\n",
    "numeric_columns = df.select_dtypes(include=[\"number\"]).columns.to_list()\n",
    "# Display numeric columns\n",
    "print(f\"Numeric columns: {numeric_columns}\")"
   ]
  },
  {
   "cell_type": "code",
   "execution_count": 16,
   "id": "bfb48eee",
   "metadata": {},
   "outputs": [
    {
     "name": "stdout",
     "output_type": "stream",
     "text": [
      "Minimum values:\n",
      "total_cases                 0.0\n",
      "new_cases                   0.0\n",
      "total_deaths                0.0\n",
      "new_deaths                  0.0\n",
      "total_deaths_per_million    0.0\n",
      "total_cases_per_million     0.0\n",
      "total_vaccinations          0.0\n",
      "people_vaccinated           0.0\n",
      "death_rate                  0.0\n",
      "new_vaccinations            0.0\n",
      "dtype: float64\n"
     ]
    }
   ],
   "source": [
    "# Check for minimum in numeric columns\n",
    "min_values = df[numeric_columns].min().sort_values(ascending=True)\n",
    "\n",
    "print(f\"Minimum values:\\n{min_values.head(10)}\")\n"
   ]
  },
  {
   "cell_type": "code",
   "execution_count": 17,
   "id": "ef96524d",
   "metadata": {},
   "outputs": [],
   "source": [
    "# Relace NaN values with 0 in all numeric columns\n",
    "df[numeric_columns] = df[numeric_columns].fillna(0)"
   ]
  },
  {
   "cell_type": "code",
   "execution_count": 18,
   "id": "643c2bb3",
   "metadata": {},
   "outputs": [
    {
     "data": {
      "text/plain": [
       "population                  0\n",
       "total_cases                 0\n",
       "new_cases                   0\n",
       "total_deaths                0\n",
       "new_deaths                  0\n",
       "total_cases_per_million     0\n",
       "total_deaths_per_million    0\n",
       "total_vaccinations          0\n",
       "people_vaccinated           0\n",
       "people_fully_vaccinated     0\n",
       "new_vaccinations            0\n",
       "population_density          0\n",
       "median_age                  0\n",
       "gdp_per_capita              0\n",
       "life_expectancy             0\n",
       "death_rate                  0\n",
       "pct_vaccinated              0\n",
       "dtype: int64"
      ]
     },
     "execution_count": 18,
     "metadata": {},
     "output_type": "execute_result"
    }
   ],
   "source": [
    "# Check for null values\n",
    "df[numeric_columns].isnull().sum()"
   ]
  },
  {
   "cell_type": "code",
   "execution_count": 19,
   "id": "58a928e7",
   "metadata": {},
   "outputs": [
    {
     "name": "stdout",
     "output_type": "stream",
     "text": [
      "Object columns: ['location', 'continent']\n"
     ]
    }
   ],
   "source": [
    "# Check for object columns\n",
    "object_columns = df.select_dtypes(include=[\"object\"]).columns.to_list()\n",
    "# Display object columns\n",
    "print(f\"Object columns: {object_columns}\")"
   ]
  },
  {
   "cell_type": "markdown",
   "id": "e58d21b6",
   "metadata": {},
   "source": [
    "# Exploratory Data Analysis"
   ]
  },
  {
   "cell_type": "code",
   "execution_count": 20,
   "id": "051a7ab9",
   "metadata": {},
   "outputs": [
    {
     "data": {
      "text/plain": [
       "continent\n",
       "Africa           92227\n",
       "Europe           88175\n",
       "Asia             81491\n",
       "North America    66338\n",
       "Oceania          38839\n",
       "South America    22652\n",
       "Name: count, dtype: int64"
      ]
     },
     "execution_count": 20,
     "metadata": {},
     "output_type": "execute_result"
    }
   ],
   "source": [
    "# Check for unique values in the 'continent' column\n",
    "df['continent'].value_counts()"
   ]
  },
  {
   "cell_type": "code",
   "execution_count": 21,
   "id": "1e24fa5b",
   "metadata": {},
   "outputs": [
    {
     "data": {
      "image/png": "[encoded data removed]",
      "text/plain": [
       "<Figure size 1000x600 with 1 Axes>"
      ]
     },
     "metadata": {},
     "output_type": "display_data"
    }
   ],
   "source": [
    "# Plotting the distribution of the continent column\n",
    "plt.figure(figsize=(10, 6))\n",
    "sns.countplot(data=df, x='continent', order=df['continent'].value_counts().index)\n",
    "plt.title('Distribution of Continent')  \n",
    "plt.xticks(rotation=45)\n",
    "plt.show()"
   ]
  },
  {
   "cell_type": "code",
   "execution_count": 25,
   "id": "f60a0c64",
   "metadata": {},
   "outputs": [
    {
     "data": {
      "image/png": "[encoded data removed]",
      "text/plain": [
       "<Figure size 1200x600 with 1 Axes>"
      ]
     },
     "metadata": {},
     "output_type": "display_data"
    }
   ],
   "source": [
    "# Plot comparison of total cases and total deaths by continent\n",
    "plt.figure(figsize=(12, 6))\n",
    "sns.barplot(data=df, x='continent', y='total_cases', color='blue', label='Total Cases')\n",
    "sns.barplot(data=df, x='continent', y='total_deaths', color='red', label='Total Deaths')\n",
    "plt.title('Total Cases and Total Deaths by Continent')\n",
    "plt.xlabel('Continent')\n",
    "plt.ylabel('Count')\n",
    "plt.legend()\n",
    "plt.xticks(rotation=45)\n",
    "plt.show()"
   ]
  },
  {
   "cell_type": "markdown",
   "id": "60c027ca",
   "metadata": {},
   "source": [
    "3. Time Series Analysis"
   ]
  },
  {
   "cell_type": "code",
   "execution_count": 22,
   "id": "f841e796",
   "metadata": {},
   "outputs": [
    {
     "data": {
      "image/png": "[encoded data removed]",
      "text/plain": [
       "<Figure size 1400x800 with 1 Axes>"
      ]
     },
     "metadata": {},
     "output_type": "display_data"
    }
   ],
   "source": [
    "# ## 3. Time Series Analysis\n",
    "# Select some representative countries for analysis\n",
    "focus_countries = ['United States', 'India', 'Brazil', 'Germany', 'Kenya', 'South Africa', 'Japan']\n",
    "\n",
    "# Plot total cases over time for selected countries\n",
    "if 'total_cases' in df.columns and 'date' in df.columns:\n",
    "    plt.figure(figsize=(14, 8))\n",
    "    for country in focus_countries:\n",
    "        country_data = df[df['location'] == country]\n",
    "        plt.plot(country_data['date'], country_data['total_cases'], label=country)\n",
    "    \n",
    "    plt.title('Total COVID-19 Cases Over Time', fontsize=16)\n",
    "    plt.xlabel('Date', fontsize=14)\n",
    "    plt.ylabel('Total Cases', fontsize=14)\n",
    "    plt.legend()\n",
    "    plt.grid(True)\n",
    "    plt.show()\n",
    "else:\n",
    "    print(\"Required columns for time series analysis not found.\")\n"
   ]
  },
  {
   "cell_type": "markdown",
   "id": "2279f96a",
   "metadata": {},
   "source": [
    "# 4. Latest Snapshot Analysis"
   ]
  },
  {
   "cell_type": "code",
   "execution_count": 23,
   "id": "2b633a9a",
   "metadata": {},
   "outputs": [
    {
     "name": "stderr",
     "output_type": "stream",
     "text": [
      "C:\\Users\\user\\AppData\\Local\\Temp\\ipykernel_7772\\3623046642.py:8: FutureWarning: \n",
      "\n",
      "Passing `palette` without assigning `hue` is deprecated and will be removed in v0.14.0. Assign the `y` variable to `hue` and set `legend=False` for the same effect.\n",
      "\n",
      "  sns.barplot(x='total_cases', y='location', data=top_cases, palette='viridis')\n"
     ]
    },
    {
     "data": {
      "image/png": "[encoded data removed]",
      "text/plain": [
       "<Figure size 1200x600 with 1 Axes>"
      ]
     },
     "metadata": {},
     "output_type": "display_data"
    },
    {
     "name": "stderr",
     "output_type": "stream",
     "text": [
      "C:\\Users\\user\\AppData\\Local\\Temp\\ipykernel_7772\\3623046642.py:18: FutureWarning: \n",
      "\n",
      "Passing `palette` without assigning `hue` is deprecated and will be removed in v0.14.0. Assign the `y` variable to `hue` and set `legend=False` for the same effect.\n",
      "\n",
      "  sns.barplot(x='pct_vaccinated', y='location', data=vaccinated_df, palette='coolwarm')\n"
     ]
    },
    {
     "data": {
      "image/png": "[encoded data removed]",
      "text/plain": [
       "<Figure size 1200x600 with 1 Axes>"
      ]
     },
     "metadata": {},
     "output_type": "display_data"
    }
   ],
   "source": [
    "# Get the latest data for each country\n",
    "if 'date' in df.columns:\n",
    "    latest_data = df.sort_values('date').groupby('location').last().reset_index()\n",
    "    \n",
    "    # Top 10 countries by total cases\n",
    "    top_cases = latest_data.sort_values('total_cases', ascending=False).head(10)\n",
    "    plt.figure(figsize=(12, 6))\n",
    "    sns.barplot(x='total_cases', y='location', data=top_cases, palette='viridis')\n",
    "    plt.title('Top 10 Countries by Total COVID-19 Cases (Latest Data)', fontsize=16)\n",
    "    plt.xlabel('Total Cases', fontsize=14)\n",
    "    plt.ylabel('Country', fontsize=14)\n",
    "    plt.show()\n",
    "    \n",
    "    # Top 10 countries by vaccination rate\n",
    "    if 'pct_vaccinated' in latest_data.columns:\n",
    "        vaccinated_df = latest_data[latest_data['people_vaccinated'] > 0].sort_values('pct_vaccinated', ascending=False).head(10)\n",
    "        plt.figure(figsize=(12, 6))\n",
    "        sns.barplot(x='pct_vaccinated', y='location', data=vaccinated_df, palette='coolwarm')\n",
    "        plt.title('Top 10 Countries by Vaccination Rate (Latest Data)', fontsize=16)\n",
    "        plt.xlabel('Percentage Vaccinated (At Least One Dose)', fontsize=14)\n",
    "        plt.ylabel('Country', fontsize=14)\n",
    "        plt.show()\n"
   ]
  },
  {
   "cell_type": "markdown",
   "id": "df8f8aa0",
   "metadata": {},
   "source": [
    "# 5. Geographic Visualizations (Fixed)"
   ]
  },
  {
   "cell_type": "code",
   "execution_count": 26,
   "id": "27445351",
   "metadata": {},
   "outputs": [
    {
     "name": "stdout",
     "output_type": "stream",
     "text": [
      "Columns available for geographic visualization:\n",
      "Index(['date', 'location', 'continent', 'population', 'total_cases',\n",
      "       'new_cases', 'total_deaths', 'new_deaths', 'total_cases_per_million',\n",
      "       'total_deaths_per_million', 'total_vaccinations', 'people_vaccinated',\n",
      "       'people_fully_vaccinated', 'new_vaccinations', 'population_density',\n",
      "       'median_age', 'gdp_per_capita', 'life_expectancy', 'death_rate',\n",
      "       'pct_vaccinated'],\n",
      "      dtype='object')\n"
     ]
    },
    {
     "data": {
      "application/vnd.plotly.v1+json": {
       "config": {
        "plotlyServerURL": "https://plot.ly"
       },
       "data": [
        {
         "coloraxis": "coloraxis",
         "customdata": {
          "bdata": "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",
          "dtype": "f8",
          "shape": "248, 3"
         },
         "geo": "geo",
         "hovertemplate": "<b>%{hovertext}</b><br><br>location=%{location}<br>total_cases=%{customdata[0]}<br>total_deaths=%{customdata[1]}<br>population=%{customdata[2]}<br>Cases per million=%{z}<extra></extra>",
         "hovertext": [
          "Afghanistan",
          "Albania",
          "Algeria",
          "American Samoa",
          "Andorra",
          "Angola",
          "Anguilla",
          "Antigua and Barbuda",
          "Argentina",
          "Armenia",
          "Aruba",
          "Australia",
          "Austria",
          "Azerbaijan",
          "Bahamas",
          "Bahrain",
          "Bangladesh",
          "Barbados",
          "Belarus",
          "Belgium",
          "Belize",
          "Benin",
          "Bermuda",
          "Bhutan",
          "Bolivia",
          "Bonaire Sint Eustatius and Saba",
          "Bosnia and Herzegovina",
          "Botswana",
          "Brazil",
          "British Virgin Islands",
          "Brunei",
          "Bulgaria",
          "Burkina Faso",
          "Burundi",
          "Cambodia",
          "Cameroon",
          "Canada",
          "Cape Verde",
          "Cayman Islands",
          "Central African Republic",
          "Chad",
          "Chile",
          "China",
          "Colombia",
          "Comoros",
          "Congo",
          "Cook Islands",
          "Costa Rica",
          "Cote d'Ivoire",
          "Croatia",
          "Cuba",
          "Curacao",
          "Cyprus",
          "Czechia",
          "Democratic Republic of Congo",
          "Denmark",
          "Djibouti",
          "Dominica",
          "Dominican Republic",
          "East Timor",
          "Ecuador",
          "Egypt",
          "El Salvador",
          "England",
          "Equatorial Guinea",
          "Eritrea",
          "Estonia",
          "Eswatini",
          "Ethiopia",
          "European Union (27)",
          "Falkland Islands",
          "Faroe Islands",
          "Fiji",
          "Finland",
          "France",
          "French Guiana",
          "French Polynesia",
          "Gabon",
          "Gambia",
          "Georgia",
          "Germany",
          "Ghana",
          "Gibraltar",
          "Greece",
          "Greenland",
          "Grenada",
          "Guadeloupe",
          "Guam",
          "Guatemala",
          "Guernsey",
          "Guinea",
          "Guinea-Bissau",
          "Guyana",
          "Haiti",
          "High-income countries",
          "Honduras",
          "Hong Kong",
          "Hungary",
          "Iceland",
          "India",
          "Indonesia",
          "Iran",
          "Iraq",
          "Ireland",
          "Isle of Man",
          "Israel",
          "Italy",
          "Jamaica",
          "Japan",
          "Jersey",
          "Jordan",
          "Kazakhstan",
          "Kenya",
          "Kiribati",
          "Kosovo",
          "Kuwait",
          "Kyrgyzstan",
          "Laos",
          "Latvia",
          "Lebanon",
          "Lesotho",
          "Liberia",
          "Libya",
          "Liechtenstein",
          "Lithuania",
          "Low-income countries",
          "Lower-middle-income countries",
          "Luxembourg",
          "Macao",
          "Madagascar",
          "Malawi",
          "Malaysia",
          "Maldives",
          "Mali",
          "Malta",
          "Marshall Islands",
          "Martinique",
          "Mauritania",
          "Mauritius",
          "Mayotte",
          "Mexico",
          "Micronesia (country)",
          "Moldova",
          "Monaco",
          "Mongolia",
          "Montenegro",
          "Montserrat",
          "Morocco",
          "Mozambique",
          "Myanmar",
          "Namibia",
          "Nauru",
          "Nepal",
          "Netherlands",
          "New Caledonia",
          "New Zealand",
          "Nicaragua",
          "Niger",
          "Nigeria",
          "Niue",
          "North Korea",
          "North Macedonia",
          "Northern Cyprus",
          "Northern Ireland",
          "Northern Mariana Islands",
          "Norway",
          "Oman",
          "Pakistan",
          "Palau",
          "Palestine",
          "Panama",
          "Papua New Guinea",
          "Paraguay",
          "Peru",
          "Philippines",
          "Pitcairn",
          "Poland",
          "Portugal",
          "Puerto Rico",
          "Qatar",
          "Reunion",
          "Romania",
          "Russia",
          "Rwanda",
          "Saint Barthelemy",
          "Saint Helena",
          "Saint Kitts and Nevis",
          "Saint Lucia",
          "Saint Martin (French part)",
          "Saint Pierre and Miquelon",
          "Saint Vincent and the Grenadines",
          "Samoa",
          "San Marino",
          "Sao Tome and Principe",
          "Saudi Arabia",
          "Scotland",
          "Senegal",
          "Serbia",
          "Seychelles",
          "Sierra Leone",
          "Singapore",
          "Sint Maarten (Dutch part)",
          "Slovakia",
          "Slovenia",
          "Solomon Islands",
          "Somalia",
          "South Africa",
          "South Korea",
          "South Sudan",
          "Spain",
          "Sri Lanka",
          "Sudan",
          "Suriname",
          "Sweden",
          "Switzerland",
          "Syria",
          "Taiwan",
          "Tajikistan",
          "Tanzania",
          "Thailand",
          "Togo",
          "Tokelau",
          "Tonga",
          "Trinidad and Tobago",
          "Tunisia",
          "Turkey",
          "Turkmenistan",
          "Turks and Caicos Islands",
          "Tuvalu",
          "Uganda",
          "Ukraine",
          "United Arab Emirates",
          "United Kingdom",
          "United States",
          "United States Virgin Islands",
          "Upper-middle-income countries",
          "Uruguay",
          "Uzbekistan",
          "Vanuatu",
          "Vatican",
          "Venezuela",
          "Vietnam",
          "Wales",
          "Wallis and Futuna",
          "Western Sahara",
          "Yemen",
          "Zambia",
          "Zimbabwe"
         ],
         "locationmode": "country names",
         "locations": [
          "Afghanistan",
          "Albania",
          "Algeria",
          "American Samoa",
          "Andorra",
          "Angola",
          "Anguilla",
          "Antigua and Barbuda",
          "Argentina",
          "Armenia",
          "Aruba",
          "Australia",
          "Austria",
          "Azerbaijan",
          "Bahamas",
          "Bahrain",
          "Bangladesh",
          "Barbados",
          "Belarus",
          "Belgium",
          "Belize",
          "Benin",
          "Bermuda",
          "Bhutan",
          "Bolivia",
          "Bonaire Sint Eustatius and Saba",
          "Bosnia and Herzegovina",
          "Botswana",
          "Brazil",
          "British Virgin Islands",
          "Brunei",
          "Bulgaria",
          "Burkina Faso",
          "Burundi",
          "Cambodia",
          "Cameroon",
          "Canada",
          "Cape Verde",
          "Cayman Islands",
          "Central African Republic",
          "Chad",
          "Chile",
          "China",
          "Colombia",
          "Comoros",
          "Congo",
          "Cook Islands",
          "Costa Rica",
          "Cote d'Ivoire",
          "Croatia",
          "Cuba",
          "Curacao",
          "Cyprus",
          "Czechia",
          "Democratic Republic of Congo",
          "Denmark",
          "Djibouti",
          "Dominica",
          "Dominican Republic",
          "East Timor",
          "Ecuador",
          "Egypt",
          "El Salvador",
          "England",
          "Equatorial Guinea",
          "Eritrea",
          "Estonia",
          "Eswatini",
          "Ethiopia",
          "European Union (27)",
          "Falkland Islands",
          "Faroe Islands",
          "Fiji",
          "Finland",
          "France",
          "French Guiana",
          "French Polynesia",
          "Gabon",
          "Gambia",
          "Georgia",
          "Germany",
          "Ghana",
          "Gibraltar",
          "Greece",
          "Greenland",
          "Grenada",
          "Guadeloupe",
          "Guam",
          "Guatemala",
          "Guernsey",
          "Guinea",
          "Guinea-Bissau",
          "Guyana",
          "Haiti",
          "High-income countries",
          "Honduras",
          "Hong Kong",
          "Hungary",
          "Iceland",
          "India",
          "Indonesia",
          "Iran",
          "Iraq",
          "Ireland",
          "Isle of Man",
          "Israel",
          "Italy",
          "Jamaica",
          "Japan",
          "Jersey",
          "Jordan",
          "Kazakhstan",
          "Kenya",
          "Kiribati",
          "Kosovo",
          "Kuwait",
          "Kyrgyzstan",
          "Laos",
          "Latvia",
          "Lebanon",
          "Lesotho",
          "Liberia",
          "Libya",
          "Liechtenstein",
          "Lithuania",
          "Low-income countries",
          "Lower-middle-income countries",
          "Luxembourg",
          "Macao",
          "Madagascar",
          "Malawi",
          "Malaysia",
          "Maldives",
          "Mali",
          "Malta",
          "Marshall Islands",
          "Martinique",
          "Mauritania",
          "Mauritius",
          "Mayotte",
          "Mexico",
          "Micronesia (country)",
          "Moldova",
          "Monaco",
          "Mongolia",
          "Montenegro",
          "Montserrat",
          "Morocco",
          "Mozambique",
          "Myanmar",
          "Namibia",
          "Nauru",
          "Nepal",
          "Netherlands",
          "New Caledonia",
          "New Zealand",
          "Nicaragua",
          "Niger",
          "Nigeria",
          "Niue",
          "North Korea",
          "North Macedonia",
          "Northern Cyprus",
          "Northern Ireland",
          "Northern Mariana Islands",
          "Norway",
          "Oman",
          "Pakistan",
          "Palau",
          "Palestine",
          "Panama",
          "Papua New Guinea",
          "Paraguay",
          "Peru",
          "Philippines",
          "Pitcairn",
          "Poland",
          "Portugal",
          "Puerto Rico",
          "Qatar",
          "Reunion",
          "Romania",
          "Russia",
          "Rwanda",
          "Saint Barthelemy",
          "Saint Helena",
          "Saint Kitts and Nevis",
          "Saint Lucia",
          "Saint Martin (French part)",
          "Saint Pierre and Miquelon",
          "Saint Vincent and the Grenadines",
          "Samoa",
          "San Marino",
          "Sao Tome and Principe",
          "Saudi Arabia",
          "Scotland",
          "Senegal",
          "Serbia",
          "Seychelles",
          "Sierra Leone",
          "Singapore",
          "Sint Maarten (Dutch part)",
          "Slovakia",
          "Slovenia",
          "Solomon Islands",
          "Somalia",
          "South Africa",
          "South Korea",
          "South Sudan",
          "Spain",
          "Sri Lanka",
          "Sudan",
          "Suriname",
          "Sweden",
          "Switzerland",
          "Syria",
          "Taiwan",
          "Tajikistan",
          "Tanzania",
          "Thailand",
          "Togo",
          "Tokelau",
          "Tonga",
          "Trinidad and Tobago",
          "Tunisia",
          "Turkey",
          "Turkmenistan",
          "Turks and Caicos Islands",
          "Tuvalu",
          "Uganda",
          "Ukraine",
          "United Arab Emirates",
          "United Kingdom",
          "United States",
          "United States Virgin Islands",
          "Upper-middle-income countries",
          "Uruguay",
          "Uzbekistan",
          "Vanuatu",
          "Vatican",
          "Venezuela",
          "Vietnam",
          "Wales",
          "Wallis and Futuna",
          "Western Sahara",
          "Yemen",
          "Zambia",
          "Zimbabwe"
         ],
         "name": "",
         "type": "choropleth",
         "z": {
          "bdata": "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",
          "dtype": "f8"
         }
        }
       ],
       "layout": {
        "coloraxis": {
         "colorbar": {
          "title": {
           "text": "Cases per million"
          }
         },
         "colorscale": [
          [
           0,
           "#0d0887"
          ],
          [
           0.1111111111111111,
           "#46039f"
          ],
          [
           0.2222222222222222,
           "#7201a8"
          ],
          [
           0.3333333333333333,
           "#9c179e"
          ],
          [
           0.4444444444444444,
           "#bd3786"
          ],
          [
           0.5555555555555556,
           "#d8576b"
          ],
          [
           0.6666666666666666,
           "#ed7953"
          ],
          [
           0.7777777777777778,
           "#fb9f3a"
          ],
          [
           0.8888888888888888,
           "#fdca26"
          ],
          [
           1,
           "#f0f921"
          ]
         ]
        },
        "geo": {
         "center": {},
         "domain": {
          "x": [
           0,
           1
          ],
          "y": [
           0,
           1
          ]
         }
        },
        "legend": {
         "tracegroupgap": 0
        },
        "template": {
         "data": {
          "bar": [
           {
            "error_x": {
             "color": "#2a3f5f"
            },
            "error_y": {
             "color": "#2a3f5f"
            },
            "marker": {
             "line": {
              "color": "#E5ECF6",
              "width": 0.5
             },
             "pattern": {
              "fillmode": "overlay",
              "size": 10,
              "solidity": 0.2
             }
            },
            "type": "bar"
           }
          ],
          "barpolar": [
           {
            "marker": {
             "line": {
              "color": "#E5ECF6",
              "width": 0.5
             },
             "pattern": {
              "fillmode": "overlay",
              "size": 10,
              "solidity": 0.2
             }
            },
            "type": "barpolar"
           }
          ],
          "carpet": [
           {
            "aaxis": {
             "endlinecolor": "#2a3f5f",
             "gridcolor": "white",
             "linecolor": "white",
             "minorgridcolor": "white",
             "startlinecolor": "#2a3f5f"
            },
            "baxis": {
             "endlinecolor": "#2a3f5f",
             "gridcolor": "white",
             "linecolor": "white",
             "minorgridcolor": "white",
             "startlinecolor": "#2a3f5f"
            },
            "type": "carpet"
           }
          ],
          "choropleth": [
           {
            "colorbar": {
             "outlinewidth": 0,
             "ticks": ""
            },
            "type": "choropleth"
           }
          ],
          "contour": [
           {
            "colorbar": {
             "outlinewidth": 0,
             "ticks": ""
            },
            "colorscale": [
             [
              0,
              "#0d0887"
             ],
             [
              0.1111111111111111,
              "#46039f"
             ],
             [
              0.2222222222222222,
              "#7201a8"
             ],
             [
              0.3333333333333333,
              "#9c179e"
             ],
             [
              0.4444444444444444,
              "#bd3786"
             ],
             [
              0.5555555555555556,
              "#d8576b"
             ],
             [
              0.6666666666666666,
              "#ed7953"
             ],
             [
              0.7777777777777778,
              "#fb9f3a"
             ],
             [
              0.8888888888888888,
              "#fdca26"
             ],
             [
              1,
              "#f0f921"
             ]
            ],
            "type": "contour"
           }
          ],
          "contourcarpet": [
           {
            "colorbar": {
             "outlinewidth": 0,
             "ticks": ""
            },
            "type": "contourcarpet"
           }
          ],
          "heatmap": [
           {
            "colorbar": {
             "outlinewidth": 0,
             "ticks": ""
            },
            "colorscale": [
             [
              0,
              "#0d0887"
             ],
             [
              0.1111111111111111,
              "#46039f"
             ],
             [
              0.2222222222222222,
              "#7201a8"
             ],
             [
              0.3333333333333333,
              "#9c179e"
             ],
             [
              0.4444444444444444,
              "#bd3786"
             ],
             [
              0.5555555555555556,
              "#d8576b"
             ],
             [
              0.6666666666666666,
              "#ed7953"
             ],
             [
              0.7777777777777778,
              "#fb9f3a"
             ],
             [
              0.8888888888888888,
              "#fdca26"
             ],
             [
              1,
              "#f0f921"
             ]
            ],
            "type": "heatmap"
           }
          ],
          "histogram": [
           {
            "marker": {
             "pattern": {
              "fillmode": "overlay",
              "size": 10,
              "solidity": 0.2
             }
            },
            "type": "histogram"
           }
          ],
          "histogram2d": [
           {
            "colorbar": {
             "outlinewidth": 0,
             "ticks": ""
            },
            "colorscale": [
             [
              0,
              "#0d0887"
             ],
             [
              0.1111111111111111,
              "#46039f"
             ],
             [
              0.2222222222222222,
              "#7201a8"
             ],
             [
              0.3333333333333333,
              "#9c179e"
             ],
             [
              0.4444444444444444,
              "#bd3786"
             ],
             [
              0.5555555555555556,
              "#d8576b"
             ],
             [
              0.6666666666666666,
              "#ed7953"
             ],
             [
              0.7777777777777778,
              "#fb9f3a"
             ],
             [
              0.8888888888888888,
              "#fdca26"
             ],
             [
              1,
              "#f0f921"
             ]
            ],
            "type": "histogram2d"
           }
          ],
          "histogram2dcontour": [
           {
            "colorbar": {
             "outlinewidth": 0,
             "ticks": ""
            },
            "colorscale": [
             [
              0,
              "#0d0887"
             ],
             [
              0.1111111111111111,
              "#46039f"
             ],
             [
              0.2222222222222222,
              "#7201a8"
             ],
             [
              0.3333333333333333,
              "#9c179e"
             ],
             [
              0.4444444444444444,
              "#bd3786"
             ],
             [
              0.5555555555555556,
              "#d8576b"
             ],
             [
              0.6666666666666666,
              "#ed7953"
             ],
             [
              0.7777777777777778,
              "#fb9f3a"
             ],
             [
              0.8888888888888888,
              "#fdca26"
             ],
             [
              1,
              "#f0f921"
             ]
            ],
            "type": "histogram2dcontour"
           }
          ],
          "mesh3d": [
           {
            "colorbar": {
             "outlinewidth": 0,
             "ticks": ""
            },
            "type": "mesh3d"
           }
          ],
          "parcoords": [
           {
            "line": {
             "colorbar": {
              "outlinewidth": 0,
              "ticks": ""
             }
            },
            "type": "parcoords"
           }
          ],
          "pie": [
           {
            "automargin": true,
            "type": "pie"
           }
          ],
          "scatter": [
           {
            "fillpattern": {
             "fillmode": "overlay",
             "size": 10,
             "solidity": 0.2
            },
            "type": "scatter"
           }
          ],
          "scatter3d": [
           {
            "line": {
             "colorbar": {
              "outlinewidth": 0,
              "ticks": ""
             }
            },
            "marker": {
             "colorbar": {
              "outlinewidth": 0,
              "ticks": ""
             }
            },
            "type": "scatter3d"
           }
          ],
          "scattercarpet": [
           {
            "marker": {
             "colorbar": {
              "outlinewidth": 0,
              "ticks": ""
             }
            },
            "type": "scattercarpet"
           }
          ],
          "scattergeo": [
           {
            "marker": {
             "colorbar": {
              "outlinewidth": 0,
              "ticks": ""
             }
            },
            "type": "scattergeo"
           }
          ],
          "scattergl": [
           {
            "marker": {
             "colorbar": {
              "outlinewidth": 0,
              "ticks": ""
             }
            },
            "type": "scattergl"
           }
          ],
          "scattermap": [
           {
            "marker": {
             "colorbar": {
              "outlinewidth": 0,
              "ticks": ""
             }
            },
            "type": "scattermap"
           }
          ],
          "scattermapbox": [
           {
            "marker": {
             "colorbar": {
              "outlinewidth": 0,
              "ticks": ""
             }
            },
            "type": "scattermapbox"
           }
          ],
          "scatterpolar": [
           {
            "marker": {
             "colorbar": {
              "outlinewidth": 0,
              "ticks": ""
             }
            },
            "type": "scatterpolar"
           }
          ],
          "scatterpolargl": [
           {
            "marker": {
             "colorbar": {
              "outlinewidth": 0,
              "ticks": ""
             }
            },
            "type": "scatterpolargl"
           }
          ],
          "scatterternary": [
           {
            "marker": {
             "colorbar": {
              "outlinewidth": 0,
              "ticks": ""
             }
            },
            "type": "scatterternary"
           }
          ],
          "surface": [
           {
            "colorbar": {
             "outlinewidth": 0,
             "ticks": ""
            },
            "colorscale": [
             [
              0,
              "#0d0887"
             ],
             [
              0.1111111111111111,
              "#46039f"
             ],
             [
              0.2222222222222222,
              "#7201a8"
             ],
             [
              0.3333333333333333,
              "#9c179e"
             ],
             [
              0.4444444444444444,
              "#bd3786"
             ],
             [
              0.5555555555555556,
              "#d8576b"
             ],
             [
              0.6666666666666666,
              "#ed7953"
             ],
             [
              0.7777777777777778,
              "#fb9f3a"
             ],
             [
              0.8888888888888888,
              "#fdca26"
             ],
             [
              1,
              "#f0f921"
             ]
            ],
            "type": "surface"
           }
          ],
          "table": [
           {
            "cells": {
             "fill": {
              "color": "#EBF0F8"
             },
             "line": {
              "color": "white"
             }
            },
            "header": {
             "fill": {
              "color": "#C8D4E3"
             },
             "line": {
              "color": "white"
             }
            },
            "type": "table"
           }
          ]
         },
         "layout": {
          "annotationdefaults": {
           "arrowcolor": "#2a3f5f",
           "arrowhead": 0,
           "arrowwidth": 1
          },
          "autotypenumbers": "strict",
          "coloraxis": {
           "colorbar": {
            "outlinewidth": 0,
            "ticks": ""
           }
          },
          "colorscale": {
           "diverging": [
            [
             0,
             "#8e0152"
            ],
            [
             0.1,
             "#c51b7d"
            ],
            [
             0.2,
             "#de77ae"
            ],
            [
             0.3,
             "#f1b6da"
            ],
            [
             0.4,
             "#fde0ef"
            ],
            [
             0.5,
             "#f7f7f7"
            ],
            [
             0.6,
             "#e6f5d0"
            ],
            [
             0.7,
             "#b8e186"
            ],
            [
             0.8,
             "#7fbc41"
            ],
            [
             0.9,
             "#4d9221"
            ],
            [
             1,
             "#276419"
            ]
           ],
           "sequential": [
            [
             0,
             "#0d0887"
            ],
            [
             0.1111111111111111,
             "#46039f"
            ],
            [
             0.2222222222222222,
             "#7201a8"
            ],
            [
             0.3333333333333333,
             "#9c179e"
            ],
            [
             0.4444444444444444,
             "#bd3786"
            ],
            [
             0.5555555555555556,
             "#d8576b"
            ],
            [
             0.6666666666666666,
             "#ed7953"
            ],
            [
             0.7777777777777778,
             "#fb9f3a"
            ],
            [
             0.8888888888888888,
             "#fdca26"
            ],
            [
             1,
             "#f0f921"
            ]
           ],
           "sequentialminus": [
            [
             0,
             "#0d0887"
            ],
            [
             0.1111111111111111,
             "#46039f"
            ],
            [
             0.2222222222222222,
             "#7201a8"
            ],
            [
             0.3333333333333333,
             "#9c179e"
            ],
            [
             0.4444444444444444,
             "#bd3786"
            ],
            [
             0.5555555555555556,
             "#d8576b"
            ],
            [
             0.6666666666666666,
             "#ed7953"
            ],
            [
             0.7777777777777778,
             "#fb9f3a"
            ],
            [
             0.8888888888888888,
             "#fdca26"
            ],
            [
             1,
             "#f0f921"
            ]
           ]
          },
          "colorway": [
           "#636efa",
           "#EF553B",
           "#00cc96",
           "#ab63fa",
           "#FFA15A",
           "#19d3f3",
           "#FF6692",
           "#B6E880",
           "#FF97FF",
           "#FECB52"
          ],
          "font": {
           "color": "#2a3f5f"
          },
          "geo": {
           "bgcolor": "white",
           "lakecolor": "white",
           "landcolor": "#E5ECF6",
           "showlakes": true,
           "showland": true,
           "subunitcolor": "white"
          },
          "hoverlabel": {
           "align": "left"
          },
          "hovermode": "closest",
          "mapbox": {
           "style": "light"
          },
          "paper_bgcolor": "white",
          "plot_bgcolor": "#E5ECF6",
          "polar": {
           "angularaxis": {
            "gridcolor": "white",
            "linecolor": "white",
            "ticks": ""
           },
           "bgcolor": "#E5ECF6",
           "radialaxis": {
            "gridcolor": "white",
            "linecolor": "white",
            "ticks": ""
           }
          },
          "scene": {
           "xaxis": {
            "backgroundcolor": "#E5ECF6",
            "gridcolor": "white",
            "gridwidth": 2,
            "linecolor": "white",
            "showbackground": true,
            "ticks": "",
            "zerolinecolor": "white"
           },
           "yaxis": {
            "backgroundcolor": "#E5ECF6",
            "gridcolor": "white",
            "gridwidth": 2,
            "linecolor": "white",
            "showbackground": true,
            "ticks": "",
            "zerolinecolor": "white"
           },
           "zaxis": {
            "backgroundcolor": "#E5ECF6",
            "gridcolor": "white",
            "gridwidth": 2,
            "linecolor": "white",
            "showbackground": true,
            "ticks": "",
            "zerolinecolor": "white"
           }
          },
          "shapedefaults": {
           "line": {
            "color": "#2a3f5f"
           }
          },
          "ternary": {
           "aaxis": {
            "gridcolor": "white",
            "linecolor": "white",
            "ticks": ""
           },
           "baxis": {
            "gridcolor": "white",
            "linecolor": "white",
            "ticks": ""
           },
           "bgcolor": "#E5ECF6",
           "caxis": {
            "gridcolor": "white",
            "linecolor": "white",
            "ticks": ""
           }
          },
          "title": {
           "x": 0.05
          },
          "xaxis": {
           "automargin": true,
           "gridcolor": "white",
           "linecolor": "white",
           "ticks": "",
           "title": {
            "standoff": 15
           },
           "zerolinecolor": "white",
           "zerolinewidth": 2
          },
          "yaxis": {
           "automargin": true,
           "gridcolor": "white",
           "linecolor": "white",
           "ticks": "",
           "title": {
            "standoff": 15
           },
           "zerolinecolor": "white",
           "zerolinewidth": 2
          }
         }
        },
        "title": {
         "text": "Total COVID-19 Cases Per Million People (Latest Data)"
        }
       }
      }
     },
     "metadata": {},
     "output_type": "display_data"
    },
    {
     "data": {
      "application/vnd.plotly.v1+json": {
       "config": {
        "plotlyServerURL": "https://plot.ly"
       },
       "data": [
        {
         "coloraxis": "coloraxis",
         "customdata": {
          "bdata": "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",
          "dtype": "f8",
          "shape": "248, 2"
         },
         "geo": "geo",
         "hovertemplate": "<b>%{hovertext}</b><br><br>location=%{location}<br>people_vaccinated=%{customdata[0]}<br>population=%{customdata[1]}<br>% Vaccinated=%{z}<extra></extra>",
         "hovertext": [
          "Afghanistan",
          "Albania",
          "Algeria",
          "American Samoa",
          "Andorra",
          "Angola",
          "Anguilla",
          "Antigua and Barbuda",
          "Argentina",
          "Armenia",
          "Aruba",
          "Australia",
          "Austria",
          "Azerbaijan",
          "Bahamas",
          "Bahrain",
          "Bangladesh",
          "Barbados",
          "Belarus",
          "Belgium",
          "Belize",
          "Benin",
          "Bermuda",
          "Bhutan",
          "Bolivia",
          "Bonaire Sint Eustatius and Saba",
          "Bosnia and Herzegovina",
          "Botswana",
          "Brazil",
          "British Virgin Islands",
          "Brunei",
          "Bulgaria",
          "Burkina Faso",
          "Burundi",
          "Cambodia",
          "Cameroon",
          "Canada",
          "Cape Verde",
          "Cayman Islands",
          "Central African Republic",
          "Chad",
          "Chile",
          "China",
          "Colombia",
          "Comoros",
          "Congo",
          "Cook Islands",
          "Costa Rica",
          "Cote d'Ivoire",
          "Croatia",
          "Cuba",
          "Curacao",
          "Cyprus",
          "Czechia",
          "Democratic Republic of Congo",
          "Denmark",
          "Djibouti",
          "Dominica",
          "Dominican Republic",
          "East Timor",
          "Ecuador",
          "Egypt",
          "El Salvador",
          "England",
          "Equatorial Guinea",
          "Eritrea",
          "Estonia",
          "Eswatini",
          "Ethiopia",
          "European Union (27)",
          "Falkland Islands",
          "Faroe Islands",
          "Fiji",
          "Finland",
          "France",
          "French Guiana",
          "French Polynesia",
          "Gabon",
          "Gambia",
          "Georgia",
          "Germany",
          "Ghana",
          "Gibraltar",
          "Greece",
          "Greenland",
          "Grenada",
          "Guadeloupe",
          "Guam",
          "Guatemala",
          "Guernsey",
          "Guinea",
          "Guinea-Bissau",
          "Guyana",
          "Haiti",
          "High-income countries",
          "Honduras",
          "Hong Kong",
          "Hungary",
          "Iceland",
          "India",
          "Indonesia",
          "Iran",
          "Iraq",
          "Ireland",
          "Isle of Man",
          "Israel",
          "Italy",
          "Jamaica",
          "Japan",
          "Jersey",
          "Jordan",
          "Kazakhstan",
          "Kenya",
          "Kiribati",
          "Kosovo",
          "Kuwait",
          "Kyrgyzstan",
          "Laos",
          "Latvia",
          "Lebanon",
          "Lesotho",
          "Liberia",
          "Libya",
          "Liechtenstein",
          "Lithuania",
          "Low-income countries",
          "Lower-middle-income countries",
          "Luxembourg",
          "Macao",
          "Madagascar",
          "Malawi",
          "Malaysia",
          "Maldives",
          "Mali",
          "Malta",
          "Marshall Islands",
          "Martinique",
          "Mauritania",
          "Mauritius",
          "Mayotte",
          "Mexico",
          "Micronesia (country)",
          "Moldova",
          "Monaco",
          "Mongolia",
          "Montenegro",
          "Montserrat",
          "Morocco",
          "Mozambique",
          "Myanmar",
          "Namibia",
          "Nauru",
          "Nepal",
          "Netherlands",
          "New Caledonia",
          "New Zealand",
          "Nicaragua",
          "Niger",
          "Nigeria",
          "Niue",
          "North Korea",
          "North Macedonia",
          "Northern Cyprus",
          "Northern Ireland",
          "Northern Mariana Islands",
          "Norway",
          "Oman",
          "Pakistan",
          "Palau",
          "Palestine",
          "Panama",
          "Papua New Guinea",
          "Paraguay",
          "Peru",
          "Philippines",
          "Pitcairn",
          "Poland",
          "Portugal",
          "Puerto Rico",
          "Qatar",
          "Reunion",
          "Romania",
          "Russia",
          "Rwanda",
          "Saint Barthelemy",
          "Saint Helena",
          "Saint Kitts and Nevis",
          "Saint Lucia",
          "Saint Martin (French part)",
          "Saint Pierre and Miquelon",
          "Saint Vincent and the Grenadines",
          "Samoa",
          "San Marino",
          "Sao Tome and Principe",
          "Saudi Arabia",
          "Scotland",
          "Senegal",
          "Serbia",
          "Seychelles",
          "Sierra Leone",
          "Singapore",
          "Sint Maarten (Dutch part)",
          "Slovakia",
          "Slovenia",
          "Solomon Islands",
          "Somalia",
          "South Africa",
          "South Korea",
          "South Sudan",
          "Spain",
          "Sri Lanka",
          "Sudan",
          "Suriname",
          "Sweden",
          "Switzerland",
          "Syria",
          "Taiwan",
          "Tajikistan",
          "Tanzania",
          "Thailand",
          "Togo",
          "Tokelau",
          "Tonga",
          "Trinidad and Tobago",
          "Tunisia",
          "Turkey",
          "Turkmenistan",
          "Turks and Caicos Islands",
          "Tuvalu",
          "Uganda",
          "Ukraine",
          "United Arab Emirates",
          "United Kingdom",
          "United States",
          "United States Virgin Islands",
          "Upper-middle-income countries",
          "Uruguay",
          "Uzbekistan",
          "Vanuatu",
          "Vatican",
          "Venezuela",
          "Vietnam",
          "Wales",
          "Wallis and Futuna",
          "Western Sahara",
          "Yemen",
          "Zambia",
          "Zimbabwe"
         ],
         "locationmode": "country names",
         "locations": [
          "Afghanistan",
          "Albania",
          "Algeria",
          "American Samoa",
          "Andorra",
          "Angola",
          "Anguilla",
          "Antigua and Barbuda",
          "Argentina",
          "Armenia",
          "Aruba",
          "Australia",
          "Austria",
          "Azerbaijan",
          "Bahamas",
          "Bahrain",
          "Bangladesh",
          "Barbados",
          "Belarus",
          "Belgium",
          "Belize",
          "Benin",
          "Bermuda",
          "Bhutan",
          "Bolivia",
          "Bonaire Sint Eustatius and Saba",
          "Bosnia and Herzegovina",
          "Botswana",
          "Brazil",
          "British Virgin Islands",
          "Brunei",
          "Bulgaria",
          "Burkina Faso",
          "Burundi",
          "Cambodia",
          "Cameroon",
          "Canada",
          "Cape Verde",
          "Cayman Islands",
          "Central African Republic",
          "Chad",
          "Chile",
          "China",
          "Colombia",
          "Comoros",
          "Congo",
          "Cook Islands",
          "Costa Rica",
          "Cote d'Ivoire",
          "Croatia",
          "Cuba",
          "Curacao",
          "Cyprus",
          "Czechia",
          "Democratic Republic of Congo",
          "Denmark",
          "Djibouti",
          "Dominica",
          "Dominican Republic",
          "East Timor",
          "Ecuador",
          "Egypt",
          "El Salvador",
          "England",
          "Equatorial Guinea",
          "Eritrea",
          "Estonia",
          "Eswatini",
          "Ethiopia",
          "European Union (27)",
          "Falkland Islands",
          "Faroe Islands",
          "Fiji",
          "Finland",
          "France",
          "French Guiana",
          "French Polynesia",
          "Gabon",
          "Gambia",
          "Georgia",
          "Germany",
          "Ghana",
          "Gibraltar",
          "Greece",
          "Greenland",
          "Grenada",
          "Guadeloupe",
          "Guam",
          "Guatemala",
          "Guernsey",
          "Guinea",
          "Guinea-Bissau",
          "Guyana",
          "Haiti",
          "High-income countries",
          "Honduras",
          "Hong Kong",
          "Hungary",
          "Iceland",
          "India",
          "Indonesia",
          "Iran",
          "Iraq",
          "Ireland",
          "Isle of Man",
          "Israel",
          "Italy",
          "Jamaica",
          "Japan",
          "Jersey",
          "Jordan",
          "Kazakhstan",
          "Kenya",
          "Kiribati",
          "Kosovo",
          "Kuwait",
          "Kyrgyzstan",
          "Laos",
          "Latvia",
          "Lebanon",
          "Lesotho",
          "Liberia",
          "Libya",
          "Liechtenstein",
          "Lithuania",
          "Low-income countries",
          "Lower-middle-income countries",
          "Luxembourg",
          "Macao",
          "Madagascar",
          "Malawi",
          "Malaysia",
          "Maldives",
          "Mali",
          "Malta",
          "Marshall Islands",
          "Martinique",
          "Mauritania",
          "Mauritius",
          "Mayotte",
          "Mexico",
          "Micronesia (country)",
          "Moldova",
          "Monaco",
          "Mongolia",
          "Montenegro",
          "Montserrat",
          "Morocco",
          "Mozambique",
          "Myanmar",
          "Namibia",
          "Nauru",
          "Nepal",
          "Netherlands",
          "New Caledonia",
          "New Zealand",
          "Nicaragua",
          "Niger",
          "Nigeria",
          "Niue",
          "North Korea",
          "North Macedonia",
          "Northern Cyprus",
          "Northern Ireland",
          "Northern Mariana Islands",
          "Norway",
          "Oman",
          "Pakistan",
          "Palau",
          "Palestine",
          "Panama",
          "Papua New Guinea",
          "Paraguay",
          "Peru",
          "Philippines",
          "Pitcairn",
          "Poland",
          "Portugal",
          "Puerto Rico",
          "Qatar",
          "Reunion",
          "Romania",
          "Russia",
          "Rwanda",
          "Saint Barthelemy",
          "Saint Helena",
          "Saint Kitts and Nevis",
          "Saint Lucia",
          "Saint Martin (French part)",
          "Saint Pierre and Miquelon",
          "Saint Vincent and the Grenadines",
          "Samoa",
          "San Marino",
          "Sao Tome and Principe",
          "Saudi Arabia",
          "Scotland",
          "Senegal",
          "Serbia",
          "Seychelles",
          "Sierra Leone",
          "Singapore",
          "Sint Maarten (Dutch part)",
          "Slovakia",
          "Slovenia",
          "Solomon Islands",
          "Somalia",
          "South Africa",
          "South Korea",
          "South Sudan",
          "Spain",
          "Sri Lanka",
          "Sudan",
          "Suriname",
          "Sweden",
          "Switzerland",
          "Syria",
          "Taiwan",
          "Tajikistan",
          "Tanzania",
          "Thailand",
          "Togo",
          "Tokelau",
          "Tonga",
          "Trinidad and Tobago",
          "Tunisia",
          "Turkey",
          "Turkmenistan",
          "Turks and Caicos Islands",
          "Tuvalu",
          "Uganda",
          "Ukraine",
          "United Arab Emirates",
          "United Kingdom",
          "United States",
          "United States Virgin Islands",
          "Upper-middle-income countries",
          "Uruguay",
          "Uzbekistan",
          "Vanuatu",
          "Vatican",
          "Venezuela",
          "Vietnam",
          "Wales",
          "Wallis and Futuna",
          "Western Sahara",
          "Yemen",
          "Zambia",
          "Zimbabwe"
         ],
         "name": "",
         "type": "choropleth",
         "z": {
          "bdata": "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",
          "dtype": "f8"
         }
        }
       ],
       "layout": {
        "coloraxis": {
         "colorbar": {
          "title": {
           "text": "% Vaccinated"
          }
         },
         "colorscale": [
          [
           0,
           "rgb(176, 242, 188)"
          ],
          [
           0.16666666666666666,
           "rgb(137, 232, 172)"
          ],
          [
           0.3333333333333333,
           "rgb(103, 219, 165)"
          ],
          [
           0.5,
           "rgb(76, 200, 163)"
          ],
          [
           0.6666666666666666,
           "rgb(56, 178, 163)"
          ],
          [
           0.8333333333333334,
           "rgb(44, 152, 160)"
          ],
          [
           1,
           "rgb(37, 125, 152)"
          ]
         ]
        },
        "geo": {
         "center": {},
         "domain": {
          "x": [
           0,
           1
          ],
          "y": [
           0,
           1
          ]
         }
        },
        "legend": {
         "tracegroupgap": 0
        },
        "template": {
         "data": {
          "bar": [
           {
            "error_x": {
             "color": "#2a3f5f"
            },
            "error_y": {
             "color": "#2a3f5f"
            },
            "marker": {
             "line": {
              "color": "#E5ECF6",
              "width": 0.5
             },
             "pattern": {
              "fillmode": "overlay",
              "size": 10,
              "solidity": 0.2
             }
            },
            "type": "bar"
           }
          ],
          "barpolar": [
           {
            "marker": {
             "line": {
              "color": "#E5ECF6",
              "width": 0.5
             },
             "pattern": {
              "fillmode": "overlay",
              "size": 10,
              "solidity": 0.2
             }
            },
            "type": "barpolar"
           }
          ],
          "carpet": [
           {
            "aaxis": {
             "endlinecolor": "#2a3f5f",
             "gridcolor": "white",
             "linecolor": "white",
             "minorgridcolor": "white",
             "startlinecolor": "#2a3f5f"
            },
            "baxis": {
             "endlinecolor": "#2a3f5f",
             "gridcolor": "white",
             "linecolor": "white",
             "minorgridcolor": "white",
             "startlinecolor": "#2a3f5f"
            },
            "type": "carpet"
           }
          ],
          "choropleth": [
           {
            "colorbar": {
             "outlinewidth": 0,
             "ticks": ""
            },
            "type": "choropleth"
           }
          ],
          "contour": [
           {
            "colorbar": {
             "outlinewidth": 0,
             "ticks": ""
            },
            "colorscale": [
             [
              0,
              "#0d0887"
             ],
             [
              0.1111111111111111,
              "#46039f"
             ],
             [
              0.2222222222222222,
              "#7201a8"
             ],
             [
              0.3333333333333333,
              "#9c179e"
             ],
             [
              0.4444444444444444,
              "#bd3786"
             ],
             [
              0.5555555555555556,
              "#d8576b"
             ],
             [
              0.6666666666666666,
              "#ed7953"
             ],
             [
              0.7777777777777778,
              "#fb9f3a"
             ],
             [
              0.8888888888888888,
              "#fdca26"
             ],
             [
              1,
              "#f0f921"
             ]
            ],
            "type": "contour"
           }
          ],
          "contourcarpet": [
           {
            "colorbar": {
             "outlinewidth": 0,
             "ticks": ""
            },
            "type": "contourcarpet"
           }
          ],
          "heatmap": [
           {
            "colorbar": {
             "outlinewidth": 0,
             "ticks": ""
            },
            "colorscale": [
             [
              0,
              "#0d0887"
             ],
             [
              0.1111111111111111,
              "#46039f"
             ],
             [
              0.2222222222222222,
              "#7201a8"
             ],
             [
              0.3333333333333333,
              "#9c179e"
             ],
             [
              0.4444444444444444,
              "#bd3786"
             ],
             [
              0.5555555555555556,
              "#d8576b"
             ],
             [
              0.6666666666666666,
              "#ed7953"
             ],
             [
              0.7777777777777778,
              "#fb9f3a"
             ],
             [
              0.8888888888888888,
              "#fdca26"
             ],
             [
              1,
              "#f0f921"
             ]
            ],
            "type": "heatmap"
           }
          ],
          "histogram": [
           {
            "marker": {
             "pattern": {
              "fillmode": "overlay",
              "size": 10,
              "solidity": 0.2
             }
            },
            "type": "histogram"
           }
          ],
          "histogram2d": [
           {
            "colorbar": {
             "outlinewidth": 0,
             "ticks": ""
            },
            "colorscale": [
             [
              0,
              "#0d0887"
             ],
             [
              0.1111111111111111,
              "#46039f"
             ],
             [
              0.2222222222222222,
              "#7201a8"
             ],
             [
              0.3333333333333333,
              "#9c179e"
             ],
             [
              0.4444444444444444,
              "#bd3786"
             ],
             [
              0.5555555555555556,
              "#d8576b"
             ],
             [
              0.6666666666666666,
              "#ed7953"
             ],
             [
              0.7777777777777778,
              "#fb9f3a"
             ],
             [
              0.8888888888888888,
              "#fdca26"
             ],
             [
              1,
              "#f0f921"
             ]
            ],
            "type": "histogram2d"
           }
          ],
          "histogram2dcontour": [
           {
            "colorbar": {
             "outlinewidth": 0,
             "ticks": ""
            },
            "colorscale": [
             [
              0,
              "#0d0887"
             ],
             [
              0.1111111111111111,
              "#46039f"
             ],
             [
              0.2222222222222222,
              "#7201a8"
             ],
             [
              0.3333333333333333,
              "#9c179e"
             ],
             [
              0.4444444444444444,
              "#bd3786"
             ],
             [
              0.5555555555555556,
              "#d8576b"
             ],
             [
              0.6666666666666666,
              "#ed7953"
             ],
             [
              0.7777777777777778,
              "#fb9f3a"
             ],
             [
              0.8888888888888888,
              "#fdca26"
             ],
             [
              1,
              "#f0f921"
             ]
            ],
            "type": "histogram2dcontour"
           }
          ],
          "mesh3d": [
           {
            "colorbar": {
             "outlinewidth": 0,
             "ticks": ""
            },
            "type": "mesh3d"
           }
          ],
          "parcoords": [
           {
            "line": {
             "colorbar": {
              "outlinewidth": 0,
              "ticks": ""
             }
            },
            "type": "parcoords"
           }
          ],
          "pie": [
           {
            "automargin": true,
            "type": "pie"
           }
          ],
          "scatter": [
           {
            "fillpattern": {
             "fillmode": "overlay",
             "size": 10,
             "solidity": 0.2
            },
            "type": "scatter"
           }
          ],
          "scatter3d": [
           {
            "line": {
             "colorbar": {
              "outlinewidth": 0,
              "ticks": ""
             }
            },
            "marker": {
             "colorbar": {
              "outlinewidth": 0,
              "ticks": ""
             }
            },
            "type": "scatter3d"
           }
          ],
          "scattercarpet": [
           {
            "marker": {
             "colorbar": {
              "outlinewidth": 0,
              "ticks": ""
             }
            },
            "type": "scattercarpet"
           }
          ],
          "scattergeo": [
           {
            "marker": {
             "colorbar": {
              "outlinewidth": 0,
              "ticks": ""
             }
            },
            "type": "scattergeo"
           }
          ],
          "scattergl": [
           {
            "marker": {
             "colorbar": {
              "outlinewidth": 0,
              "ticks": ""
             }
            },
            "type": "scattergl"
           }
          ],
          "scattermap": [
           {
            "marker": {
             "colorbar": {
              "outlinewidth": 0,
              "ticks": ""
             }
            },
            "type": "scattermap"
           }
          ],
          "scattermapbox": [
           {
            "marker": {
             "colorbar": {
              "outlinewidth": 0,
              "ticks": ""
             }
            },
            "type": "scattermapbox"
           }
          ],
          "scatterpolar": [
           {
            "marker": {
             "colorbar": {
              "outlinewidth": 0,
              "ticks": ""
             }
            },
            "type": "scatterpolar"
           }
          ],
          "scatterpolargl": [
           {
            "marker": {
             "colorbar": {
              "outlinewidth": 0,
              "ticks": ""
             }
            },
            "type": "scatterpolargl"
           }
          ],
          "scatterternary": [
           {
            "marker": {
             "colorbar": {
              "outlinewidth": 0,
              "ticks": ""
             }
            },
            "type": "scatterternary"
           }
          ],
          "surface": [
           {
            "colorbar": {
             "outlinewidth": 0,
             "ticks": ""
            },
            "colorscale": [
             [
              0,
              "#0d0887"
             ],
             [
              0.1111111111111111,
              "#46039f"
             ],
             [
              0.2222222222222222,
              "#7201a8"
             ],
             [
              0.3333333333333333,
              "#9c179e"
             ],
             [
              0.4444444444444444,
              "#bd3786"
             ],
             [
              0.5555555555555556,
              "#d8576b"
             ],
             [
              0.6666666666666666,
              "#ed7953"
             ],
             [
              0.7777777777777778,
              "#fb9f3a"
             ],
             [
              0.8888888888888888,
              "#fdca26"
             ],
             [
              1,
              "#f0f921"
             ]
            ],
            "type": "surface"
           }
          ],
          "table": [
           {
            "cells": {
             "fill": {
              "color": "#EBF0F8"
             },
             "line": {
              "color": "white"
             }
            },
            "header": {
             "fill": {
              "color": "#C8D4E3"
             },
             "line": {
              "color": "white"
             }
            },
            "type": "table"
           }
          ]
         },
         "layout": {
          "annotationdefaults": {
           "arrowcolor": "#2a3f5f",
           "arrowhead": 0,
           "arrowwidth": 1
          },
          "autotypenumbers": "strict",
          "coloraxis": {
           "colorbar": {
            "outlinewidth": 0,
            "ticks": ""
           }
          },
          "colorscale": {
           "diverging": [
            [
             0,
             "#8e0152"
            ],
            [
             0.1,
             "#c51b7d"
            ],
            [
             0.2,
             "#de77ae"
            ],
            [
             0.3,
             "#f1b6da"
            ],
            [
             0.4,
             "#fde0ef"
            ],
            [
             0.5,
             "#f7f7f7"
            ],
            [
             0.6,
             "#e6f5d0"
            ],
            [
             0.7,
             "#b8e186"
            ],
            [
             0.8,
             "#7fbc41"
            ],
            [
             0.9,
             "#4d9221"
            ],
            [
             1,
             "#276419"
            ]
           ],
           "sequential": [
            [
             0,
             "#0d0887"
            ],
            [
             0.1111111111111111,
             "#46039f"
            ],
            [
             0.2222222222222222,
             "#7201a8"
            ],
            [
             0.3333333333333333,
             "#9c179e"
            ],
            [
             0.4444444444444444,
             "#bd3786"
            ],
            [
             0.5555555555555556,
             "#d8576b"
            ],
            [
             0.6666666666666666,
             "#ed7953"
            ],
            [
             0.7777777777777778,
             "#fb9f3a"
            ],
            [
             0.8888888888888888,
             "#fdca26"
            ],
            [
             1,
             "#f0f921"
            ]
           ],
           "sequentialminus": [
            [
             0,
             "#0d0887"
            ],
            [
             0.1111111111111111,
             "#46039f"
            ],
            [
             0.2222222222222222,
             "#7201a8"
            ],
            [
             0.3333333333333333,
             "#9c179e"
            ],
            [
             0.4444444444444444,
             "#bd3786"
            ],
            [
             0.5555555555555556,
             "#d8576b"
            ],
            [
             0.6666666666666666,
             "#ed7953"
            ],
            [
             0.7777777777777778,
             "#fb9f3a"
            ],
            [
             0.8888888888888888,
             "#fdca26"
            ],
            [
             1,
             "#f0f921"
            ]
           ]
          },
          "colorway": [
           "#636efa",
           "#EF553B",
           "#00cc96",
           "#ab63fa",
           "#FFA15A",
           "#19d3f3",
           "#FF6692",
           "#B6E880",
           "#FF97FF",
           "#FECB52"
          ],
          "font": {
           "color": "#2a3f5f"
          },
          "geo": {
           "bgcolor": "white",
           "lakecolor": "white",
           "landcolor": "#E5ECF6",
           "showlakes": true,
           "showland": true,
           "subunitcolor": "white"
          },
          "hoverlabel": {
           "align": "left"
          },
          "hovermode": "closest",
          "mapbox": {
           "style": "light"
          },
          "paper_bgcolor": "white",
          "plot_bgcolor": "#E5ECF6",
          "polar": {
           "angularaxis": {
            "gridcolor": "white",
            "linecolor": "white",
            "ticks": ""
           },
           "bgcolor": "#E5ECF6",
           "radialaxis": {
            "gridcolor": "white",
            "linecolor": "white",
            "ticks": ""
           }
          },
          "scene": {
           "xaxis": {
            "backgroundcolor": "#E5ECF6",
            "gridcolor": "white",
            "gridwidth": 2,
            "linecolor": "white",
            "showbackground": true,
            "ticks": "",
            "zerolinecolor": "white"
           },
           "yaxis": {
            "backgroundcolor": "#E5ECF6",
            "gridcolor": "white",
            "gridwidth": 2,
            "linecolor": "white",
            "showbackground": true,
            "ticks": "",
            "zerolinecolor": "white"
           },
           "zaxis": {
            "backgroundcolor": "#E5ECF6",
            "gridcolor": "white",
            "gridwidth": 2,
            "linecolor": "white",
            "showbackground": true,
            "ticks": "",
            "zerolinecolor": "white"
           }
          },
          "shapedefaults": {
           "line": {
            "color": "#2a3f5f"
           }
          },
          "ternary": {
           "aaxis": {
            "gridcolor": "white",
            "linecolor": "white",
            "ticks": ""
           },
           "baxis": {
            "gridcolor": "white",
            "linecolor": "white",
            "ticks": ""
           },
           "bgcolor": "#E5ECF6",
           "caxis": {
            "gridcolor": "white",
            "linecolor": "white",
            "ticks": ""
           }
          },
          "title": {
           "x": 0.05
          },
          "xaxis": {
           "automargin": true,
           "gridcolor": "white",
           "linecolor": "white",
           "ticks": "",
           "title": {
            "standoff": 15
           },
           "zerolinecolor": "white",
           "zerolinewidth": 2
          },
          "yaxis": {
           "automargin": true,
           "gridcolor": "white",
           "linecolor": "white",
           "ticks": "",
           "title": {
            "standoff": 15
           },
           "zerolinecolor": "white",
           "zerolinewidth": 2
          }
         }
        },
        "title": {
         "text": "Percentage of Population Vaccinated (At Least One Dose)"
        }
       }
      }
     },
     "metadata": {},
     "output_type": "display_data"
    }
   ],
   "source": [
    "# First, let's check what location identifiers we have available\n",
    "print(\"Columns available for geographic visualization:\")\n",
    "print(df.columns)\n",
    "# Since we don't have 'iso_code', we'll use the 'location' column with country names\n",
    "# Note: This requires the location names to match Plotly's country naming conventions\n",
    "\n",
    "# Choropleth map of total cases per million\n",
    "if 'total_cases_per_million' in df.columns and 'location' in df.columns:\n",
    "    # Get the latest data for each country\n",
    "    latest_data = df.sort_values('date').groupby('location').last().reset_index()\n",
    "    \n",
    "    fig = px.choropleth(latest_data,\n",
    "                        locations=\"location\",  # Using country names instead of ISO codes\n",
    "                        locationmode=\"country names\",  # Specify we're using country names\n",
    "                        color=\"total_cases_per_million\",\n",
    "                        hover_name=\"location\",\n",
    "                        hover_data=[\"total_cases\", \"total_deaths\", \"population\"],\n",
    "                        color_continuous_scale=px.colors.sequential.Plasma,\n",
    "                        title=\"Total COVID-19 Cases Per Million People (Latest Data)\",\n",
    "                        labels={'total_cases_per_million': 'Cases per million'})\n",
    "    fig.show()\n",
    "\n",
    "# Choropleth map of vaccination rates\n",
    "if 'pct_vaccinated' in df.columns and 'location' in df.columns:\n",
    "    # Get the latest data for each country\n",
    "    latest_data = df.sort_values('date').groupby('location').last().reset_index()\n",
    "    \n",
    "    fig = px.choropleth(latest_data,\n",
    "                        locations=\"location\",  # Using country names instead of ISO codes\n",
    "                        locationmode=\"country names\",  # Specify we're using country names\n",
    "                        color=\"pct_vaccinated\",\n",
    "                        hover_name=\"location\",\n",
    "                        hover_data=[\"people_vaccinated\", \"population\"],\n",
    "                        color_continuous_scale=px.colors.sequential.Tealgrn,\n",
    "                        title=\"Percentage of Population Vaccinated (At Least One Dose)\",\n",
    "                        labels={'pct_vaccinated': '% Vaccinated'})\n",
    "    fig.show()\n"
   ]
  },
  {
   "cell_type": "code",
   "execution_count": 37,
   "id": "10621ba2",
   "metadata": {},
   "outputs": [
    {
     "data": {
      "application/vnd.plotly.v1+json": {
       "config": {
        "plotlyServerURL": "https://plot.ly"
       },
       "data": [
        {
         "colorbar": {
          "title": {
           "text": "Median Age"
          }
         },
         "colorscale": [
          [
           0,
           "#440154"
          ],
          [
           0.1111111111111111,
           "#482878"
          ],
          [
           0.2222222222222222,
           "#3e4989"
          ],
          [
           0.3333333333333333,
           "#31688e"
          ],
          [
           0.4444444444444444,
           "#26828e"
          ],
          [
           0.5555555555555556,
           "#1f9e89"
          ],
          [
           0.6666666666666666,
           "#35b779"
          ],
          [
           0.7777777777777778,
           "#6ece58"
          ],
          [
           0.8888888888888888,
           "#b5de2b"
          ],
          [
           1,
           "#fde725"
          ]
         ],
         "locations": [
          "AFG",
          "ALB",
          "DZA",
          "ASM",
          "AND",
          "AGO",
          "AIA",
          "ATG",
          "ARG",
          "ARM",
          "ABW",
          "AUS",
          "AUT",
          "AZE",
          "BHS",
          "BHR",
          "BGD",
          "BRB",
          "BLR",
          "BEL",
          "BLZ",
          "BEN",
          "BMU",
          "BTN",
          "BOL",
          "BES",
          "BIH",
          "BWA",
          "BRA",
          "VGB",
          "BRN",
          "BGR",
          "BFA",
          "BDI",
          "KHM",
          "CMR",
          "CAN",
          "CPV",
          "CYM",
          "CAF",
          "TCD",
          "CHL",
          "CHN",
          "COL",
          "COM",
          "COG",
          "COK",
          "CRI",
          "CIV",
          "HRV",
          "CUB",
          "CUW",
          "CYP",
          "CZE",
          "COD",
          "DNK",
          "DJI",
          "DMA",
          "DOM",
          "TLS",
          "ECU",
          "EGY",
          "SLV",
          "OWID_ENG",
          "GNQ",
          "ERI",
          "EST",
          "SWZ",
          "ETH",
          "FLK",
          "FRO",
          "FJI",
          "FIN",
          "FRA",
          "GUF",
          "PYF",
          "GAB",
          "GMB",
          "GEO",
          "DEU",
          "GHA",
          "GIB",
          "GRC",
          "GRL",
          "GRD",
          "GLP",
          "GUM",
          "GTM",
          "GGY",
          "GIN",
          "GNB",
          "GUY",
          "HTI",
          "HND",
          "HKG",
          "HUN",
          "ISL",
          "IND",
          "IDN",
          "IRN",
          "IRQ",
          "IRL",
          "IMN",
          "ISR",
          "ITA",
          "JAM",
          "JPN",
          "JEY",
          "JOR",
          "KAZ",
          "KEN",
          "KIR",
          "OWID_KOS",
          "KWT",
          "KGZ",
          "LAO",
          "LVA",
          "LBN",
          "LSO",
          "LBR",
          "LBY",
          "LIE",
          "LTU",
          "LUX",
          "MAC",
          "MDG",
          "MWI",
          "MYS",
          "MDV",
          "MLI",
          "MLT",
          "MHL",
          "MTQ",
          "MRT",
          "MUS",
          "MYT",
          "MEX",
          "FSM",
          "MDA",
          "MCO",
          "MNG",
          "MNE",
          "MSR",
          "MAR",
          "MOZ",
          "MMR",
          "NAM",
          "NRU",
          "NPL",
          "NLD",
          "NCL",
          "NZL",
          "NIC",
          "NER",
          "NGA",
          "NIU",
          "PRK",
          "MKD",
          "OWID_CYN",
          "OWID_NIR",
          "MNP",
          "NOR",
          "OMN",
          "PAK",
          "PLW",
          "PSE",
          "PAN",
          "PNG",
          "PRY",
          "PER",
          "PHL",
          "PCN",
          "POL",
          "PRT",
          "PRI",
          "QAT",
          "REU",
          "ROU",
          "RUS",
          "RWA",
          "BLM",
          "SHN",
          "KNA",
          "LCA",
          "MAF",
          "SPM",
          "VCT",
          "WSM",
          "SMR",
          "STP",
          "SAU",
          "OWID_SCT",
          "SEN",
          "SRB",
          "SYC",
          "SLE",
          "SGP",
          "SXM",
          "SVK",
          "SVN",
          "SLB",
          "SOM",
          "ZAF",
          "KOR",
          "SSD",
          "ESP",
          "LKA",
          "SDN",
          "SUR",
          "SWE",
          "CHE",
          "SYR",
          "TWN",
          "TJK",
          "TZA",
          "THA",
          "TGO",
          "TKL",
          "TON",
          "TTO",
          "TUN",
          "TUR",
          "TKM",
          "TCA",
          "TUV",
          "UGA",
          "UKR",
          "ARE",
          "GBR",
          "USA",
          "VIR",
          "URY",
          "UZB",
          "VUT",
          "VAT",
          "VEN",
          "VNM",
          "OWID_WLS",
          "WLF",
          "ESH",
          "YEM",
          "ZMB",
          "ZWE"
         ],
         "name": "median_age",
         "text": [
          "Afghanistan",
          "Albania",
          "Algeria",
          "American Samoa",
          "Andorra",
          "Angola",
          "Anguilla",
          "Antigua and Barbuda",
          "Argentina",
          "Armenia",
          "Aruba",
          "Australia",
          "Austria",
          "Azerbaijan",
          "Bahamas",
          "Bahrain",
          "Bangladesh",
          "Barbados",
          "Belarus",
          "Belgium",
          "Belize",
          "Benin",
          "Bermuda",
          "Bhutan",
          "Bolivia",
          "Bonaire Sint Eustatius and Saba",
          "Bosnia and Herzegovina",
          "Botswana",
          "Brazil",
          "British Virgin Islands",
          "Brunei",
          "Bulgaria",
          "Burkina Faso",
          "Burundi",
          "Cambodia",
          "Cameroon",
          "Canada",
          "Cape Verde",
          "Cayman Islands",
          "Central African Republic",
          "Chad",
          "Chile",
          "China",
          "Colombia",
          "Comoros",
          "Congo",
          "Cook Islands",
          "Costa Rica",
          "Cote d'Ivoire",
          "Croatia",
          "Cuba",
          "Curacao",
          "Cyprus",
          "Czechia",
          "Democratic Republic of Congo",
          "Denmark",
          "Djibouti",
          "Dominica",
          "Dominican Republic",
          "East Timor",
          "Ecuador",
          "Egypt",
          "El Salvador",
          "England",
          "Equatorial Guinea",
          "Eritrea",
          "Estonia",
          "Eswatini",
          "Ethiopia",
          "Falkland Islands",
          "Faroe Islands",
          "Fiji",
          "Finland",
          "France",
          "French Guiana",
          "French Polynesia",
          "Gabon",
          "Gambia",
          "Georgia",
          "Germany",
          "Ghana",
          "Gibraltar",
          "Greece",
          "Greenland",
          "Grenada",
          "Guadeloupe",
          "Guam",
          "Guatemala",
          "Guernsey",
          "Guinea",
          "Guinea-Bissau",
          "Guyana",
          "Haiti",
          "Honduras",
          "Hong Kong",
          "Hungary",
          "Iceland",
          "India",
          "Indonesia",
          "Iran",
          "Iraq",
          "Ireland",
          "Isle of Man",
          "Israel",
          "Italy",
          "Jamaica",
          "Japan",
          "Jersey",
          "Jordan",
          "Kazakhstan",
          "Kenya",
          "Kiribati",
          "Kosovo",
          "Kuwait",
          "Kyrgyzstan",
          "Laos",
          "Latvia",
          "Lebanon",
          "Lesotho",
          "Liberia",
          "Libya",
          "Liechtenstein",
          "Lithuania",
          "Luxembourg",
          "Macao",
          "Madagascar",
          "Malawi",
          "Malaysia",
          "Maldives",
          "Mali",
          "Malta",
          "Marshall Islands",
          "Martinique",
          "Mauritania",
          "Mauritius",
          "Mayotte",
          "Mexico",
          "Micronesia (country)",
          "Moldova",
          "Monaco",
          "Mongolia",
          "Montenegro",
          "Montserrat",
          "Morocco",
          "Mozambique",
          "Myanmar",
          "Namibia",
          "Nauru",
          "Nepal",
          "Netherlands",
          "New Caledonia",
          "New Zealand",
          "Nicaragua",
          "Niger",
          "Nigeria",
          "Niue",
          "North Korea",
          "North Macedonia",
          "Northern Cyprus",
          "Northern Ireland",
          "Northern Mariana Islands",
          "Norway",
          "Oman",
          "Pakistan",
          "Palau",
          "Palestine",
          "Panama",
          "Papua New Guinea",
          "Paraguay",
          "Peru",
          "Philippines",
          "Pitcairn",
          "Poland",
          "Portugal",
          "Puerto Rico",
          "Qatar",
          "Reunion",
          "Romania",
          "Russia",
          "Rwanda",
          "Saint Barthelemy",
          "Saint Helena",
          "Saint Kitts and Nevis",
          "Saint Lucia",
          "Saint Martin (French part)",
          "Saint Pierre and Miquelon",
          "Saint Vincent and the Grenadines",
          "Samoa",
          "San Marino",
          "Sao Tome and Principe",
          "Saudi Arabia",
          "Scotland",
          "Senegal",
          "Serbia",
          "Seychelles",
          "Sierra Leone",
          "Singapore",
          "Sint Maarten (Dutch part)",
          "Slovakia",
          "Slovenia",
          "Solomon Islands",
          "Somalia",
          "South Africa",
          "South Korea",
          "South Sudan",
          "Spain",
          "Sri Lanka",
          "Sudan",
          "Suriname",
          "Sweden",
          "Switzerland",
          "Syria",
          "Taiwan",
          "Tajikistan",
          "Tanzania",
          "Thailand",
          "Togo",
          "Tokelau",
          "Tonga",
          "Trinidad and Tobago",
          "Tunisia",
          "Turkey",
          "Turkmenistan",
          "Turks and Caicos Islands",
          "Tuvalu",
          "Uganda",
          "Ukraine",
          "United Arab Emirates",
          "United Kingdom",
          "United States",
          "United States Virgin Islands",
          "Uruguay",
          "Uzbekistan",
          "Vanuatu",
          "Vatican",
          "Venezuela",
          "Vietnam",
          "Wales",
          "Wallis and Futuna",
          "Western Sahara",
          "Yemen",
          "Zambia",
          "Zimbabwe"
         ],
         "type": "choropleth",
         "visible": true,
         "z": {
          "bdata": "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",
          "dtype": "f8"
         }
        },
        {
         "colorbar": {
          "title": {
           "text": "Aged 65 Older"
          }
         },
         "colorscale": [
          [
           0,
           "#440154"
          ],
          [
           0.1111111111111111,
           "#482878"
          ],
          [
           0.2222222222222222,
           "#3e4989"
          ],
          [
           0.3333333333333333,
           "#31688e"
          ],
          [
           0.4444444444444444,
           "#26828e"
          ],
          [
           0.5555555555555556,
           "#1f9e89"
          ],
          [
           0.6666666666666666,
           "#35b779"
          ],
          [
           0.7777777777777778,
           "#6ece58"
          ],
          [
           0.8888888888888888,
           "#b5de2b"
          ],
          [
           1,
           "#fde725"
          ]
         ],
         "locations": [
          "AFG",
          "ALB",
          "DZA",
          "ASM",
          "AND",
          "AGO",
          "AIA",
          "ATG",
          "ARG",
          "ARM",
          "ABW",
          "AUS",
          "AUT",
          "AZE",
          "BHS",
          "BHR",
          "BGD",
          "BRB",
          "BLR",
          "BEL",
          "BLZ",
          "BEN",
          "BMU",
          "BTN",
          "BOL",
          "BES",
          "BIH",
          "BWA",
          "BRA",
          "VGB",
          "BRN",
          "BGR",
          "BFA",
          "BDI",
          "KHM",
          "CMR",
          "CAN",
          "CPV",
          "CYM",
          "CAF",
          "TCD",
          "CHL",
          "CHN",
          "COL",
          "COM",
          "COG",
          "COK",
          "CRI",
          "CIV",
          "HRV",
          "CUB",
          "CUW",
          "CYP",
          "CZE",
          "COD",
          "DNK",
          "DJI",
          "DMA",
          "DOM",
          "TLS",
          "ECU",
          "EGY",
          "SLV",
          "OWID_ENG",
          "GNQ",
          "ERI",
          "EST",
          "SWZ",
          "ETH",
          "FLK",
          "FRO",
          "FJI",
          "FIN",
          "FRA",
          "GUF",
          "PYF",
          "GAB",
          "GMB",
          "GEO",
          "DEU",
          "GHA",
          "GIB",
          "GRC",
          "GRL",
          "GRD",
          "GLP",
          "GUM",
          "GTM",
          "GGY",
          "GIN",
          "GNB",
          "GUY",
          "HTI",
          "HND",
          "HKG",
          "HUN",
          "ISL",
          "IND",
          "IDN",
          "IRN",
          "IRQ",
          "IRL",
          "IMN",
          "ISR",
          "ITA",
          "JAM",
          "JPN",
          "JEY",
          "JOR",
          "KAZ",
          "KEN",
          "KIR",
          "OWID_KOS",
          "KWT",
          "KGZ",
          "LAO",
          "LVA",
          "LBN",
          "LSO",
          "LBR",
          "LBY",
          "LIE",
          "LTU",
          "LUX",
          "MAC",
          "MDG",
          "MWI",
          "MYS",
          "MDV",
          "MLI",
          "MLT",
          "MHL",
          "MTQ",
          "MRT",
          "MUS",
          "MYT",
          "MEX",
          "FSM",
          "MDA",
          "MCO",
          "MNG",
          "MNE",
          "MSR",
          "MAR",
          "MOZ",
          "MMR",
          "NAM",
          "NRU",
          "NPL",
          "NLD",
          "NCL",
          "NZL",
          "NIC",
          "NER",
          "NGA",
          "NIU",
          "PRK",
          "MKD",
          "OWID_CYN",
          "OWID_NIR",
          "MNP",
          "NOR",
          "OMN",
          "PAK",
          "PLW",
          "PSE",
          "PAN",
          "PNG",
          "PRY",
          "PER",
          "PHL",
          "PCN",
          "POL",
          "PRT",
          "PRI",
          "QAT",
          "REU",
          "ROU",
          "RUS",
          "RWA",
          "BLM",
          "SHN",
          "KNA",
          "LCA",
          "MAF",
          "SPM",
          "VCT",
          "WSM",
          "SMR",
          "STP",
          "SAU",
          "OWID_SCT",
          "SEN",
          "SRB",
          "SYC",
          "SLE",
          "SGP",
          "SXM",
          "SVK",
          "SVN",
          "SLB",
          "SOM",
          "ZAF",
          "KOR",
          "SSD",
          "ESP",
          "LKA",
          "SDN",
          "SUR",
          "SWE",
          "CHE",
          "SYR",
          "TWN",
          "TJK",
          "TZA",
          "THA",
          "TGO",
          "TKL",
          "TON",
          "TTO",
          "TUN",
          "TUR",
          "TKM",
          "TCA",
          "TUV",
          "UGA",
          "UKR",
          "ARE",
          "GBR",
          "USA",
          "VIR",
          "URY",
          "UZB",
          "VUT",
          "VAT",
          "VEN",
          "VNM",
          "OWID_WLS",
          "WLF",
          "ESH",
          "YEM",
          "ZMB",
          "ZWE"
         ],
         "name": "aged_65_older",
         "text": [
          "Afghanistan",
          "Albania",
          "Algeria",
          "American Samoa",
          "Andorra",
          "Angola",
          "Anguilla",
          "Antigua and Barbuda",
          "Argentina",
          "Armenia",
          "Aruba",
          "Australia",
          "Austria",
          "Azerbaijan",
          "Bahamas",
          "Bahrain",
          "Bangladesh",
          "Barbados",
          "Belarus",
          "Belgium",
          "Belize",
          "Benin",
          "Bermuda",
          "Bhutan",
          "Bolivia",
          "Bonaire Sint Eustatius and Saba",
          "Bosnia and Herzegovina",
          "Botswana",
          "Brazil",
          "British Virgin Islands",
          "Brunei",
          "Bulgaria",
          "Burkina Faso",
          "Burundi",
          "Cambodia",
          "Cameroon",
          "Canada",
          "Cape Verde",
          "Cayman Islands",
          "Central African Republic",
          "Chad",
          "Chile",
          "China",
          "Colombia",
          "Comoros",
          "Congo",
          "Cook Islands",
          "Costa Rica",
          "Cote d'Ivoire",
          "Croatia",
          "Cuba",
          "Curacao",
          "Cyprus",
          "Czechia",
          "Democratic Republic of Congo",
          "Denmark",
          "Djibouti",
          "Dominica",
          "Dominican Republic",
          "East Timor",
          "Ecuador",
          "Egypt",
          "El Salvador",
          "England",
          "Equatorial Guinea",
          "Eritrea",
          "Estonia",
          "Eswatini",
          "Ethiopia",
          "Falkland Islands",
          "Faroe Islands",
          "Fiji",
          "Finland",
          "France",
          "French Guiana",
          "French Polynesia",
          "Gabon",
          "Gambia",
          "Georgia",
          "Germany",
          "Ghana",
          "Gibraltar",
          "Greece",
          "Greenland",
          "Grenada",
          "Guadeloupe",
          "Guam",
          "Guatemala",
          "Guernsey",
          "Guinea",
          "Guinea-Bissau",
          "Guyana",
          "Haiti",
          "Honduras",
          "Hong Kong",
          "Hungary",
          "Iceland",
          "India",
          "Indonesia",
          "Iran",
          "Iraq",
          "Ireland",
          "Isle of Man",
          "Israel",
          "Italy",
          "Jamaica",
          "Japan",
          "Jersey",
          "Jordan",
          "Kazakhstan",
          "Kenya",
          "Kiribati",
          "Kosovo",
          "Kuwait",
          "Kyrgyzstan",
          "Laos",
          "Latvia",
          "Lebanon",
          "Lesotho",
          "Liberia",
          "Libya",
          "Liechtenstein",
          "Lithuania",
          "Luxembourg",
          "Macao",
          "Madagascar",
          "Malawi",
          "Malaysia",
          "Maldives",
          "Mali",
          "Malta",
          "Marshall Islands",
          "Martinique",
          "Mauritania",
          "Mauritius",
          "Mayotte",
          "Mexico",
          "Micronesia (country)",
          "Moldova",
          "Monaco",
          "Mongolia",
          "Montenegro",
          "Montserrat",
          "Morocco",
          "Mozambique",
          "Myanmar",
          "Namibia",
          "Nauru",
          "Nepal",
          "Netherlands",
          "New Caledonia",
          "New Zealand",
          "Nicaragua",
          "Niger",
          "Nigeria",
          "Niue",
          "North Korea",
          "North Macedonia",
          "Northern Cyprus",
          "Northern Ireland",
          "Northern Mariana Islands",
          "Norway",
          "Oman",
          "Pakistan",
          "Palau",
          "Palestine",
          "Panama",
          "Papua New Guinea",
          "Paraguay",
          "Peru",
          "Philippines",
          "Pitcairn",
          "Poland",
          "Portugal",
          "Puerto Rico",
          "Qatar",
          "Reunion",
          "Romania",
          "Russia",
          "Rwanda",
          "Saint Barthelemy",
          "Saint Helena",
          "Saint Kitts and Nevis",
          "Saint Lucia",
          "Saint Martin (French part)",
          "Saint Pierre and Miquelon",
          "Saint Vincent and the Grenadines",
          "Samoa",
          "San Marino",
          "Sao Tome and Principe",
          "Saudi Arabia",
          "Scotland",
          "Senegal",
          "Serbia",
          "Seychelles",
          "Sierra Leone",
          "Singapore",
          "Sint Maarten (Dutch part)",
          "Slovakia",
          "Slovenia",
          "Solomon Islands",
          "Somalia",
          "South Africa",
          "South Korea",
          "South Sudan",
          "Spain",
          "Sri Lanka",
          "Sudan",
          "Suriname",
          "Sweden",
          "Switzerland",
          "Syria",
          "Taiwan",
          "Tajikistan",
          "Tanzania",
          "Thailand",
          "Togo",
          "Tokelau",
          "Tonga",
          "Trinidad and Tobago",
          "Tunisia",
          "Turkey",
          "Turkmenistan",
          "Turks and Caicos Islands",
          "Tuvalu",
          "Uganda",
          "Ukraine",
          "United Arab Emirates",
          "United Kingdom",
          "United States",
          "United States Virgin Islands",
          "Uruguay",
          "Uzbekistan",
          "Vanuatu",
          "Vatican",
          "Venezuela",
          "Vietnam",
          "Wales",
          "Wallis and Futuna",
          "Western Sahara",
          "Yemen",
          "Zambia",
          "Zimbabwe"
         ],
         "type": "choropleth",
         "visible": false,
         "z": {
          "bdata": "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",
          "dtype": "f8"
         }
        },
        {
         "colorbar": {
          "title": {
           "text": "Aged 70 Older"
          }
         },
         "colorscale": [
          [
           0,
           "#440154"
          ],
          [
           0.1111111111111111,
           "#482878"
          ],
          [
           0.2222222222222222,
           "#3e4989"
          ],
          [
           0.3333333333333333,
           "#31688e"
          ],
          [
           0.4444444444444444,
           "#26828e"
          ],
          [
           0.5555555555555556,
           "#1f9e89"
          ],
          [
           0.6666666666666666,
           "#35b779"
          ],
          [
           0.7777777777777778,
           "#6ece58"
          ],
          [
           0.8888888888888888,
           "#b5de2b"
          ],
          [
           1,
           "#fde725"
          ]
         ],
         "locations": [
          "AFG",
          "ALB",
          "DZA",
          "ASM",
          "AND",
          "AGO",
          "AIA",
          "ATG",
          "ARG",
          "ARM",
          "ABW",
          "AUS",
          "AUT",
          "AZE",
          "BHS",
          "BHR",
          "BGD",
          "BRB",
          "BLR",
          "BEL",
          "BLZ",
          "BEN",
          "BMU",
          "BTN",
          "BOL",
          "BES",
          "BIH",
          "BWA",
          "BRA",
          "VGB",
          "BRN",
          "BGR",
          "BFA",
          "BDI",
          "KHM",
          "CMR",
          "CAN",
          "CPV",
          "CYM",
          "CAF",
          "TCD",
          "CHL",
          "CHN",
          "COL",
          "COM",
          "COG",
          "COK",
          "CRI",
          "CIV",
          "HRV",
          "CUB",
          "CUW",
          "CYP",
          "CZE",
          "COD",
          "DNK",
          "DJI",
          "DMA",
          "DOM",
          "TLS",
          "ECU",
          "EGY",
          "SLV",
          "OWID_ENG",
          "GNQ",
          "ERI",
          "EST",
          "SWZ",
          "ETH",
          "FLK",
          "FRO",
          "FJI",
          "FIN",
          "FRA",
          "GUF",
          "PYF",
          "GAB",
          "GMB",
          "GEO",
          "DEU",
          "GHA",
          "GIB",
          "GRC",
          "GRL",
          "GRD",
          "GLP",
          "GUM",
          "GTM",
          "GGY",
          "GIN",
          "GNB",
          "GUY",
          "HTI",
          "HND",
          "HKG",
          "HUN",
          "ISL",
          "IND",
          "IDN",
          "IRN",
          "IRQ",
          "IRL",
          "IMN",
          "ISR",
          "ITA",
          "JAM",
          "JPN",
          "JEY",
          "JOR",
          "KAZ",
          "KEN",
          "KIR",
          "OWID_KOS",
          "KWT",
          "KGZ",
          "LAO",
          "LVA",
          "LBN",
          "LSO",
          "LBR",
          "LBY",
          "LIE",
          "LTU",
          "LUX",
          "MAC",
          "MDG",
          "MWI",
          "MYS",
          "MDV",
          "MLI",
          "MLT",
          "MHL",
          "MTQ",
          "MRT",
          "MUS",
          "MYT",
          "MEX",
          "FSM",
          "MDA",
          "MCO",
          "MNG",
          "MNE",
          "MSR",
          "MAR",
          "MOZ",
          "MMR",
          "NAM",
          "NRU",
          "NPL",
          "NLD",
          "NCL",
          "NZL",
          "NIC",
          "NER",
          "NGA",
          "NIU",
          "PRK",
          "MKD",
          "OWID_CYN",
          "OWID_NIR",
          "MNP",
          "NOR",
          "OMN",
          "PAK",
          "PLW",
          "PSE",
          "PAN",
          "PNG",
          "PRY",
          "PER",
          "PHL",
          "PCN",
          "POL",
          "PRT",
          "PRI",
          "QAT",
          "REU",
          "ROU",
          "RUS",
          "RWA",
          "BLM",
          "SHN",
          "KNA",
          "LCA",
          "MAF",
          "SPM",
          "VCT",
          "WSM",
          "SMR",
          "STP",
          "SAU",
          "OWID_SCT",
          "SEN",
          "SRB",
          "SYC",
          "SLE",
          "SGP",
          "SXM",
          "SVK",
          "SVN",
          "SLB",
          "SOM",
          "ZAF",
          "KOR",
          "SSD",
          "ESP",
          "LKA",
          "SDN",
          "SUR",
          "SWE",
          "CHE",
          "SYR",
          "TWN",
          "TJK",
          "TZA",
          "THA",
          "TGO",
          "TKL",
          "TON",
          "TTO",
          "TUN",
          "TUR",
          "TKM",
          "TCA",
          "TUV",
          "UGA",
          "UKR",
          "ARE",
          "GBR",
          "USA",
          "VIR",
          "URY",
          "UZB",
          "VUT",
          "VAT",
          "VEN",
          "VNM",
          "OWID_WLS",
          "WLF",
          "ESH",
          "YEM",
          "ZMB",
          "ZWE"
         ],
         "name": "aged_70_older",
         "text": [
          "Afghanistan",
          "Albania",
          "Algeria",
          "American Samoa",
          "Andorra",
          "Angola",
          "Anguilla",
          "Antigua and Barbuda",
          "Argentina",
          "Armenia",
          "Aruba",
          "Australia",
          "Austria",
          "Azerbaijan",
          "Bahamas",
          "Bahrain",
          "Bangladesh",
          "Barbados",
          "Belarus",
          "Belgium",
          "Belize",
          "Benin",
          "Bermuda",
          "Bhutan",
          "Bolivia",
          "Bonaire Sint Eustatius and Saba",
          "Bosnia and Herzegovina",
          "Botswana",
          "Brazil",
          "British Virgin Islands",
          "Brunei",
          "Bulgaria",
          "Burkina Faso",
          "Burundi",
          "Cambodia",
          "Cameroon",
          "Canada",
          "Cape Verde",
          "Cayman Islands",
          "Central African Republic",
          "Chad",
          "Chile",
          "China",
          "Colombia",
          "Comoros",
          "Congo",
          "Cook Islands",
          "Costa Rica",
          "Cote d'Ivoire",
          "Croatia",
          "Cuba",
          "Curacao",
          "Cyprus",
          "Czechia",
          "Democratic Republic of Congo",
          "Denmark",
          "Djibouti",
          "Dominica",
          "Dominican Republic",
          "East Timor",
          "Ecuador",
          "Egypt",
          "El Salvador",
          "England",
          "Equatorial Guinea",
          "Eritrea",
          "Estonia",
          "Eswatini",
          "Ethiopia",
          "Falkland Islands",
          "Faroe Islands",
          "Fiji",
          "Finland",
          "France",
          "French Guiana",
          "French Polynesia",
          "Gabon",
          "Gambia",
          "Georgia",
          "Germany",
          "Ghana",
          "Gibraltar",
          "Greece",
          "Greenland",
          "Grenada",
          "Guadeloupe",
          "Guam",
          "Guatemala",
          "Guernsey",
          "Guinea",
          "Guinea-Bissau",
          "Guyana",
          "Haiti",
          "Honduras",
          "Hong Kong",
          "Hungary",
          "Iceland",
          "India",
          "Indonesia",
          "Iran",
          "Iraq",
          "Ireland",
          "Isle of Man",
          "Israel",
          "Italy",
          "Jamaica",
          "Japan",
          "Jersey",
          "Jordan",
          "Kazakhstan",
          "Kenya",
          "Kiribati",
          "Kosovo",
          "Kuwait",
          "Kyrgyzstan",
          "Laos",
          "Latvia",
          "Lebanon",
          "Lesotho",
          "Liberia",
          "Libya",
          "Liechtenstein",
          "Lithuania",
          "Luxembourg",
          "Macao",
          "Madagascar",
          "Malawi",
          "Malaysia",
          "Maldives",
          "Mali",
          "Malta",
          "Marshall Islands",
          "Martinique",
          "Mauritania",
          "Mauritius",
          "Mayotte",
          "Mexico",
          "Micronesia (country)",
          "Moldova",
          "Monaco",
          "Mongolia",
          "Montenegro",
          "Montserrat",
          "Morocco",
          "Mozambique",
          "Myanmar",
          "Namibia",
          "Nauru",
          "Nepal",
          "Netherlands",
          "New Caledonia",
          "New Zealand",
          "Nicaragua",
          "Niger",
          "Nigeria",
          "Niue",
          "North Korea",
          "North Macedonia",
          "Northern Cyprus",
          "Northern Ireland",
          "Northern Mariana Islands",
          "Norway",
          "Oman",
          "Pakistan",
          "Palau",
          "Palestine",
          "Panama",
          "Papua New Guinea",
          "Paraguay",
          "Peru",
          "Philippines",
          "Pitcairn",
          "Poland",
          "Portugal",
          "Puerto Rico",
          "Qatar",
          "Reunion",
          "Romania",
          "Russia",
          "Rwanda",
          "Saint Barthelemy",
          "Saint Helena",
          "Saint Kitts and Nevis",
          "Saint Lucia",
          "Saint Martin (French part)",
          "Saint Pierre and Miquelon",
          "Saint Vincent and the Grenadines",
          "Samoa",
          "San Marino",
          "Sao Tome and Principe",
          "Saudi Arabia",
          "Scotland",
          "Senegal",
          "Serbia",
          "Seychelles",
          "Sierra Leone",
          "Singapore",
          "Sint Maarten (Dutch part)",
          "Slovakia",
          "Slovenia",
          "Solomon Islands",
          "Somalia",
          "South Africa",
          "South Korea",
          "South Sudan",
          "Spain",
          "Sri Lanka",
          "Sudan",
          "Suriname",
          "Sweden",
          "Switzerland",
          "Syria",
          "Taiwan",
          "Tajikistan",
          "Tanzania",
          "Thailand",
          "Togo",
          "Tokelau",
          "Tonga",
          "Trinidad and Tobago",
          "Tunisia",
          "Turkey",
          "Turkmenistan",
          "Turks and Caicos Islands",
          "Tuvalu",
          "Uganda",
          "Ukraine",
          "United Arab Emirates",
          "United Kingdom",
          "United States",
          "United States Virgin Islands",
          "Uruguay",
          "Uzbekistan",
          "Vanuatu",
          "Vatican",
          "Venezuela",
          "Vietnam",
          "Wales",
          "Wallis and Futuna",
          "Western Sahara",
          "Yemen",
          "Zambia",
          "Zimbabwe"
         ],
         "type": "choropleth",
         "visible": false,
         "z": {
          "bdata": "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",
          "dtype": "f8"
         }
        }
       ],
       "layout": {
        "geo": {
         "scope": "world"
        },
        "height": 600,
        "margin": {
         "b": 0,
         "l": 0,
         "r": 0,
         "t": 80
        },
        "template": {
         "data": {
          "bar": [
           {
            "error_x": {
             "color": "#2a3f5f"
            },
            "error_y": {
             "color": "#2a3f5f"
            },
            "marker": {
             "line": {
              "color": "#E5ECF6",
              "width": 0.5
             },
             "pattern": {
              "fillmode": "overlay",
              "size": 10,
              "solidity": 0.2
             }
            },
            "type": "bar"
           }
          ],
          "barpolar": [
           {
            "marker": {
             "line": {
              "color": "#E5ECF6",
              "width": 0.5
             },
             "pattern": {
              "fillmode": "overlay",
              "size": 10,
              "solidity": 0.2
             }
            },
            "type": "barpolar"
           }
          ],
          "carpet": [
           {
            "aaxis": {
             "endlinecolor": "#2a3f5f",
             "gridcolor": "white",
             "linecolor": "white",
             "minorgridcolor": "white",
             "startlinecolor": "#2a3f5f"
            },
            "baxis": {
             "endlinecolor": "#2a3f5f",
             "gridcolor": "white",
             "linecolor": "white",
             "minorgridcolor": "white",
             "startlinecolor": "#2a3f5f"
            },
            "type": "carpet"
           }
          ],
          "choropleth": [
           {
            "colorbar": {
             "outlinewidth": 0,
             "ticks": ""
            },
            "type": "choropleth"
           }
          ],
          "contour": [
           {
            "colorbar": {
             "outlinewidth": 0,
             "ticks": ""
            },
            "colorscale": [
             [
              0,
              "#0d0887"
             ],
             [
              0.1111111111111111,
              "#46039f"
             ],
             [
              0.2222222222222222,
              "#7201a8"
             ],
             [
              0.3333333333333333,
              "#9c179e"
             ],
             [
              0.4444444444444444,
              "#bd3786"
             ],
             [
              0.5555555555555556,
              "#d8576b"
             ],
             [
              0.6666666666666666,
              "#ed7953"
             ],
             [
              0.7777777777777778,
              "#fb9f3a"
             ],
             [
              0.8888888888888888,
              "#fdca26"
             ],
             [
              1,
              "#f0f921"
             ]
            ],
            "type": "contour"
           }
          ],
          "contourcarpet": [
           {
            "colorbar": {
             "outlinewidth": 0,
             "ticks": ""
            },
            "type": "contourcarpet"
           }
          ],
          "heatmap": [
           {
            "colorbar": {
             "outlinewidth": 0,
             "ticks": ""
            },
            "colorscale": [
             [
              0,
              "#0d0887"
             ],
             [
              0.1111111111111111,
              "#46039f"
             ],
             [
              0.2222222222222222,
              "#7201a8"
             ],
             [
              0.3333333333333333,
              "#9c179e"
             ],
             [
              0.4444444444444444,
              "#bd3786"
             ],
             [
              0.5555555555555556,
              "#d8576b"
             ],
             [
              0.6666666666666666,
              "#ed7953"
             ],
             [
              0.7777777777777778,
              "#fb9f3a"
             ],
             [
              0.8888888888888888,
              "#fdca26"
             ],
             [
              1,
              "#f0f921"
             ]
            ],
            "type": "heatmap"
           }
          ],
          "histogram": [
           {
            "marker": {
             "pattern": {
              "fillmode": "overlay",
              "size": 10,
              "solidity": 0.2
             }
            },
            "type": "histogram"
           }
          ],
          "histogram2d": [
           {
            "colorbar": {
             "outlinewidth": 0,
             "ticks": ""
            },
            "colorscale": [
             [
              0,
              "#0d0887"
             ],
             [
              0.1111111111111111,
              "#46039f"
             ],
             [
              0.2222222222222222,
              "#7201a8"
             ],
             [
              0.3333333333333333,
              "#9c179e"
             ],
             [
              0.4444444444444444,
              "#bd3786"
             ],
             [
              0.5555555555555556,
              "#d8576b"
             ],
             [
              0.6666666666666666,
              "#ed7953"
             ],
             [
              0.7777777777777778,
              "#fb9f3a"
             ],
             [
              0.8888888888888888,
              "#fdca26"
             ],
             [
              1,
              "#f0f921"
             ]
            ],
            "type": "histogram2d"
           }
          ],
          "histogram2dcontour": [
           {
            "colorbar": {
             "outlinewidth": 0,
             "ticks": ""
            },
            "colorscale": [
             [
              0,
              "#0d0887"
             ],
             [
              0.1111111111111111,
              "#46039f"
             ],
             [
              0.2222222222222222,
              "#7201a8"
             ],
             [
              0.3333333333333333,
              "#9c179e"
             ],
             [
              0.4444444444444444,
              "#bd3786"
             ],
             [
              0.5555555555555556,
              "#d8576b"
             ],
             [
              0.6666666666666666,
              "#ed7953"
             ],
             [
              0.7777777777777778,
              "#fb9f3a"
             ],
             [
              0.8888888888888888,
              "#fdca26"
             ],
             [
              1,
              "#f0f921"
             ]
            ],
            "type": "histogram2dcontour"
           }
          ],
          "mesh3d": [
           {
            "colorbar": {
             "outlinewidth": 0,
             "ticks": ""
            },
            "type": "mesh3d"
           }
          ],
          "parcoords": [
           {
            "line": {
             "colorbar": {
              "outlinewidth": 0,
              "ticks": ""
             }
            },
            "type": "parcoords"
           }
          ],
          "pie": [
           {
            "automargin": true,
            "type": "pie"
           }
          ],
          "scatter": [
           {
            "fillpattern": {
             "fillmode": "overlay",
             "size": 10,
             "solidity": 0.2
            },
            "type": "scatter"
           }
          ],
          "scatter3d": [
           {
            "line": {
             "colorbar": {
              "outlinewidth": 0,
              "ticks": ""
             }
            },
            "marker": {
             "colorbar": {
              "outlinewidth": 0,
              "ticks": ""
             }
            },
            "type": "scatter3d"
           }
          ],
          "scattercarpet": [
           {
            "marker": {
             "colorbar": {
              "outlinewidth": 0,
              "ticks": ""
             }
            },
            "type": "scattercarpet"
           }
          ],
          "scattergeo": [
           {
            "marker": {
             "colorbar": {
              "outlinewidth": 0,
              "ticks": ""
             }
            },
            "type": "scattergeo"
           }
          ],
          "scattergl": [
           {
            "marker": {
             "colorbar": {
              "outlinewidth": 0,
              "ticks": ""
             }
            },
            "type": "scattergl"
           }
          ],
          "scattermap": [
           {
            "marker": {
             "colorbar": {
              "outlinewidth": 0,
              "ticks": ""
             }
            },
            "type": "scattermap"
           }
          ],
          "scattermapbox": [
           {
            "marker": {
             "colorbar": {
              "outlinewidth": 0,
              "ticks": ""
             }
            },
            "type": "scattermapbox"
           }
          ],
          "scatterpolar": [
           {
            "marker": {
             "colorbar": {
              "outlinewidth": 0,
              "ticks": ""
             }
            },
            "type": "scatterpolar"
           }
          ],
          "scatterpolargl": [
           {
            "marker": {
             "colorbar": {
              "outlinewidth": 0,
              "ticks": ""
             }
            },
            "type": "scatterpolargl"
           }
          ],
          "scatterternary": [
           {
            "marker": {
             "colorbar": {
              "outlinewidth": 0,
              "ticks": ""
             }
            },
            "type": "scatterternary"
           }
          ],
          "surface": [
           {
            "colorbar": {
             "outlinewidth": 0,
             "ticks": ""
            },
            "colorscale": [
             [
              0,
              "#0d0887"
             ],
             [
              0.1111111111111111,
              "#46039f"
             ],
             [
              0.2222222222222222,
              "#7201a8"
             ],
             [
              0.3333333333333333,
              "#9c179e"
             ],
             [
              0.4444444444444444,
              "#bd3786"
             ],
             [
              0.5555555555555556,
              "#d8576b"
             ],
             [
              0.6666666666666666,
              "#ed7953"
             ],
             [
              0.7777777777777778,
              "#fb9f3a"
             ],
             [
              0.8888888888888888,
              "#fdca26"
             ],
             [
              1,
              "#f0f921"
             ]
            ],
            "type": "surface"
           }
          ],
          "table": [
           {
            "cells": {
             "fill": {
              "color": "#EBF0F8"
             },
             "line": {
              "color": "white"
             }
            },
            "header": {
             "fill": {
              "color": "#C8D4E3"
             },
             "line": {
              "color": "white"
             }
            },
            "type": "table"
           }
          ]
         },
         "layout": {
          "annotationdefaults": {
           "arrowcolor": "#2a3f5f",
           "arrowhead": 0,
           "arrowwidth": 1
          },
          "autotypenumbers": "strict",
          "coloraxis": {
           "colorbar": {
            "outlinewidth": 0,
            "ticks": ""
           }
          },
          "colorscale": {
           "diverging": [
            [
             0,
             "#8e0152"
            ],
            [
             0.1,
             "#c51b7d"
            ],
            [
             0.2,
             "#de77ae"
            ],
            [
             0.3,
             "#f1b6da"
            ],
            [
             0.4,
             "#fde0ef"
            ],
            [
             0.5,
             "#f7f7f7"
            ],
            [
             0.6,
             "#e6f5d0"
            ],
            [
             0.7,
             "#b8e186"
            ],
            [
             0.8,
             "#7fbc41"
            ],
            [
             0.9,
             "#4d9221"
            ],
            [
             1,
             "#276419"
            ]
           ],
           "sequential": [
            [
             0,
             "#0d0887"
            ],
            [
             0.1111111111111111,
             "#46039f"
            ],
            [
             0.2222222222222222,
             "#7201a8"
            ],
            [
             0.3333333333333333,
             "#9c179e"
            ],
            [
             0.4444444444444444,
             "#bd3786"
            ],
            [
             0.5555555555555556,
             "#d8576b"
            ],
            [
             0.6666666666666666,
             "#ed7953"
            ],
            [
             0.7777777777777778,
             "#fb9f3a"
            ],
            [
             0.8888888888888888,
             "#fdca26"
            ],
            [
             1,
             "#f0f921"
            ]
           ],
           "sequentialminus": [
            [
             0,
             "#0d0887"
            ],
            [
             0.1111111111111111,
             "#46039f"
            ],
            [
             0.2222222222222222,
             "#7201a8"
            ],
            [
             0.3333333333333333,
             "#9c179e"
            ],
            [
             0.4444444444444444,
             "#bd3786"
            ],
            [
             0.5555555555555556,
             "#d8576b"
            ],
            [
             0.6666666666666666,
             "#ed7953"
            ],
            [
             0.7777777777777778,
             "#fb9f3a"
            ],
            [
             0.8888888888888888,
             "#fdca26"
            ],
            [
             1,
             "#f0f921"
            ]
           ]
          },
          "colorway": [
           "#636efa",
           "#EF553B",
           "#00cc96",
           "#ab63fa",
           "#FFA15A",
           "#19d3f3",
           "#FF6692",
           "#B6E880",
           "#FF97FF",
           "#FECB52"
          ],
          "font": {
           "color": "#2a3f5f"
          },
          "geo": {
           "bgcolor": "white",
           "lakecolor": "white",
           "landcolor": "#E5ECF6",
           "showlakes": true,
           "showland": true,
           "subunitcolor": "white"
          },
          "hoverlabel": {
           "align": "left"
          },
          "hovermode": "closest",
          "mapbox": {
           "style": "light"
          },
          "paper_bgcolor": "white",
          "plot_bgcolor": "#E5ECF6",
          "polar": {
           "angularaxis": {
            "gridcolor": "white",
            "linecolor": "white",
            "ticks": ""
           },
           "bgcolor": "#E5ECF6",
           "radialaxis": {
            "gridcolor": "white",
            "linecolor": "white",
            "ticks": ""
           }
          },
          "scene": {
           "xaxis": {
            "backgroundcolor": "#E5ECF6",
            "gridcolor": "white",
            "gridwidth": 2,
            "linecolor": "white",
            "showbackground": true,
            "ticks": "",
            "zerolinecolor": "white"
           },
           "yaxis": {
            "backgroundcolor": "#E5ECF6",
            "gridcolor": "white",
            "gridwidth": 2,
            "linecolor": "white",
            "showbackground": true,
            "ticks": "",
            "zerolinecolor": "white"
           },
           "zaxis": {
            "backgroundcolor": "#E5ECF6",
            "gridcolor": "white",
            "gridwidth": 2,
            "linecolor": "white",
            "showbackground": true,
            "ticks": "",
            "zerolinecolor": "white"
           }
          },
          "shapedefaults": {
           "line": {
            "color": "#2a3f5f"
           }
          },
          "ternary": {
           "aaxis": {
            "gridcolor": "white",
            "linecolor": "white",
            "ticks": ""
           },
           "baxis": {
            "gridcolor": "white",
            "linecolor": "white",
            "ticks": ""
           },
           "bgcolor": "#E5ECF6",
           "caxis": {
            "gridcolor": "white",
            "linecolor": "white",
            "ticks": ""
           }
          },
          "title": {
           "x": 0.05
          },
          "xaxis": {
           "automargin": true,
           "gridcolor": "white",
           "linecolor": "white",
           "ticks": "",
           "title": {
            "standoff": 15
           },
           "zerolinecolor": "white",
           "zerolinewidth": 2
          },
          "yaxis": {
           "automargin": true,
           "gridcolor": "white",
           "linecolor": "white",
           "ticks": "",
           "title": {
            "standoff": 15
           },
           "zerolinecolor": "white",
           "zerolinewidth": 2
          }
         }
        },
        "title": {
         "text": "Select Demographic Indicator by Country"
        },
        "updatemenus": [
         {
          "buttons": [
           {
            "args": [
             {
              "visible": [
               true,
               false,
               false
              ]
             },
             {
              "coloraxis": {
               "colorbar": {
                "title": "Median Age"
               }
              }
             }
            ],
            "label": "Median Age",
            "method": "update"
           },
           {
            "args": [
             {
              "visible": [
               false,
               true,
               false
              ]
             },
             {
              "coloraxis": {
               "colorbar": {
                "title": "Aged 65 Older"
               }
              }
             }
            ],
            "label": "Aged 65 Older",
            "method": "update"
           },
           {
            "args": [
             {
              "visible": [
               false,
               false,
               true
              ]
             },
             {
              "coloraxis": {
               "colorbar": {
                "title": "Aged 70 Older"
               }
              }
             }
            ],
            "label": "Aged 70 Older",
            "method": "update"
           }
          ],
          "direction": "down",
          "showactive": true,
          "x": 0.5,
          "xanchor": "center",
          "y": 1.15,
          "yanchor": "top"
         }
        ],
        "width": 1200
       }
      }
     },
     "metadata": {},
     "output_type": "display_data"
    }
   ],
   "source": [
    "# Import plotly.graph_objects as go\n",
    "import plotly.graph_objects as go\n",
    "\n",
    "# Get latest demographic values per country\n",
    "country_demo = df.groupby(['location', 'continent', 'iso_code'])[\n",
    "    ['median_age', 'aged_65_older', 'aged_70_older']\n",
    "].max().reset_index()\n",
    "\n",
    "# Define the demographic columns and colorscale\n",
    "columns = ['median_age', 'aged_65_older', 'aged_70_older']\n",
    "colorscale = 'Viridis'\n",
    "\n",
    "# Initialize figure\n",
    "fig = go.Figure()\n",
    "\n",
    "# Add a choropleth trace for each demographic column\n",
    "for i, col in enumerate(columns):\n",
    "    fig.add_trace(go.Choropleth(\n",
    "        locations=country_demo['iso_code'],\n",
    "        z=country_demo[col],\n",
    "        text=country_demo['location'],\n",
    "        colorscale=colorscale,\n",
    "        colorbar_title=col.replace('_', ' ').title(),\n",
    "        visible=(i == 0),\n",
    "        name=col\n",
    "    ))\n",
    "\n",
    "# Add dropdown slicer at top center\n",
    "fig.update_layout(\n",
    "    updatemenus=[{\n",
    "        'buttons': [\n",
    "            {\n",
    "                'label': col.replace('_', ' ').title(),\n",
    "                'method': 'update',\n",
    "                'args': [\n",
    "                    {'visible': [i == j for j in range(len(columns))]},\n",
    "                    {'coloraxis': {'colorbar': {'title': col.replace('_', ' ').title()}}}\n",
    "                ]\n",
    "            }\n",
    "            for i, col in enumerate(columns)\n",
    "        ],\n",
    "        'direction': 'down',\n",
    "        'showactive': True,\n",
    "        'x': 0.5,\n",
    "        'xanchor': 'center',\n",
    "        'y': 1.15,\n",
    "        'yanchor': 'top'\n",
    "    }],\n",
    "    geo=dict(scope='world'),\n",
    "    title=\"Select Demographic Indicator by Country\",\n",
    "    width=1200,\n",
    "    height=600,\n",
    "    margin=dict(l=0, r=0, t=80, b=0)\n",
    ")\n",
    "\n",
    "fig.show()\n"
   ]
  },
  {
   "cell_type": "markdown",
   "id": "1dc90493",
   "metadata": {},
   "source": [
    "# 6. Demographic Analysis"
   ]
  },
  {
   "cell_type": "code",
   "execution_count": 27,
   "id": "65683f82",
   "metadata": {},
   "outputs": [
    {
     "name": "stderr",
     "output_type": "stream",
     "text": [
      "C:\\Users\\user\\AppData\\Roaming\\Python\\Python313\\site-packages\\IPython\\core\\pylabtools.py:170: UserWarning:\n",
      "\n",
      "Creating legend with loc=\"best\" can be slow with large amounts of data.\n",
      "\n"
     ]
    },
    {
     "data": {
      "image/png": "[encoded data removed]",
      "text/plain": [
       "<Figure size 1200x600 with 1 Axes>"
      ]
     },
     "metadata": {},
     "output_type": "display_data"
    },
    {
     "data": {
      "image/png": "[encoded data removed]",
      "text/plain": [
       "<Figure size 1200x600 with 1 Axes>"
      ]
     },
     "metadata": {},
     "output_type": "display_data"
    }
   ],
   "source": [
    "# Relationship between median age and death rate\n",
    "if 'median_age' in df.columns and 'death_rate' in df.columns:\n",
    "    plt.figure(figsize=(12, 6))\n",
    "    sns.scatterplot(x='median_age', y='death_rate', data=df[df['total_cases'] > 100000], \n",
    "                    hue='continent', size='population', sizes=(20, 200))\n",
    "    plt.title('COVID-19 Death Rate vs Median Age', fontsize=16)\n",
    "    plt.xlabel('Median Age', fontsize=14)\n",
    "    plt.ylabel('Death Rate', fontsize=14)\n",
    "    plt.show()\n",
    "\n",
    "\n",
    "# Relationship between life expectancy and death rate\n",
    "if 'life_expectancy' in df.columns and 'death_rate' in df.columns:\n",
    "    plt.figure(figsize=(12, 6))\n",
    "    sns.scatterplot(x='life_expectancy', y='death_rate', data=df[df['total_cases'] > 100000], \n",
    "                    hue='continent', size='population', sizes=(20, 200))\n",
    "    plt.title('COVID-19 Death Rate vs Life Expectancy', fontsize=16)\n",
    "    plt.xlabel('Life Expectancy', fontsize=14)\n",
    "    plt.ylabel('Death Rate', fontsize=14)\n",
    "    plt.show()\n"
   ]
  },
  {
   "cell_type": "markdown",
   "id": "52916e63",
   "metadata": {},
   "source": [
    "## 7. Insights & Key Findings"
   ]
  },
  {
   "cell_type": "markdown",
   "id": "1453bdee",
   "metadata": {},
   "source": [
    "# ### Key Insights:\n",
    "# \n",
    "# 1. **Case Distribution**: \n",
    "#    - The United States, India, and Brazil show the highest total case counts, reflecting their large populations.\n",
    "#    - When adjusted for population (cases per million), smaller European nations like Andorra and Cyprus show the highest infection rates.\n",
    "# \n",
    "# 2. **Vaccination Progress**:\n",
    "#    - Developed nations with higher GDP per capita generally show higher vaccination rates.\n",
    "#    - There's a clear positive correlation between a country's wealth (GDP per capita) and its vaccination rate.\n",
    "#    - Some smaller nations (like Gibraltar, Malta) show exceptionally high vaccination rates.\n",
    "# \n",
    "# 3. **Death Rates**:\n",
    "#    - Countries with older populations (higher median age) tend to show higher death rates.\n",
    "#    - Some countries show unusually high death rates, which may reflect differences in healthcare systems, reporting methods, or testing availability.\n",
    "# \n",
    "# 4. **Regional Patterns**:\n",
    "#    - European and North American countries generally show higher cases per million.\n",
    "#    - African nations show lower reported cases but this may reflect testing limitations rather than actual infection rates.\n",
    "# \n",
    "# 5. **Current Status**:\n",
    "#    - Many countries are showing low or zero new cases/deaths, suggesting the pandemic has transitioned to an endemic phase in these regions.\n",
    "#    - Vaccination rates vary dramatically between developed and developing nations.\n",
    "\n",
    "# ### Recommendations:\n",
    "# \n",
    "# 1. **Vaccine Equity**: Continued efforts needed to improve vaccine access in developing nations.\n",
    "# 2. **Data Transparency**: Improved testing and data reporting in low-income countries would provide better global understanding.\n",
    "# 3. **Healthcare Investment**: Countries with high death rates should invest in healthcare infrastructure for future pandemics.\n",
    "# 4. **Ongoing Monitoring**: Continued surveillance is important to track new variants and potential resurgences.\n",
    "\n",
    "# ## Conclusion\n",
    "# \n",
    "# This analysis provides a snapshot of the global COVID-19 situation based on the latest available data. The visualizations highlight significant disparities in case counts, death rates, and vaccination progress across different countries and regions. The findings underscore the importance of global cooperation in pandemic response and the need for equitable distribution of medical resources.\n",
    "# \n",
    "# Further analysis could incorporate:\n",
    "# - Time series analysis of recent trends\n",
    "# - More detailed demographic breakdowns\n",
    "# - Economic impact assessments\n",
    "# - Variant-specific data analysis"
   ]
  },
  {
   "cell_type": "code",
   "execution_count": 31,
   "id": "d8396fd5",
   "metadata": {},
   "outputs": [
    {
     "name": "stdout",
     "output_type": "stream",
     "text": [
      "Analysis complete. Cleaned data saved to 'cleaned_latest_covid_data.csv'\n"
     ]
    }
   ],
   "source": [
    "# Save the cleaned data for future use\n",
    "df.to_csv('cleaned_latest_covid_data.csv', index=False)\n",
    "\n",
    "print(\"Analysis complete. Cleaned data saved to 'cleaned_latest_covid_data.csv'\")"
   ]
  },
  {
   "cell_type": "code",
   "execution_count": null,
   "id": "3d0b6e9a",
   "metadata": {},
   "outputs": [
    {
     "data": {
      "application/vnd.jupyter.widget-view+json": {
       "model_id": "ed65b8dfad714ab284f783753cb4fbb3",
       "version_major": 2,
       "version_minor": 0
      },
      "text/plain": [
       "VBox(children=(VBox(children=(HBox(children=(SelectMultiple(description='Countries:', index=(239, 238, 83), la…"
      ]
     },
     "metadata": {},
     "output_type": "display_data"
    }
   ],
   "source": [
    "\n",
    "import ipywidgets as widgets\n",
    "from IPython.display import display\n",
    "\n",
    "\n",
    "# Load and prepare data\n",
    "df = pd.read_csv('owid-covid-data.csv')\n",
    "df['date'] = pd.to_datetime(df['date'])\n",
    "\n",
    "# Calculate vaccination percentages\n",
    "df['pct_vaccinated'] = (df['people_vaccinated'] / df['population']) * 100\n",
    "df['pct_fully_vaccinated'] = (df['people_fully_vaccinated'] / df['population']) * 100\n",
    "\n",
    "# Create a function to plot vaccination data\n",
    "def plot_vaccination(countries, chart_type, start_date, end_date):\n",
    "    plt.figure(figsize=(14, 8))\n",
    "    start_date = pd.to_datetime(start_date)\n",
    "    end_date = pd.to_datetime(end_date)\n",
    "    \n",
    "    filtered_data = df[(df['date'] >= start_date) & (df['date'] <= end_date)]\n",
    "    \n",
    "    if chart_type == \"Line Chart\":\n",
    "        # LINE CHART: Vaccination Progress Over Time\n",
    "        for country in countries:\n",
    "            country_data = filtered_data[filtered_data['location'] == country]\n",
    "            if not country_data.empty:\n",
    "                plt.plot(country_data['date'], country_data['pct_vaccinated'], \n",
    "                        label=f'{country} - At least one dose')\n",
    "                plt.plot(country_data['date'], country_data['pct_fully_vaccinated'], \n",
    "                        label=f'{country} - Fully vaccinated', linestyle='--')\n",
    "        \n",
    "        plt.title('Vaccination Progress Over Time')\n",
    "        plt.ylabel('Percentage of Population')\n",
    "        plt.legend()\n",
    "        plt.grid(True)\n",
    "    \n",
    "    elif chart_type == \"Bar Chart\":\n",
    "        # BAR CHART: Latest vaccination percentages\n",
    "        latest_data = filtered_data.groupby('location').last().reset_index()\n",
    "        \n",
    "        width = 0.35\n",
    "        x = range(len(countries))\n",
    "        \n",
    "        for i, country in enumerate(countries):\n",
    "            country_data = latest_data[latest_data['location'] == country]\n",
    "            if not country_data.empty:\n",
    "                plt.bar(i-width/2, country_data['pct_vaccinated'].values[0], width, \n",
    "                       label=f'{country} - At least one dose', color='tab:blue')\n",
    "                plt.bar(i+width/2, country_data['pct_fully_vaccinated'].values[0], width, \n",
    "                       label=f'{country} - Fully vaccinated', color='tab:orange')\n",
    "        \n",
    "        plt.xticks(x, countries)\n",
    "        plt.title('Latest Vaccination Percentage Comparison')\n",
    "        plt.ylabel('Percentage of Population')\n",
    "        plt.legend()\n",
    "        plt.grid(True)\n",
    "    \n",
    "    elif chart_type == \"Pie Chart\":\n",
    "        # PIE CHART: Vaccination status for one country\n",
    "        if len(countries) == 1:\n",
    "            country = countries[0]\n",
    "            latest = filtered_data[filtered_data['location'] == country].iloc[-1]\n",
    "            \n",
    "            vaccinated = latest['pct_vaccinated']\n",
    "            fully_vaccinated = latest['pct_fully_vaccinated']\n",
    "            unvaccinated = 100 - vaccinated\n",
    "            \n",
    "            sizes = [fully_vaccinated, vaccinated-fully_vaccinated, unvaccinated]\n",
    "            labels = ['Fully Vaccinated', 'Partially Vaccinated', 'Unvaccinated']\n",
    "            colors = ['#2ca02c', '#ff7f0e', '#d62728']\n",
    "            \n",
    "            plt.pie(sizes, labels=labels, colors=colors, autopct='%1.1f%%',\n",
    "                   startangle=90, wedgeprops={'edgecolor': 'white'})\n",
    "            plt.title(f'Vaccination Status: {country}\\n({latest[\"date\"].date()})')\n",
    "        else:\n",
    "            print(\"Pie chart can only show one country at a time\")\n",
    "            return\n",
    "    \n",
    "    plt.tight_layout()\n",
    "    plt.show()\n",
    "\n",
    "# Widget setup\n",
    "countries = sorted(df['location'].unique())\n",
    "min_date = df['date'].min().date()\n",
    "max_date = df['date'].max().date()\n",
    "\n",
    "# Create widgets\n",
    "country_select = widgets.SelectMultiple(\n",
    "    options=countries,\n",
    "    value=['United States', 'United Kingdom', 'Germany'],\n",
    "    description='Countries:',\n",
    "    layout={'width': '300px'}\n",
    ")\n",
    "\n",
    "chart_type_select = widgets.RadioButtons(\n",
    "    options=['Line Chart', 'Bar Chart', 'Pie Chart'],\n",
    "    value='Line Chart',\n",
    "    description='Chart Type:'\n",
    ")\n",
    "\n",
    "start_date_picker = widgets.DatePicker(\n",
    "    value=min_date,\n",
    "    min=min_date,\n",
    "    max=max_date,\n",
    "    description='Start Date:',\n",
    "    disabled=False\n",
    ")\n",
    "\n",
    "end_date_picker = widgets.DatePicker(\n",
    "    value=max_date,\n",
    "    min=min_date,\n",
    "    max=max_date,\n",
    "    description='End Date:',\n",
    "    disabled=False\n",
    ")\n",
    "\n",
    "# Create interactive output\n",
    "out = widgets.interactive_output(\n",
    "    plot_vaccination,\n",
    "    {\n",
    "        'countries': country_select,\n",
    "        'chart_type': chart_type_select,\n",
    "        'start_date': start_date_picker,\n",
    "        'end_date': end_date_picker\n",
    "    }\n",
    ")\n",
    "\n",
    "# Display widgets in an organized layout\n",
    "controls = widgets.VBox([\n",
    "    widgets.HBox([country_select, chart_type_select]),\n",
    "    widgets.HBox([start_date_picker, end_date_picker])\n",
    "])\n",
    "\n",
    "display(widgets.VBox([controls, out]))"
   ]
  },
  {
   "cell_type": "code",
   "execution_count": 34,
   "id": "cbe2202a",
   "metadata": {},
   "outputs": [
    {
     "name": "stdout",
     "output_type": "stream",
     "text": [
      "\n",
      "Hospitalization Data Available:\n"
     ]
    },
    {
     "data": {
      "image/png": "[encoded data removed]",
      "text/plain": [
       "<Figure size 1200x600 with 1 Axes>"
      ]
     },
     "metadata": {},
     "output_type": "display_data"
    }
   ],
   "source": [
    "# Check for hospitalization metrics\n",
    "hospitalization_metrics = ['hosp_patients', 'icu_patients', 'weekly_hosp_admissions']\n",
    "available_metrics = [m for m in hospitalization_metrics if m in df.columns]\n",
    "\n",
    "if available_metrics:\n",
    "    print(\"\\nHospitalization Data Available:\")\n",
    "    \n",
    "    # Plot hospitalization data for a specific country\n",
    "    country = \"United States\"  # or use interactive widget\n",
    "    hosp_data = df[df['location'] == country]\n",
    "    \n",
    "    plt.figure(figsize=(12, 6))\n",
    "    for metric in available_metrics:\n",
    "        plt.plot(hosp_data['date'], hosp_data[metric], label=metric)\n",
    "    \n",
    "    plt.title(f'Hospitalization Metrics for {country}')\n",
    "    plt.xlabel('Date')\n",
    "    plt.ylabel('Patients')\n",
    "    plt.legend()\n",
    "    plt.show()\n",
    "else:\n",
    "    print(\"No hospitalization data available in this dataset\")"
   ]
  },
  {
   "cell_type": "code",
   "execution_count": null,
   "id": "dda0424c",
   "metadata": {},
   "outputs": [
    {
     "name": "stdout",
     "output_type": "stream",
     "text": [
      "Analysis report saved as 'covid_analysis_report.pdf'\n"
     ]
    }
   ],
   "source": [
    "from matplotlib.backends.backend_pdf import PdfPages\n",
    "\n",
    "# Create a PDF file\n",
    "with PdfPages('covid_analysis_report.pdf') as pdf:\n",
    "    # Example plot\n",
    "    plt.figure(figsize=(10, 6))\n",
    "    sns.histplot(df['new_cases'], bins=50)\n",
    "    plt.title('Distribution of New COVID-19 Cases')\n",
    "    pdf.savefig()  # saves the current figure into the PDF\n",
    "    plt.close()\n",
    "    \n",
    "print(\"Analysis report saved as 'covid_analysis_report.pdf'\")\n",
    "# End of the analysis"
   ]
  }
 ],
 "metadata": {
  "kernelspec": {
   "display_name": "Python 3",
   "language": "python",
   "name": "python3"
  },
  "language_info": {
   "codemirror_mode": {
    "name": "ipython",
    "version": 3
   },
   "file_extension": ".py",
   "mimetype": "text/x-python",
   "name": "python",
   "nbconvert_exporter": "python",
   "pygments_lexer": "ipython3",
   "version": "3.13.1"
  }
 },
 "nbformat": 4,
 "nbformat_minor": 5
}
